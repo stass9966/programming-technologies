{
  "cells": [
    {
      "cell_type": "markdown",
      "metadata": {
        "id": "Ffq6A2-ifzAA"
      },
      "source": [
        "# Интеллектуальный анализ данных – весна 2025\n",
        "# Домашнее задание 6: классификация текстов"
      ]
    },
    {
      "cell_type": "markdown",
      "source": [
        "Правила:\n",
        "\n",
        "\n",
        "\n",
        "*   Домашнее задание оценивается в 10 баллов.\n",
        "*   Можно использовать без доказательства любые результаты, встречавшиеся на лекциях или семинарах по курсу, если получение этих результатов не является вопросом задания.\n",
        "*  Можно использовать любые свободные источники с *обязательным* указанием ссылки на них.\n",
        "*  Плагиат не допускается. При обнаружении случаев списывания, 0 за работу выставляется всем участникам нарушения, даже если можно установить, кто у кого списал.\n",
        "*  Старайтесь сделать код как можно более оптимальным. В частности, будет штрафоваться использование циклов в тех случаях, когда операцию можно совершить при помощи инструментов библиотек, о которых рассказывалось в курсе.\n",
        "* Если в задании есть вопрос на рассуждение, то за отсутствие ответа на него балл за задание будет снижен вполовину."
      ],
      "metadata": {
        "id": "EPcxtekTA1Sm"
      }
    },
    {
      "cell_type": "markdown",
      "metadata": {
        "id": "itRtFtrOf0_b"
      },
      "source": [
        "В этом домашнем задании вам предстоит построить классификатор текстов.\n",
        "\n",
        "Будем предсказывать эмоциональную окраску твиттов о коронавирусе.\n",
        "\n"
      ]
    },
    {
      "cell_type": "code",
      "execution_count": 1,
      "metadata": {
        "id": "tNGRVO7_g9mz"
      },
      "outputs": [],
      "source": [
        "import numpy as np\n",
        "import pandas as pd\n",
        "from typing import  List\n",
        "import matplotlib.pyplot as plt\n",
        "import seaborn as sns\n",
        "from string import punctuation"
      ]
    },
    {
      "cell_type": "code",
      "execution_count": 2,
      "metadata": {
        "id": "zOy8iHJQg_Ss",
        "colab": {
          "base_uri": "https://localhost:8080/",
          "height": 175
        },
        "outputId": "197db33f-28fd-4004-8963-99b48a3dc692"
      },
      "outputs": [
        {
          "output_type": "execute_result",
          "data": {
            "text/plain": [
              "       UserName  ScreenName                  Location     TweetAt  \\\n",
              "11372     17591       62543                   England  21-03-2020   \n",
              "29828     40420       85372       By the Lake Oakland  09-04-2020   \n",
              "31752     42861       87813                       NaN  12-04-2020   \n",
              "4961       9835       54787  16 Park Road, Cheltenham  19-03-2020   \n",
              "\n",
              "                                           OriginalTweet           Sentiment  \n",
              "11372  Up at 06.40 this morning to put ten horses out...            Negative  \n",
              "29828  You know shits fucked up when going to the gro...  Extremely Negative  \n",
              "31752  Get a handy 30ml sanitizer bottle, Indus Valle...            Positive  \n",
              "4961   gov warns of scammers exploiting to sell fraud...  Extremely Negative  "
            ],
            "text/html": [
              "\n",
              "  <div id=\"df-7eb66b0d-070a-4a6e-b286-3b6297a53530\" class=\"colab-df-container\">\n",
              "    <div>\n",
              "<style scoped>\n",
              "    .dataframe tbody tr th:only-of-type {\n",
              "        vertical-align: middle;\n",
              "    }\n",
              "\n",
              "    .dataframe tbody tr th {\n",
              "        vertical-align: top;\n",
              "    }\n",
              "\n",
              "    .dataframe thead th {\n",
              "        text-align: right;\n",
              "    }\n",
              "</style>\n",
              "<table border=\"1\" class=\"dataframe\">\n",
              "  <thead>\n",
              "    <tr style=\"text-align: right;\">\n",
              "      <th></th>\n",
              "      <th>UserName</th>\n",
              "      <th>ScreenName</th>\n",
              "      <th>Location</th>\n",
              "      <th>TweetAt</th>\n",
              "      <th>OriginalTweet</th>\n",
              "      <th>Sentiment</th>\n",
              "    </tr>\n",
              "  </thead>\n",
              "  <tbody>\n",
              "    <tr>\n",
              "      <th>11372</th>\n",
              "      <td>17591</td>\n",
              "      <td>62543</td>\n",
              "      <td>England</td>\n",
              "      <td>21-03-2020</td>\n",
              "      <td>Up at 06.40 this morning to put ten horses out...</td>\n",
              "      <td>Negative</td>\n",
              "    </tr>\n",
              "    <tr>\n",
              "      <th>29828</th>\n",
              "      <td>40420</td>\n",
              "      <td>85372</td>\n",
              "      <td>By the Lake Oakland</td>\n",
              "      <td>09-04-2020</td>\n",
              "      <td>You know shits fucked up when going to the gro...</td>\n",
              "      <td>Extremely Negative</td>\n",
              "    </tr>\n",
              "    <tr>\n",
              "      <th>31752</th>\n",
              "      <td>42861</td>\n",
              "      <td>87813</td>\n",
              "      <td>NaN</td>\n",
              "      <td>12-04-2020</td>\n",
              "      <td>Get a handy 30ml sanitizer bottle, Indus Valle...</td>\n",
              "      <td>Positive</td>\n",
              "    </tr>\n",
              "    <tr>\n",
              "      <th>4961</th>\n",
              "      <td>9835</td>\n",
              "      <td>54787</td>\n",
              "      <td>16 Park Road, Cheltenham</td>\n",
              "      <td>19-03-2020</td>\n",
              "      <td>gov warns of scammers exploiting to sell fraud...</td>\n",
              "      <td>Extremely Negative</td>\n",
              "    </tr>\n",
              "  </tbody>\n",
              "</table>\n",
              "</div>\n",
              "    <div class=\"colab-df-buttons\">\n",
              "\n",
              "  <div class=\"colab-df-container\">\n",
              "    <button class=\"colab-df-convert\" onclick=\"convertToInteractive('df-7eb66b0d-070a-4a6e-b286-3b6297a53530')\"\n",
              "            title=\"Convert this dataframe to an interactive table.\"\n",
              "            style=\"display:none;\">\n",
              "\n",
              "  <svg xmlns=\"http://www.w3.org/2000/svg\" height=\"24px\" viewBox=\"0 -960 960 960\">\n",
              "    <path d=\"M120-120v-720h720v720H120Zm60-500h600v-160H180v160Zm220 220h160v-160H400v160Zm0 220h160v-160H400v160ZM180-400h160v-160H180v160Zm440 0h160v-160H620v160ZM180-180h160v-160H180v160Zm440 0h160v-160H620v160Z\"/>\n",
              "  </svg>\n",
              "    </button>\n",
              "\n",
              "  <style>\n",
              "    .colab-df-container {\n",
              "      display:flex;\n",
              "      gap: 12px;\n",
              "    }\n",
              "\n",
              "    .colab-df-convert {\n",
              "      background-color: #E8F0FE;\n",
              "      border: none;\n",
              "      border-radius: 50%;\n",
              "      cursor: pointer;\n",
              "      display: none;\n",
              "      fill: #1967D2;\n",
              "      height: 32px;\n",
              "      padding: 0 0 0 0;\n",
              "      width: 32px;\n",
              "    }\n",
              "\n",
              "    .colab-df-convert:hover {\n",
              "      background-color: #E2EBFA;\n",
              "      box-shadow: 0px 1px 2px rgba(60, 64, 67, 0.3), 0px 1px 3px 1px rgba(60, 64, 67, 0.15);\n",
              "      fill: #174EA6;\n",
              "    }\n",
              "\n",
              "    .colab-df-buttons div {\n",
              "      margin-bottom: 4px;\n",
              "    }\n",
              "\n",
              "    [theme=dark] .colab-df-convert {\n",
              "      background-color: #3B4455;\n",
              "      fill: #D2E3FC;\n",
              "    }\n",
              "\n",
              "    [theme=dark] .colab-df-convert:hover {\n",
              "      background-color: #434B5C;\n",
              "      box-shadow: 0px 1px 3px 1px rgba(0, 0, 0, 0.15);\n",
              "      filter: drop-shadow(0px 1px 2px rgba(0, 0, 0, 0.3));\n",
              "      fill: #FFFFFF;\n",
              "    }\n",
              "  </style>\n",
              "\n",
              "    <script>\n",
              "      const buttonEl =\n",
              "        document.querySelector('#df-7eb66b0d-070a-4a6e-b286-3b6297a53530 button.colab-df-convert');\n",
              "      buttonEl.style.display =\n",
              "        google.colab.kernel.accessAllowed ? 'block' : 'none';\n",
              "\n",
              "      async function convertToInteractive(key) {\n",
              "        const element = document.querySelector('#df-7eb66b0d-070a-4a6e-b286-3b6297a53530');\n",
              "        const dataTable =\n",
              "          await google.colab.kernel.invokeFunction('convertToInteractive',\n",
              "                                                    [key], {});\n",
              "        if (!dataTable) return;\n",
              "\n",
              "        const docLinkHtml = 'Like what you see? Visit the ' +\n",
              "          '<a target=\"_blank\" href=https://colab.research.google.com/notebooks/data_table.ipynb>data table notebook</a>'\n",
              "          + ' to learn more about interactive tables.';\n",
              "        element.innerHTML = '';\n",
              "        dataTable['output_type'] = 'display_data';\n",
              "        await google.colab.output.renderOutput(dataTable, element);\n",
              "        const docLink = document.createElement('div');\n",
              "        docLink.innerHTML = docLinkHtml;\n",
              "        element.appendChild(docLink);\n",
              "      }\n",
              "    </script>\n",
              "  </div>\n",
              "\n",
              "\n",
              "    <div id=\"df-4c57adf6-f1da-4424-80cc-fec27405c715\">\n",
              "      <button class=\"colab-df-quickchart\" onclick=\"quickchart('df-4c57adf6-f1da-4424-80cc-fec27405c715')\"\n",
              "                title=\"Suggest charts\"\n",
              "                style=\"display:none;\">\n",
              "\n",
              "<svg xmlns=\"http://www.w3.org/2000/svg\" height=\"24px\"viewBox=\"0 0 24 24\"\n",
              "     width=\"24px\">\n",
              "    <g>\n",
              "        <path d=\"M19 3H5c-1.1 0-2 .9-2 2v14c0 1.1.9 2 2 2h14c1.1 0 2-.9 2-2V5c0-1.1-.9-2-2-2zM9 17H7v-7h2v7zm4 0h-2V7h2v10zm4 0h-2v-4h2v4z\"/>\n",
              "    </g>\n",
              "</svg>\n",
              "      </button>\n",
              "\n",
              "<style>\n",
              "  .colab-df-quickchart {\n",
              "      --bg-color: #E8F0FE;\n",
              "      --fill-color: #1967D2;\n",
              "      --hover-bg-color: #E2EBFA;\n",
              "      --hover-fill-color: #174EA6;\n",
              "      --disabled-fill-color: #AAA;\n",
              "      --disabled-bg-color: #DDD;\n",
              "  }\n",
              "\n",
              "  [theme=dark] .colab-df-quickchart {\n",
              "      --bg-color: #3B4455;\n",
              "      --fill-color: #D2E3FC;\n",
              "      --hover-bg-color: #434B5C;\n",
              "      --hover-fill-color: #FFFFFF;\n",
              "      --disabled-bg-color: #3B4455;\n",
              "      --disabled-fill-color: #666;\n",
              "  }\n",
              "\n",
              "  .colab-df-quickchart {\n",
              "    background-color: var(--bg-color);\n",
              "    border: none;\n",
              "    border-radius: 50%;\n",
              "    cursor: pointer;\n",
              "    display: none;\n",
              "    fill: var(--fill-color);\n",
              "    height: 32px;\n",
              "    padding: 0;\n",
              "    width: 32px;\n",
              "  }\n",
              "\n",
              "  .colab-df-quickchart:hover {\n",
              "    background-color: var(--hover-bg-color);\n",
              "    box-shadow: 0 1px 2px rgba(60, 64, 67, 0.3), 0 1px 3px 1px rgba(60, 64, 67, 0.15);\n",
              "    fill: var(--button-hover-fill-color);\n",
              "  }\n",
              "\n",
              "  .colab-df-quickchart-complete:disabled,\n",
              "  .colab-df-quickchart-complete:disabled:hover {\n",
              "    background-color: var(--disabled-bg-color);\n",
              "    fill: var(--disabled-fill-color);\n",
              "    box-shadow: none;\n",
              "  }\n",
              "\n",
              "  .colab-df-spinner {\n",
              "    border: 2px solid var(--fill-color);\n",
              "    border-color: transparent;\n",
              "    border-bottom-color: var(--fill-color);\n",
              "    animation:\n",
              "      spin 1s steps(1) infinite;\n",
              "  }\n",
              "\n",
              "  @keyframes spin {\n",
              "    0% {\n",
              "      border-color: transparent;\n",
              "      border-bottom-color: var(--fill-color);\n",
              "      border-left-color: var(--fill-color);\n",
              "    }\n",
              "    20% {\n",
              "      border-color: transparent;\n",
              "      border-left-color: var(--fill-color);\n",
              "      border-top-color: var(--fill-color);\n",
              "    }\n",
              "    30% {\n",
              "      border-color: transparent;\n",
              "      border-left-color: var(--fill-color);\n",
              "      border-top-color: var(--fill-color);\n",
              "      border-right-color: var(--fill-color);\n",
              "    }\n",
              "    40% {\n",
              "      border-color: transparent;\n",
              "      border-right-color: var(--fill-color);\n",
              "      border-top-color: var(--fill-color);\n",
              "    }\n",
              "    60% {\n",
              "      border-color: transparent;\n",
              "      border-right-color: var(--fill-color);\n",
              "    }\n",
              "    80% {\n",
              "      border-color: transparent;\n",
              "      border-right-color: var(--fill-color);\n",
              "      border-bottom-color: var(--fill-color);\n",
              "    }\n",
              "    90% {\n",
              "      border-color: transparent;\n",
              "      border-bottom-color: var(--fill-color);\n",
              "    }\n",
              "  }\n",
              "</style>\n",
              "\n",
              "      <script>\n",
              "        async function quickchart(key) {\n",
              "          const quickchartButtonEl =\n",
              "            document.querySelector('#' + key + ' button');\n",
              "          quickchartButtonEl.disabled = true;  // To prevent multiple clicks.\n",
              "          quickchartButtonEl.classList.add('colab-df-spinner');\n",
              "          try {\n",
              "            const charts = await google.colab.kernel.invokeFunction(\n",
              "                'suggestCharts', [key], {});\n",
              "          } catch (error) {\n",
              "            console.error('Error during call to suggestCharts:', error);\n",
              "          }\n",
              "          quickchartButtonEl.classList.remove('colab-df-spinner');\n",
              "          quickchartButtonEl.classList.add('colab-df-quickchart-complete');\n",
              "        }\n",
              "        (() => {\n",
              "          let quickchartButtonEl =\n",
              "            document.querySelector('#df-4c57adf6-f1da-4424-80cc-fec27405c715 button');\n",
              "          quickchartButtonEl.style.display =\n",
              "            google.colab.kernel.accessAllowed ? 'block' : 'none';\n",
              "        })();\n",
              "      </script>\n",
              "    </div>\n",
              "    </div>\n",
              "  </div>\n"
            ],
            "application/vnd.google.colaboratory.intrinsic+json": {
              "type": "dataframe",
              "repr_error": "0"
            }
          },
          "metadata": {},
          "execution_count": 2
        }
      ],
      "source": [
        "df = pd.read_csv('/content/tweets_coronavirus.csv', encoding='latin-1')\n",
        "df.sample(4)"
      ]
    },
    {
      "cell_type": "markdown",
      "metadata": {
        "id": "m2OiDog9ZBlS"
      },
      "source": [
        "Для каждого твитта указано:\n",
        "\n",
        "\n",
        "*   UserName - имя пользователя, заменено на целое число для анонимности\n",
        "*   ScreenName - отображающееся имя пользователя, заменено на целое число для анонимности\n",
        "*   Location - местоположение\n",
        "*   TweetAt - дата создания твитта\n",
        "*   OriginalTweet - текст твитта\n",
        "*   Sentiment - эмоциональная окраска твитта (целевая переменная)\n",
        "\n"
      ]
    },
    {
      "cell_type": "markdown",
      "metadata": {
        "id": "pZTMseDkhTC7"
      },
      "source": [
        "## Задание 1 Подготовка (0.5 балла)"
      ]
    },
    {
      "cell_type": "markdown",
      "metadata": {
        "id": "Xx2-odn9hdAW"
      },
      "source": [
        "Целевая переменная находится в колонке `Sentiment`.  Преобразуйте ее таким образом, чтобы она стала бинарной: 1 - если у твитта положительная или очень положительная эмоциональная окраска и 0 - если отрицательная или очень отрицательная."
      ]
    },
    {
      "cell_type": "code",
      "execution_count": 3,
      "metadata": {
        "id": "ZaQKQ1zEjP15",
        "colab": {
          "base_uri": "https://localhost:8080/",
          "height": 423
        },
        "outputId": "efe28d11-c516-4990-9c0b-2f8be503e987"
      },
      "outputs": [
        {
          "output_type": "execute_result",
          "data": {
            "text/plain": [
              "       UserName  ScreenName                      Location     TweetAt  \\\n",
              "0          3800       48752                            UK  16-03-2020   \n",
              "1          3801       48753                     Vagabonds  16-03-2020   \n",
              "2          3802       48754                           NaN  16-03-2020   \n",
              "3          3803       48755                           NaN  16-03-2020   \n",
              "4          3804       48756   ÃÂT: 36.319708,-82.363649  16-03-2020   \n",
              "...         ...         ...                           ...         ...   \n",
              "33439     44949       89901                          OHIO  14-04-2020   \n",
              "33440     44950       89902                           NaN  14-04-2020   \n",
              "33441     44952       89904                           NaN  14-04-2020   \n",
              "33442     44953       89905                           NaN  14-04-2020   \n",
              "33443     44955       89907  i love you so much || he/him  14-04-2020   \n",
              "\n",
              "                                           OriginalTweet  Sentiment  \n",
              "0      advice Talk to your neighbours family to excha...          1  \n",
              "1      Coronavirus Australia: Woolworths to give elde...          1  \n",
              "2      My food stock is not the only one which is emp...          1  \n",
              "3      Me, ready to go at supermarket during the #COV...          0  \n",
              "4      As news of the regionÃÂs first confirmed COV...          1  \n",
              "...                                                  ...        ...  \n",
              "33439  I never that weÃÂd be in a situation &amp; w...          1  \n",
              "33440  @MrSilverScott you are definitely my man. I fe...          1  \n",
              "33441  Response to complaint not provided citing COVI...          0  \n",
              "33442  You know itÃÂs getting tough when @KameronWi...          1  \n",
              "33443  @TartiiCat Well new/used Rift S are going for ...          0  \n",
              "\n",
              "[33444 rows x 6 columns]"
            ],
            "text/html": [
              "\n",
              "  <div id=\"df-7d6adeda-414a-4bfd-8623-3180231964dd\" class=\"colab-df-container\">\n",
              "    <div>\n",
              "<style scoped>\n",
              "    .dataframe tbody tr th:only-of-type {\n",
              "        vertical-align: middle;\n",
              "    }\n",
              "\n",
              "    .dataframe tbody tr th {\n",
              "        vertical-align: top;\n",
              "    }\n",
              "\n",
              "    .dataframe thead th {\n",
              "        text-align: right;\n",
              "    }\n",
              "</style>\n",
              "<table border=\"1\" class=\"dataframe\">\n",
              "  <thead>\n",
              "    <tr style=\"text-align: right;\">\n",
              "      <th></th>\n",
              "      <th>UserName</th>\n",
              "      <th>ScreenName</th>\n",
              "      <th>Location</th>\n",
              "      <th>TweetAt</th>\n",
              "      <th>OriginalTweet</th>\n",
              "      <th>Sentiment</th>\n",
              "    </tr>\n",
              "  </thead>\n",
              "  <tbody>\n",
              "    <tr>\n",
              "      <th>0</th>\n",
              "      <td>3800</td>\n",
              "      <td>48752</td>\n",
              "      <td>UK</td>\n",
              "      <td>16-03-2020</td>\n",
              "      <td>advice Talk to your neighbours family to excha...</td>\n",
              "      <td>1</td>\n",
              "    </tr>\n",
              "    <tr>\n",
              "      <th>1</th>\n",
              "      <td>3801</td>\n",
              "      <td>48753</td>\n",
              "      <td>Vagabonds</td>\n",
              "      <td>16-03-2020</td>\n",
              "      <td>Coronavirus Australia: Woolworths to give elde...</td>\n",
              "      <td>1</td>\n",
              "    </tr>\n",
              "    <tr>\n",
              "      <th>2</th>\n",
              "      <td>3802</td>\n",
              "      <td>48754</td>\n",
              "      <td>NaN</td>\n",
              "      <td>16-03-2020</td>\n",
              "      <td>My food stock is not the only one which is emp...</td>\n",
              "      <td>1</td>\n",
              "    </tr>\n",
              "    <tr>\n",
              "      <th>3</th>\n",
              "      <td>3803</td>\n",
              "      <td>48755</td>\n",
              "      <td>NaN</td>\n",
              "      <td>16-03-2020</td>\n",
              "      <td>Me, ready to go at supermarket during the #COV...</td>\n",
              "      <td>0</td>\n",
              "    </tr>\n",
              "    <tr>\n",
              "      <th>4</th>\n",
              "      <td>3804</td>\n",
              "      <td>48756</td>\n",
              "      <td>ÃÂT: 36.319708,-82.363649</td>\n",
              "      <td>16-03-2020</td>\n",
              "      <td>As news of the regionÃÂs first confirmed COV...</td>\n",
              "      <td>1</td>\n",
              "    </tr>\n",
              "    <tr>\n",
              "      <th>...</th>\n",
              "      <td>...</td>\n",
              "      <td>...</td>\n",
              "      <td>...</td>\n",
              "      <td>...</td>\n",
              "      <td>...</td>\n",
              "      <td>...</td>\n",
              "    </tr>\n",
              "    <tr>\n",
              "      <th>33439</th>\n",
              "      <td>44949</td>\n",
              "      <td>89901</td>\n",
              "      <td>OHIO</td>\n",
              "      <td>14-04-2020</td>\n",
              "      <td>I never that weÃÂd be in a situation &amp;amp; w...</td>\n",
              "      <td>1</td>\n",
              "    </tr>\n",
              "    <tr>\n",
              "      <th>33440</th>\n",
              "      <td>44950</td>\n",
              "      <td>89902</td>\n",
              "      <td>NaN</td>\n",
              "      <td>14-04-2020</td>\n",
              "      <td>@MrSilverScott you are definitely my man. I fe...</td>\n",
              "      <td>1</td>\n",
              "    </tr>\n",
              "    <tr>\n",
              "      <th>33441</th>\n",
              "      <td>44952</td>\n",
              "      <td>89904</td>\n",
              "      <td>NaN</td>\n",
              "      <td>14-04-2020</td>\n",
              "      <td>Response to complaint not provided citing COVI...</td>\n",
              "      <td>0</td>\n",
              "    </tr>\n",
              "    <tr>\n",
              "      <th>33442</th>\n",
              "      <td>44953</td>\n",
              "      <td>89905</td>\n",
              "      <td>NaN</td>\n",
              "      <td>14-04-2020</td>\n",
              "      <td>You know itÃÂs getting tough when @KameronWi...</td>\n",
              "      <td>1</td>\n",
              "    </tr>\n",
              "    <tr>\n",
              "      <th>33443</th>\n",
              "      <td>44955</td>\n",
              "      <td>89907</td>\n",
              "      <td>i love you so much || he/him</td>\n",
              "      <td>14-04-2020</td>\n",
              "      <td>@TartiiCat Well new/used Rift S are going for ...</td>\n",
              "      <td>0</td>\n",
              "    </tr>\n",
              "  </tbody>\n",
              "</table>\n",
              "<p>33444 rows × 6 columns</p>\n",
              "</div>\n",
              "    <div class=\"colab-df-buttons\">\n",
              "\n",
              "  <div class=\"colab-df-container\">\n",
              "    <button class=\"colab-df-convert\" onclick=\"convertToInteractive('df-7d6adeda-414a-4bfd-8623-3180231964dd')\"\n",
              "            title=\"Convert this dataframe to an interactive table.\"\n",
              "            style=\"display:none;\">\n",
              "\n",
              "  <svg xmlns=\"http://www.w3.org/2000/svg\" height=\"24px\" viewBox=\"0 -960 960 960\">\n",
              "    <path d=\"M120-120v-720h720v720H120Zm60-500h600v-160H180v160Zm220 220h160v-160H400v160Zm0 220h160v-160H400v160ZM180-400h160v-160H180v160Zm440 0h160v-160H620v160ZM180-180h160v-160H180v160Zm440 0h160v-160H620v160Z\"/>\n",
              "  </svg>\n",
              "    </button>\n",
              "\n",
              "  <style>\n",
              "    .colab-df-container {\n",
              "      display:flex;\n",
              "      gap: 12px;\n",
              "    }\n",
              "\n",
              "    .colab-df-convert {\n",
              "      background-color: #E8F0FE;\n",
              "      border: none;\n",
              "      border-radius: 50%;\n",
              "      cursor: pointer;\n",
              "      display: none;\n",
              "      fill: #1967D2;\n",
              "      height: 32px;\n",
              "      padding: 0 0 0 0;\n",
              "      width: 32px;\n",
              "    }\n",
              "\n",
              "    .colab-df-convert:hover {\n",
              "      background-color: #E2EBFA;\n",
              "      box-shadow: 0px 1px 2px rgba(60, 64, 67, 0.3), 0px 1px 3px 1px rgba(60, 64, 67, 0.15);\n",
              "      fill: #174EA6;\n",
              "    }\n",
              "\n",
              "    .colab-df-buttons div {\n",
              "      margin-bottom: 4px;\n",
              "    }\n",
              "\n",
              "    [theme=dark] .colab-df-convert {\n",
              "      background-color: #3B4455;\n",
              "      fill: #D2E3FC;\n",
              "    }\n",
              "\n",
              "    [theme=dark] .colab-df-convert:hover {\n",
              "      background-color: #434B5C;\n",
              "      box-shadow: 0px 1px 3px 1px rgba(0, 0, 0, 0.15);\n",
              "      filter: drop-shadow(0px 1px 2px rgba(0, 0, 0, 0.3));\n",
              "      fill: #FFFFFF;\n",
              "    }\n",
              "  </style>\n",
              "\n",
              "    <script>\n",
              "      const buttonEl =\n",
              "        document.querySelector('#df-7d6adeda-414a-4bfd-8623-3180231964dd button.colab-df-convert');\n",
              "      buttonEl.style.display =\n",
              "        google.colab.kernel.accessAllowed ? 'block' : 'none';\n",
              "\n",
              "      async function convertToInteractive(key) {\n",
              "        const element = document.querySelector('#df-7d6adeda-414a-4bfd-8623-3180231964dd');\n",
              "        const dataTable =\n",
              "          await google.colab.kernel.invokeFunction('convertToInteractive',\n",
              "                                                    [key], {});\n",
              "        if (!dataTable) return;\n",
              "\n",
              "        const docLinkHtml = 'Like what you see? Visit the ' +\n",
              "          '<a target=\"_blank\" href=https://colab.research.google.com/notebooks/data_table.ipynb>data table notebook</a>'\n",
              "          + ' to learn more about interactive tables.';\n",
              "        element.innerHTML = '';\n",
              "        dataTable['output_type'] = 'display_data';\n",
              "        await google.colab.output.renderOutput(dataTable, element);\n",
              "        const docLink = document.createElement('div');\n",
              "        docLink.innerHTML = docLinkHtml;\n",
              "        element.appendChild(docLink);\n",
              "      }\n",
              "    </script>\n",
              "  </div>\n",
              "\n",
              "\n",
              "    <div id=\"df-22460243-793a-490e-ade6-df3bdb0208b7\">\n",
              "      <button class=\"colab-df-quickchart\" onclick=\"quickchart('df-22460243-793a-490e-ade6-df3bdb0208b7')\"\n",
              "                title=\"Suggest charts\"\n",
              "                style=\"display:none;\">\n",
              "\n",
              "<svg xmlns=\"http://www.w3.org/2000/svg\" height=\"24px\"viewBox=\"0 0 24 24\"\n",
              "     width=\"24px\">\n",
              "    <g>\n",
              "        <path d=\"M19 3H5c-1.1 0-2 .9-2 2v14c0 1.1.9 2 2 2h14c1.1 0 2-.9 2-2V5c0-1.1-.9-2-2-2zM9 17H7v-7h2v7zm4 0h-2V7h2v10zm4 0h-2v-4h2v4z\"/>\n",
              "    </g>\n",
              "</svg>\n",
              "      </button>\n",
              "\n",
              "<style>\n",
              "  .colab-df-quickchart {\n",
              "      --bg-color: #E8F0FE;\n",
              "      --fill-color: #1967D2;\n",
              "      --hover-bg-color: #E2EBFA;\n",
              "      --hover-fill-color: #174EA6;\n",
              "      --disabled-fill-color: #AAA;\n",
              "      --disabled-bg-color: #DDD;\n",
              "  }\n",
              "\n",
              "  [theme=dark] .colab-df-quickchart {\n",
              "      --bg-color: #3B4455;\n",
              "      --fill-color: #D2E3FC;\n",
              "      --hover-bg-color: #434B5C;\n",
              "      --hover-fill-color: #FFFFFF;\n",
              "      --disabled-bg-color: #3B4455;\n",
              "      --disabled-fill-color: #666;\n",
              "  }\n",
              "\n",
              "  .colab-df-quickchart {\n",
              "    background-color: var(--bg-color);\n",
              "    border: none;\n",
              "    border-radius: 50%;\n",
              "    cursor: pointer;\n",
              "    display: none;\n",
              "    fill: var(--fill-color);\n",
              "    height: 32px;\n",
              "    padding: 0;\n",
              "    width: 32px;\n",
              "  }\n",
              "\n",
              "  .colab-df-quickchart:hover {\n",
              "    background-color: var(--hover-bg-color);\n",
              "    box-shadow: 0 1px 2px rgba(60, 64, 67, 0.3), 0 1px 3px 1px rgba(60, 64, 67, 0.15);\n",
              "    fill: var(--button-hover-fill-color);\n",
              "  }\n",
              "\n",
              "  .colab-df-quickchart-complete:disabled,\n",
              "  .colab-df-quickchart-complete:disabled:hover {\n",
              "    background-color: var(--disabled-bg-color);\n",
              "    fill: var(--disabled-fill-color);\n",
              "    box-shadow: none;\n",
              "  }\n",
              "\n",
              "  .colab-df-spinner {\n",
              "    border: 2px solid var(--fill-color);\n",
              "    border-color: transparent;\n",
              "    border-bottom-color: var(--fill-color);\n",
              "    animation:\n",
              "      spin 1s steps(1) infinite;\n",
              "  }\n",
              "\n",
              "  @keyframes spin {\n",
              "    0% {\n",
              "      border-color: transparent;\n",
              "      border-bottom-color: var(--fill-color);\n",
              "      border-left-color: var(--fill-color);\n",
              "    }\n",
              "    20% {\n",
              "      border-color: transparent;\n",
              "      border-left-color: var(--fill-color);\n",
              "      border-top-color: var(--fill-color);\n",
              "    }\n",
              "    30% {\n",
              "      border-color: transparent;\n",
              "      border-left-color: var(--fill-color);\n",
              "      border-top-color: var(--fill-color);\n",
              "      border-right-color: var(--fill-color);\n",
              "    }\n",
              "    40% {\n",
              "      border-color: transparent;\n",
              "      border-right-color: var(--fill-color);\n",
              "      border-top-color: var(--fill-color);\n",
              "    }\n",
              "    60% {\n",
              "      border-color: transparent;\n",
              "      border-right-color: var(--fill-color);\n",
              "    }\n",
              "    80% {\n",
              "      border-color: transparent;\n",
              "      border-right-color: var(--fill-color);\n",
              "      border-bottom-color: var(--fill-color);\n",
              "    }\n",
              "    90% {\n",
              "      border-color: transparent;\n",
              "      border-bottom-color: var(--fill-color);\n",
              "    }\n",
              "  }\n",
              "</style>\n",
              "\n",
              "      <script>\n",
              "        async function quickchart(key) {\n",
              "          const quickchartButtonEl =\n",
              "            document.querySelector('#' + key + ' button');\n",
              "          quickchartButtonEl.disabled = true;  // To prevent multiple clicks.\n",
              "          quickchartButtonEl.classList.add('colab-df-spinner');\n",
              "          try {\n",
              "            const charts = await google.colab.kernel.invokeFunction(\n",
              "                'suggestCharts', [key], {});\n",
              "          } catch (error) {\n",
              "            console.error('Error during call to suggestCharts:', error);\n",
              "          }\n",
              "          quickchartButtonEl.classList.remove('colab-df-spinner');\n",
              "          quickchartButtonEl.classList.add('colab-df-quickchart-complete');\n",
              "        }\n",
              "        (() => {\n",
              "          let quickchartButtonEl =\n",
              "            document.querySelector('#df-22460243-793a-490e-ade6-df3bdb0208b7 button');\n",
              "          quickchartButtonEl.style.display =\n",
              "            google.colab.kernel.accessAllowed ? 'block' : 'none';\n",
              "        })();\n",
              "      </script>\n",
              "    </div>\n",
              "    </div>\n",
              "  </div>\n"
            ],
            "application/vnd.google.colaboratory.intrinsic+json": {
              "type": "dataframe",
              "variable_name": "df",
              "summary": "{\n  \"name\": \"df\",\n  \"rows\": 33444,\n  \"fields\": [\n    {\n      \"column\": \"UserName\",\n      \"properties\": {\n        \"dtype\": \"number\",\n        \"std\": 11875,\n        \"min\": 3800,\n        \"max\": 44955,\n        \"num_unique_values\": 33444,\n        \"samples\": [\n          33995,\n          17124,\n          18421\n        ],\n        \"semantic_type\": \"\",\n        \"description\": \"\"\n      }\n    },\n    {\n      \"column\": \"ScreenName\",\n      \"properties\": {\n        \"dtype\": \"number\",\n        \"std\": 11875,\n        \"min\": 48752,\n        \"max\": 89907,\n        \"num_unique_values\": 33444,\n        \"samples\": [\n          78947,\n          62076,\n          63373\n        ],\n        \"semantic_type\": \"\",\n        \"description\": \"\"\n      }\n    },\n    {\n      \"column\": \"Location\",\n      \"properties\": {\n        \"dtype\": \"category\",\n        \"num_unique_values\": 10465,\n        \"samples\": [\n          \"Kitchener | Ontario | Canada\",\n          \"Montr\\u00c3\\u0083\\u00c2\\u00a9al\",\n          \"England. Germany.\"\n        ],\n        \"semantic_type\": \"\",\n        \"description\": \"\"\n      }\n    },\n    {\n      \"column\": \"TweetAt\",\n      \"properties\": {\n        \"dtype\": \"object\",\n        \"num_unique_values\": 30,\n        \"samples\": [\n          \"12-04-2020\",\n          \"31-03-2020\",\n          \"08-04-2020\"\n        ],\n        \"semantic_type\": \"\",\n        \"description\": \"\"\n      }\n    },\n    {\n      \"column\": \"OriginalTweet\",\n      \"properties\": {\n        \"dtype\": \"string\",\n        \"num_unique_values\": 33444,\n        \"samples\": [\n          \"US death toll is way less than estimated. This I hope will bring back consumer confidence #coronavirus #Covid_19 #CoronavirusUSA\",\n          \"We will get through this by people helping people and not stock piling food and toiletries, selfish pricks #Covid_19\",\n          \"#rice prices soar to two-year high, traders blame it on #coronavirus panic buying, writes #YasirWardad https://t.co/hIXzS1DKdo #FE via @febdonline\"\n        ],\n        \"semantic_type\": \"\",\n        \"description\": \"\"\n      }\n    },\n    {\n      \"column\": \"Sentiment\",\n      \"properties\": {\n        \"dtype\": \"number\",\n        \"std\": 0,\n        \"min\": 0,\n        \"max\": 1,\n        \"num_unique_values\": 2,\n        \"samples\": [\n          0,\n          1\n        ],\n        \"semantic_type\": \"\",\n        \"description\": \"\"\n      }\n    }\n  ]\n}"
            }
          },
          "metadata": {},
          "execution_count": 3
        }
      ],
      "source": [
        "# -- YOUR CODE HERE --\n",
        "df['Sentiment'] = df['Sentiment'].apply(lambda x: 1 if x in ['Positive', 'Extremely Positive'] else 0)\n",
        "df"
      ]
    },
    {
      "cell_type": "markdown",
      "metadata": {
        "id": "pGq1FxJ-kBo5"
      },
      "source": [
        "Сбалансированы ли классы?"
      ]
    },
    {
      "cell_type": "code",
      "execution_count": 4,
      "metadata": {
        "id": "a7gdNtxckK5V",
        "colab": {
          "base_uri": "https://localhost:8080/"
        },
        "outputId": "72a3adeb-e754-43ae-e149-cd393abba3be"
      },
      "outputs": [
        {
          "output_type": "stream",
          "name": "stdout",
          "text": [
            "баланс классов: 53.96% / 46.04%\n"
          ]
        }
      ],
      "source": [
        "# -- YOUR CODE HERE --\n",
        "total = df['Sentiment'].value_counts().sum()\n",
        "part_1 = ((df['Sentiment'] == 1).sum())/total * 100\n",
        "part_0 = ((df['Sentiment'] == 0).sum())/total * 100\n",
        "print(f'баланс классов: {part_1:.2f}% / {part_0:.2f}%')"
      ]
    },
    {
      "cell_type": "markdown",
      "metadata": {
        "id": "Ng8BCelMkWb0"
      },
      "source": [
        "**Ответ:** # -- YOUR ANSWER HERE --\n",
        " **Да. Классы почти идеально сбалансированы**"
      ]
    },
    {
      "cell_type": "markdown",
      "metadata": {
        "id": "qmSIBSsLk5Zz"
      },
      "source": [
        "Выведете на экран информацию о пропусках в данных. Если пропуски присутствуют заполните их строкой 'Unknown'."
      ]
    },
    {
      "cell_type": "code",
      "execution_count": 5,
      "metadata": {
        "id": "UhUVRkR5kxa7",
        "colab": {
          "base_uri": "https://localhost:8080/"
        },
        "outputId": "2dd8ebc2-ab05-489e-e44d-f7dd566728e8"
      },
      "outputs": [
        {
          "output_type": "stream",
          "name": "stdout",
          "text": [
            "Информация о пропусках в данных\n",
            "UserName            0\n",
            "ScreenName          0\n",
            "Location         7049\n",
            "TweetAt             0\n",
            "OriginalTweet       0\n",
            "Sentiment           0\n",
            "dtype: int64\n"
          ]
        }
      ],
      "source": [
        "# -- YOUR CODE HERE --\n",
        "print('Информация о пропусках в данных')\n",
        "print(df.isna().sum())\n",
        "df = df.fillna('Unknown')"
      ]
    },
    {
      "cell_type": "markdown",
      "metadata": {
        "id": "1tzt27tfjUpq"
      },
      "source": [
        "Разделите данные на обучающие и тестовые в соотношении 7 : 3 и укажите `random_state=0`"
      ]
    },
    {
      "cell_type": "code",
      "execution_count": 6,
      "metadata": {
        "id": "xSLOA9tIj9Z6"
      },
      "outputs": [],
      "source": [
        "from sklearn.model_selection import train_test_split\n",
        "\n",
        "train, test = train_test_split(df, test_size=0.3, random_state=0) # -- YOUR CODE HERE --"
      ]
    },
    {
      "cell_type": "markdown",
      "metadata": {
        "id": "J9RrPUsJlL60"
      },
      "source": [
        "## Задание 2 Токенизация (3 балла)"
      ]
    },
    {
      "cell_type": "markdown",
      "metadata": {
        "id": "2Dz_b7Xopc_R"
      },
      "source": [
        "Постройте словарь на основе обучающей выборки и посчитайте количество встреч каждого токена с использованием самой простой токенизации - деления текстов по пробельным символам и приведения токенов в нижний регистр."
      ]
    },
    {
      "cell_type": "code",
      "execution_count": 7,
      "metadata": {
        "id": "SFr67WOJphny",
        "colab": {
          "base_uri": "https://localhost:8080/"
        },
        "outputId": "f8103b29-2f5a-4f0f-cc33-2003e73413e5"
      },
      "outputs": [
        {
          "output_type": "execute_result",
          "data": {
            "text/plain": [
              "{'advice': 195,\n",
              " 'talk': 115,\n",
              " 'to': 33447,\n",
              " 'your': 3999,\n",
              " 'neighbours': 24,\n",
              " 'family': 392,\n",
              " 'exchange': 25,\n",
              " 'phone': 114,\n",
              " 'numbers': 72,\n",
              " 'create': 117,\n",
              " 'contact': 271,\n",
              " 'list': 250,\n",
              " 'with': 5764,\n",
              " 'of': 18578,\n",
              " 'schools': 78,\n",
              " 'employer': 17,\n",
              " 'chemist': 19,\n",
              " 'gp': 9,\n",
              " 'set': 231,\n",
              " 'up': 2875,\n",
              " 'online': 2388,\n",
              " 'shopping': 2300,\n",
              " 'accounts': 34,\n",
              " 'if': 3058,\n",
              " 'poss': 1,\n",
              " 'adequate': 30,\n",
              " 'supplies': 537,\n",
              " 'regular': 101,\n",
              " 'meds': 18,\n",
              " 'but': 3082,\n",
              " 'not': 3873,\n",
              " 'over': 1112,\n",
              " 'order': 485,\n",
              " 'coronavirus': 1376,\n",
              " 'australia:': 1,\n",
              " 'woolworths': 15,\n",
              " 'give': 404,\n",
              " 'elderly,': 19,\n",
              " 'disabled': 69,\n",
              " 'dedicated': 63,\n",
              " 'hours': 389,\n",
              " 'amid': 798,\n",
              " 'covid-19': 4504,\n",
              " 'outbreak': 573,\n",
              " 'https://t.co/binca9vp8p': 1,\n",
              " 'my': 3557,\n",
              " 'food': 5409,\n",
              " 'stock': 1525,\n",
              " 'is': 10596,\n",
              " 'the': 38250,\n",
              " 'only': 1188,\n",
              " 'one': 1548,\n",
              " 'which': 729,\n",
              " 'empty...': 3,\n",
              " 'please,': 36,\n",
              " \"don't\": 778,\n",
              " 'panic,': 71,\n",
              " 'there': 1710,\n",
              " 'will': 3865,\n",
              " 'be': 5058,\n",
              " 'enough': 501,\n",
              " 'for': 12193,\n",
              " 'everyone': 854,\n",
              " 'you': 7735,\n",
              " 'do': 1931,\n",
              " 'take': 990,\n",
              " 'more': 2902,\n",
              " 'than': 1289,\n",
              " 'need.': 103,\n",
              " 'stay': 1270,\n",
              " 'calm,': 11,\n",
              " 'safe.': 89,\n",
              " '#covid19france': 3,\n",
              " '#covid_19': 2411,\n",
              " '#covid19': 3561,\n",
              " '#coronavirus': 11759,\n",
              " '#confinement': 7,\n",
              " '#confinementotal': 2,\n",
              " '#confinementgeneral': 1,\n",
              " 'https://t.co/zrlg0z520j': 1,\n",
              " 'me,': 71,\n",
              " 'ready': 154,\n",
              " 'go': 1799,\n",
              " 'at': 6531,\n",
              " 'supermarket': 4662,\n",
              " 'during': 2732,\n",
              " 'outbreak.': 174,\n",
              " 'because': 1304,\n",
              " \"i'm\": 573,\n",
              " 'paranoid,': 2,\n",
              " 'litteraly': 1,\n",
              " 'empty.': 67,\n",
              " 'a': 16667,\n",
              " 'serious': 131,\n",
              " 'thing,': 22,\n",
              " 'panic.': 94,\n",
              " 'it': 4451,\n",
              " 'causes': 60,\n",
              " 'shortage...': 2,\n",
              " '#coronavirusfrance': 1,\n",
              " '#restezchezvous': 3,\n",
              " '#stayathome': 286,\n",
              " 'https://t.co/usmualq72n': 1,\n",
              " 'as': 5303,\n",
              " 'news': 455,\n",
              " 'regionã\\x82â\\x92s': 2,\n",
              " 'first': 664,\n",
              " 'confirmed': 95,\n",
              " 'case': 180,\n",
              " 'came': 147,\n",
              " 'out': 2899,\n",
              " 'sullivan': 2,\n",
              " 'county': 114,\n",
              " 'last': 655,\n",
              " 'week,': 76,\n",
              " 'people': 4488,\n",
              " 'flocked': 4,\n",
              " 'area': 173,\n",
              " 'stores': 891,\n",
              " 'purchase': 160,\n",
              " 'cleaning': 161,\n",
              " 'supplies,': 70,\n",
              " 'hand': 1965,\n",
              " 'sanitizer,': 192,\n",
              " 'food,': 294,\n",
              " 'toilet': 1153,\n",
              " 'paper': 832,\n",
              " 'and': 20935,\n",
              " 'other': 1271,\n",
              " 'goods,': 26,\n",
              " '@tim_dodson': 1,\n",
              " 'reports': 223,\n",
              " 'https://t.co/cfxch7a2lu': 1,\n",
              " 'cashier': 79,\n",
              " 'grocery': 4882,\n",
              " 'store': 4486,\n",
              " 'was': 1988,\n",
              " 'sharing': 85,\n",
              " 'his': 546,\n",
              " 'insights': 107,\n",
              " 'on': 7768,\n",
              " 'prove': 28,\n",
              " 'credibility': 4,\n",
              " 'he': 747,\n",
              " 'commented': 3,\n",
              " '\"i\\'m': 10,\n",
              " 'in': 16024,\n",
              " 'civics': 1,\n",
              " 'class': 62,\n",
              " 'so': 2637,\n",
              " 'i': 7648,\n",
              " 'know': 966,\n",
              " 'what': 2165,\n",
              " 'talking': 108,\n",
              " 'about\".': 1,\n",
              " 'https://t.co/iefdnehgdo': 1,\n",
              " 'due': 1541,\n",
              " 'our': 3594,\n",
              " 'retail': 832,\n",
              " 'classroom': 3,\n",
              " 'atlanta': 9,\n",
              " 'open': 425,\n",
              " 'walk-in': 3,\n",
              " 'business': 645,\n",
              " 'or': 3191,\n",
              " 'classes': 18,\n",
              " 'next': 489,\n",
              " 'two': 485,\n",
              " 'weeks,': 44,\n",
              " 'beginning': 124,\n",
              " 'monday,': 12,\n",
              " 'march': 365,\n",
              " '16.': 3,\n",
              " 'we': 5416,\n",
              " 'continue': 361,\n",
              " 'process': 49,\n",
              " 'orders': 181,\n",
              " 'normal!': 4,\n",
              " 'thank': 867,\n",
              " 'understanding!': 3,\n",
              " 'https://t.co/kw91zj5o5i': 1,\n",
              " 'corona': 241,\n",
              " 'prevention,we': 1,\n",
              " 'should': 1246,\n",
              " 'stop': 1023,\n",
              " 'buy': 1094,\n",
              " 'things': 483,\n",
              " 'cash': 164,\n",
              " 'use': 786,\n",
              " 'payment': 78,\n",
              " 'methods': 12,\n",
              " 'can': 3195,\n",
              " 'spread': 735,\n",
              " 'through': 610,\n",
              " 'notes.': 2,\n",
              " 'also': 884,\n",
              " 'prefer': 22,\n",
              " 'from': 4452,\n",
              " 'home.': 203,\n",
              " \"it's\": 822,\n",
              " 'time': 1626,\n",
              " 'fight': 458,\n",
              " 'against': 485,\n",
              " 'covid': 2456,\n",
              " '19?.': 1,\n",
              " '#govindia': 1,\n",
              " '#indiafightscorona': 31,\n",
              " 'situation,': 34,\n",
              " 'have': 5342,\n",
              " 'increased': 440,\n",
              " 'demand': 1876,\n",
              " 'all': 4064,\n",
              " 'products.': 63,\n",
              " 'wait': 160,\n",
              " 'may': 738,\n",
              " 'longer': 143,\n",
              " 'orders,': 11,\n",
              " 'particularly': 60,\n",
              " 'beef': 41,\n",
              " 'share': 354,\n",
              " 'freezer': 26,\n",
              " 'packs.': 2,\n",
              " 'patience': 15,\n",
              " 'this': 6599,\n",
              " 'time.': 202,\n",
              " '#horningsea': 1,\n",
              " 'caring': 30,\n",
              " 'community.': 32,\n",
              " 'letã\\x82â\\x92s': 112,\n",
              " 'look': 496,\n",
              " 'after': 1270,\n",
              " 'less': 297,\n",
              " 'capable': 8,\n",
              " 'village': 17,\n",
              " 'ensure': 255,\n",
              " 'they': 3334,\n",
              " 'healthy.': 23,\n",
              " 'bringing': 75,\n",
              " 'their': 2834,\n",
              " 'doors,': 7,\n",
              " 'help': 1848,\n",
              " 'self': 297,\n",
              " 'isolation': 162,\n",
              " 'symptoms': 105,\n",
              " 'been': 1562,\n",
              " 'exposed': 110,\n",
              " 'somebody': 25,\n",
              " 'who': 2364,\n",
              " 'has.': 4,\n",
              " 'https://t.co/lsgrxxhjhh': 1,\n",
              " 'me:': 46,\n",
              " 'need': 2178,\n",
              " \"i'll\": 72,\n",
              " 'just': 2189,\n",
              " 'amazon': 227,\n",
              " 'deliver': 148,\n",
              " 'whatever': 54,\n",
              " 'amazon:': 2,\n",
              " 'https://t.co/8ywakfjexc': 1,\n",
              " 'adara': 1,\n",
              " 'releases': 14,\n",
              " 'resource': 53,\n",
              " 'center': 68,\n",
              " 'travel': 196,\n",
              " 'brands:': 1,\n",
              " 'brands': 182,\n",
              " 'up-to-date': 10,\n",
              " 'consumer': 3233,\n",
              " 'behavior': 212,\n",
              " 'trends': 105,\n",
              " 'https://t.co/pna797jdkv': 1,\n",
              " 'https://t.co/dqox6usihz': 1,\n",
              " 'lines': 207,\n",
              " 'unpredictable,': 2,\n",
              " 'eating': 89,\n",
              " 'safe': 695,\n",
              " 'alternative?': 1,\n",
              " 'find': 610,\n",
              " 'about': 2427,\n",
              " 'whether': 107,\n",
              " 'avoiding': 65,\n",
              " 'restaurants': 188,\n",
              " 'right': 673,\n",
              " 'now:': 35,\n",
              " 'https://t.co/9idzsis5oq': 1,\n",
              " 'https://t.co/zhbh898lf6': 1,\n",
              " 'glitch': 2,\n",
              " 'stymies': 2,\n",
              " 'whole': 208,\n",
              " 'foods,': 8,\n",
              " 'fresh': 234,\n",
              " 'deliveries': 139,\n",
              " 'ã\\x82â\\x93as': 3,\n",
              " 'has': 3279,\n",
              " 'spread,': 28,\n",
              " 'weã\\x82â\\x92ve': 47,\n",
              " 'seen': 361,\n",
              " 'significant': 100,\n",
              " 'increase': 468,\n",
              " 'groceries,ã\\x82â\\x94': 1,\n",
              " 'spokeswoman': 2,\n",
              " 'said': 550,\n",
              " 'statement.': 7,\n",
              " 'ã\\x82â\\x93today': 3,\n",
              " 'resulted': 20,\n",
              " 'systems': 52,\n",
              " 'impact': 612,\n",
              " 'affecting': 68,\n",
              " '...': 207,\n",
              " 'https://t.co/tbzz2mc3b3': 1,\n",
              " 'those': 1106,\n",
              " \"aren't\": 93,\n",
              " 'struggling,': 3,\n",
              " 'please': 1513,\n",
              " 'consider': 176,\n",
              " 'donating': 122,\n",
              " 'bank': 322,\n",
              " 'nonprofit.': 1,\n",
              " 'these': 1303,\n",
              " 'services': 364,\n",
              " 'impacts': 92,\n",
              " 'jobs,': 24,\n",
              " \"people's\": 41,\n",
              " 'way': 699,\n",
              " 'life.': 42,\n",
              " '100': 155,\n",
              " 'nations': 36,\n",
              " 'inficted': 1,\n",
              " '19': 2946,\n",
              " 'world': 620,\n",
              " 'must': 456,\n",
              " 'play': 97,\n",
              " 'fair': 81,\n",
              " 'china': 241,\n",
              " 'goverments': 1,\n",
              " 'adopts': 3,\n",
              " 'new': 1311,\n",
              " 'guilde': 1,\n",
              " 'safty': 1,\n",
              " 'chinese': 140,\n",
              " 'goverment': 3,\n",
              " 'guilty': 14,\n",
              " 'being': 1154,\n",
              " 'irosponcible': 1,\n",
              " 'life': 337,\n",
              " 'global': 621,\n",
              " 'scale': 28,\n",
              " 'amazing': 127,\n",
              " 'cheap': 96,\n",
              " 'deals!': 3,\n",
              " '#covid2019': 1326,\n",
              " 'going': 1663,\n",
              " 'you???': 4,\n",
              " '#trials': 3,\n",
              " '#monthly': 3,\n",
              " '#yearly': 3,\n",
              " 'resonable': 3,\n",
              " '#prices': 46,\n",
              " '/': 154,\n",
              " '#subscriptions': 3,\n",
              " 'dm': 74,\n",
              " 'us!': 20,\n",
              " '#bestiptv': 3,\n",
              " '#iptv': 11,\n",
              " '#service': 3,\n",
              " '#iptvdeals': 3,\n",
              " '#cheap': 6,\n",
              " '#football': 8,\n",
              " '#hd': 4,\n",
              " '#movies': 6,\n",
              " '#adult': 4,\n",
              " '#cinema': 4,\n",
              " '#hotmovies': 3,\n",
              " '#iptvnew': 1,\n",
              " '#iptv2020': 1,\n",
              " 'iptvlinks': 1,\n",
              " '#18movies': 1,\n",
              " '@10downingstreet': 30,\n",
              " '@grantshapps': 1,\n",
              " 'done': 259,\n",
              " 'essential': 710,\n",
              " 'products': 626,\n",
              " 'are': 9958,\n",
              " 're-stocked': 1,\n",
              " 'supermarkets': 460,\n",
              " 'panic': 2126,\n",
              " 'buying': 1283,\n",
              " 'actively': 25,\n",
              " 'discouraged?': 1,\n",
              " 'cannot': 210,\n",
              " 'left': 291,\n",
              " 'checkout': 81,\n",
              " 'staff': 762,\n",
              " 'police': 241,\n",
              " 'actions': 54,\n",
              " 'selfish': 200,\n",
              " 'profiteer': 7,\n",
              " 'uk': 387,\n",
              " '#consumer': 129,\n",
              " 'poll': 14,\n",
              " 'indicates': 8,\n",
              " 'majority': 49,\n",
              " 'expect': 124,\n",
              " \"#covid19's\": 3,\n",
              " '4-12': 1,\n",
              " 'months': 204,\n",
              " '(at': 13,\n",
              " '12': 108,\n",
              " 'march).': 1,\n",
              " '#tracker...': 1,\n",
              " 'see': 1068,\n",
              " 'full': 444,\n",
              " 'results': 50,\n",
              " '@retailx': 1,\n",
              " 'confidence': 156,\n",
              " 'tracker': 15,\n",
              " 'here:': 205,\n",
              " 'https://t.co/k3ujlcjqdb': 1,\n",
              " 'https://t.co/9g3kgqixj8': 1,\n",
              " 'preparation': 20,\n",
              " 'higher': 243,\n",
              " 'potential': 134,\n",
              " 'shortage,': 17,\n",
              " 'hunger': 88,\n",
              " 'coalition': 7,\n",
              " 'purchased': 36,\n",
              " '10': 287,\n",
              " 'percent': 65,\n",
              " 'implemented': 24,\n",
              " 'protocols': 8,\n",
              " 'coronavirus.': 82,\n",
              " 'https://t.co/5cecytlnyn': 1,\n",
              " 'morning': 219,\n",
              " 'tested': 208,\n",
              " 'positive': 328,\n",
              " '19.': 79,\n",
              " 'feel': 314,\n",
              " 'ok,': 20,\n",
              " 'no': 2700,\n",
              " 'far': 203,\n",
              " 'isolated': 41,\n",
              " 'since': 557,\n",
              " 'found': 230,\n",
              " 'possible': 192,\n",
              " 'exposure': 54,\n",
              " 'virus.': 95,\n",
              " 'home': 1403,\n",
              " 'pragmatic.': 1,\n",
              " 'keep': 1220,\n",
              " 'updated': 63,\n",
              " 'how': 2633,\n",
              " 'iã\\x82â\\x92m': 559,\n",
              " 'doing': 702,\n",
              " '????': 130,\n",
              " 'https://t.co/lg7hvmzglz': 1,\n",
              " 'malicious': 12,\n",
              " 'price': 829,\n",
              " 'increases': 97,\n",
              " 'nyc?': 1,\n",
              " 'nyc': 36,\n",
              " 'department': 100,\n",
              " 'worker': 218,\n",
              " 'protection': 271,\n",
              " '(dcwp)': 1,\n",
              " 'page': 64,\n",
              " 'digitally': 6,\n",
              " 'file': 60,\n",
              " 'complaint.': 3,\n",
              " 'click': 116,\n",
              " 'https://t.co/oex6y8mm2k': 1,\n",
              " 'complaint': 47,\n",
              " '(use': 1,\n",
              " 'word\"overcharge\")': 1,\n",
              " 'https://t.co/mdmmobttop': 1,\n",
              " '#covidnyc': 1,\n",
              " '@7sealsoftheend': 1,\n",
              " 'soon': 183,\n",
              " 'dwindling': 15,\n",
              " 'unlawful': 2,\n",
              " 'panicky': 2,\n",
              " 'breaking': 63,\n",
              " 'into': 917,\n",
              " 'closed': 290,\n",
              " '&amp;': 3191,\n",
              " 'raid': 12,\n",
              " 'them': 1148,\n",
              " 'normally': 63,\n",
              " 'crisis': 1043,\n",
              " 'massive': 133,\n",
              " '#stockup&amp;lockup': 1,\n",
              " 'country': 461,\n",
              " 'empty': 543,\n",
              " 'shelves': 987,\n",
              " 'ensues': 1,\n",
              " \"'hole'\": 1,\n",
              " 'foods...': 1,\n",
              " '...images': 1,\n",
              " 'nicest': 2,\n",
              " 'richest': 9,\n",
              " 'neighborhoods': 8,\n",
              " 'united': 114,\n",
              " 'states.': 21,\n",
              " 'https://t.co/wnqsomtkvi': 1,\n",
              " '#breakingnews': 16,\n",
              " '#breaking': 15,\n",
              " '#coronavirusoutbreak': 318,\n",
              " '#covid?19': 607,\n",
              " '#collapse': 5,\n",
              " 'fun': 65,\n",
              " 'fact:': 7,\n",
              " 'cough': 72,\n",
              " 'store,': 282,\n",
              " 'get': 2442,\n",
              " 'aisle': 85,\n",
              " 'yourself': 217,\n",
              " 'pretty': 139,\n",
              " 'quickly.': 6,\n",
              " \"we're\": 249,\n",
              " 'sorry': 74,\n",
              " 'say': 510,\n",
              " 'that': 5385,\n",
              " '@finfabuk': 2,\n",
              " 'event': 62,\n",
              " 'cancelled': 78,\n",
              " 'covid-19.': 685,\n",
              " 'health': 810,\n",
              " 'wellbeing': 10,\n",
              " 'attendees,': 2,\n",
              " 'speakers': 5,\n",
              " 'top': 223,\n",
              " 'priority.': 15,\n",
              " 'apologies': 1,\n",
              " 'any': 929,\n",
              " 'disappointment': 5,\n",
              " 'cause.': 5,\n",
              " 'faqs': 7,\n",
              " 'answered': 19,\n",
              " 'link': 135,\n",
              " 'below:': 8,\n",
              " 'https://t.co/gddptudcvj': 1,\n",
              " 'yes,': 49,\n",
              " \"what's\": 107,\n",
              " 'point': 163,\n",
              " 'posting': 48,\n",
              " 'photos': 47,\n",
              " 'load': 35,\n",
              " 'stuff?': 1,\n",
              " 'could': 922,\n",
              " 'elderly': 356,\n",
              " 'parents,': 7,\n",
              " 'kids,': 9,\n",
              " 'siblings,': 1,\n",
              " 'etc': 177,\n",
              " \"can't\": 401,\n",
              " 'themselves': 158,\n",
              " 'everything': 394,\n",
              " 'needs': 402,\n",
              " 'viral,': 1,\n",
              " 'alr': 1,\n",
              " 'worried': 173,\n",
              " 'current': 322,\n",
              " 'pandemic': 1464,\n",
              " 'finances?': 3,\n",
              " 'published': 37,\n",
              " 'some': 1841,\n",
              " 'tips': 265,\n",
              " 'manage': 77,\n",
              " 'money': 470,\n",
              " 'challenging': 64,\n",
              " 'times.': 105,\n",
              " 'https://t.co/3jkk3cqxfq': 1,\n",
              " 'https://t.co/ebenurmmjs': 1,\n",
              " 'wife': 76,\n",
              " 'works': 191,\n",
              " 'retail&amp;a': 1,\n",
              " 'customer': 180,\n",
              " 'yesterday,': 23,\n",
              " 'coughing': 98,\n",
              " 'everywhere,': 6,\n",
              " 'saying': 194,\n",
              " 'requested': 13,\n",
              " 'deep': 61,\n",
              " 'clean': 171,\n",
              " '-': 2046,\n",
              " 'her': 502,\n",
              " 'company': 267,\n",
              " 'objected': 1,\n",
              " 'cost,': 1,\n",
              " 'recommending': 5,\n",
              " 'team': 148,\n",
              " 'spray': 56,\n",
              " 'disinfectant&amp;clean': 1,\n",
              " 'themselves.': 24,\n",
              " 'gonna': 159,\n",
              " 'die/get': 1,\n",
              " 'sick': 241,\n",
              " 'capitalism': 36,\n",
              " 'now': 1951,\n",
              " 'like': 2200,\n",
              " 'without': 428,\n",
              " 'judged!': 1,\n",
              " '?': 1857,\n",
              " 'https://t.co/krtcgiuhqs': 1,\n",
              " 'here': 974,\n",
              " 'provide': 256,\n",
              " 'experience': 115,\n",
              " 'customers': 650,\n",
              " 'healthy': 172,\n",
              " 'environment': 40,\n",
              " 'associates': 30,\n",
              " 'community!': 4,\n",
              " 'placed': 42,\n",
              " 'https://t.co/dcsxhuj3u0': 1,\n",
              " '#jlmco': 1,\n",
              " '#jlmcobrand': 1,\n",
              " '#coronapocolypse': 53,\n",
              " '#shoponline': 11,\n",
              " 'https://t.co/rinkwskers': 1,\n",
              " 'curious,': 3,\n",
              " 'think': 769,\n",
              " 'shoppers': 295,\n",
              " 'lot': 356,\n",
              " 'bc': 96,\n",
              " \"they're\": 164,\n",
              " 'unable': 100,\n",
              " 'too': 400,\n",
              " 'spooked': 1,\n",
              " 'extra': 186,\n",
              " 'pair': 21,\n",
              " 'shoes?': 2,\n",
              " '#economy': 112,\n",
              " '#onlineshopping': 79,\n",
              " '#stayhome': 317,\n",
              " 'check': 440,\n",
              " 'video': 218,\n",
              " '??': 694,\n",
              " 'https://t.co/1ksn9brl02': 1,\n",
              " '??no': 1,\n",
              " 'usa': 64,\n",
              " 'market': 654,\n",
              " 'die': 197,\n",
              " 'starvation': 25,\n",
              " '#houston': 6,\n",
              " '#nofood': 37,\n",
              " '#notoiletpaper': 3,\n",
              " '#nohandshakes': 1,\n",
              " '#nohandsanitizer': 1,\n",
              " '#pandemic': 325,\n",
              " '#totallockdown': 5,\n",
              " '#covid2019usa': 1,\n",
              " '#walmart': 34,\n",
              " 'https://t.co/ztn3imkgpd': 1,\n",
              " 'south': 116,\n",
              " 'africans': 5,\n",
              " 'basic': 175,\n",
              " 'goods': 345,\n",
              " 'hits': 70,\n",
              " 'https://t.co/6ngnfjmy89': 1,\n",
              " '#coronavirussa': 10,\n",
              " 'https://t.co/pziro10avf': 1,\n",
              " 'someone': 346,\n",
              " 's': 1567,\n",
              " '65': 20,\n",
              " 'living': 142,\n",
              " 'own': 325,\n",
              " 'struggling': 201,\n",
              " '2': 828,\n",
              " 'local': 1183,\n",
              " 'issues': 140,\n",
              " 'around': 572,\n",
              " 're': 445,\n",
              " 'offering': 244,\n",
              " 'free': 655,\n",
              " 'soups': 4,\n",
              " 'nationwide': 36,\n",
              " 'anyone': 444,\n",
              " 'plus': 104,\n",
              " 'freezable': 1,\n",
              " 'half': 125,\n",
              " 'completely': 95,\n",
              " 'calling': 123,\n",
              " '\"dumb\"': 1,\n",
              " '\"idiots.\"': 1,\n",
              " 'while': 913,\n",
              " 'store.': 469,\n",
              " 'lol': 64,\n",
              " 'never': 425,\n",
              " 'thought': 261,\n",
              " \"i'd\": 75,\n",
              " 'this,': 68,\n",
              " 'but.': 2,\n",
              " '2019,': 10,\n",
              " 'come': 421,\n",
              " 'back!?': 1,\n",
              " 'please!': 18,\n",
              " '#peoplearelosingtheirminds': 1,\n",
              " '#stopthemadness': 2,\n",
              " '#stoppanicbuying': 190,\n",
              " '\"everything': 2,\n",
              " 'weã\\x82â\\x92re': 190,\n",
              " 'seeing': 295,\n",
              " 'before': 655,\n",
              " 'previous': 35,\n",
              " 'epidemics': 3,\n",
              " 'pandemics;': 1,\n",
              " 'rise': 209,\n",
              " 'fear,': 10,\n",
              " 'racism,': 1,\n",
              " 'medicines,': 6,\n",
              " 'conspiracy': 15,\n",
              " 'theories,': 1,\n",
              " 'proliferation': 1,\n",
              " 'quack': 3,\n",
              " 'cures\"': 1,\n",
              " 'https://t.co/pr8npkx41a': 1,\n",
              " 'why': 915,\n",
              " 'water...': 1,\n",
              " 'cause': 173,\n",
              " 'utility': 49,\n",
              " 'companies': 536,\n",
              " 'shut': 184,\n",
              " 'off': 648,\n",
              " 'middle': 95,\n",
              " 'pandemic...': 7,\n",
              " 'close': 350,\n",
              " 'thier': 7,\n",
              " 'lose': 82,\n",
              " 'work': 1190,\n",
              " 'kid': 30,\n",
              " 'where': 645,\n",
              " 'go...': 2,\n",
              " 'canã\\x82â\\x92t': 342,\n",
              " 'afford': 163,\n",
              " 'worth': 145,\n",
              " 'food.': 283,\n",
              " '@senatorromney': 2,\n",
              " 'https://t.co/0cv0793ols': 1,\n",
              " 'dear': 137,\n",
              " 'coronavirus,': 51,\n",
              " \"i've\": 218,\n",
              " 'following': 203,\n",
              " 'social': 861,\n",
              " 'distancing': 415,\n",
              " 'rules': 109,\n",
              " 'staying': 211,\n",
              " 'prevent': 233,\n",
              " 'you.': 174,\n",
              " 'however,': 70,\n",
              " 'spent': 63,\n",
              " 'an': 2003,\n",
              " 'alarming': 9,\n",
              " 'amount': 127,\n",
              " 'online.': 130,\n",
              " 'submit': 16,\n",
              " 'expenses': 12,\n",
              " 'reimbursement?': 1,\n",
              " 'let': 388,\n",
              " 'me': 1328,\n",
              " 'know.': 32,\n",
              " 'prices': 5625,\n",
              " 'intensified': 4,\n",
              " 'across': 451,\n",
              " 'several': 120,\n",
              " 'geographies': 1,\n",
              " 'further': 168,\n",
              " 'downward': 18,\n",
              " 'pressures': 16,\n",
              " 'coming': 312,\n",
              " 'continued': 58,\n",
              " 'well': 527,\n",
              " 'supplied': 21,\n",
              " 'markets': 319,\n",
              " 'negative': 82,\n",
              " 'resulting': 32,\n",
              " 'virus': 655,\n",
              " 'great': 574,\n",
              " 'day.': 98,\n",
              " '???': 263,\n",
              " '#bekind': 50,\n",
              " '#mufc': 3,\n",
              " '#mufc_family': 1,\n",
              " 'emergency,': 16,\n",
              " 'important.': 20,\n",
              " \"you're\": 261,\n",
              " 'afraid': 43,\n",
              " 'worst': 115,\n",
              " 'scenario,': 2,\n",
              " 'wash': 288,\n",
              " 'tub': 3,\n",
              " \"y'all\": 39,\n",
              " 'crazy.': 18,\n",
              " 'clerk!': 1,\n",
              " 'went': 547,\n",
              " 'today': 753,\n",
              " 'looked': 68,\n",
              " 'weary': 6,\n",
              " 'eyes': 38,\n",
              " 'clerk.': 3,\n",
              " 'thanked': 21,\n",
              " 'realized': 23,\n",
              " 'she': 515,\n",
              " 'thrust': 2,\n",
              " 'front': 316,\n",
              " 'line': 397,\n",
              " 'panick.': 1,\n",
              " 'breed': 2,\n",
              " 'responders?': 1,\n",
              " 'working': 872,\n",
              " 'hard': 371,\n",
              " 'serve': 87,\n",
              " 'communities.': 15,\n",
              " 'entire': 91,\n",
              " 'world,': 61,\n",
              " 'shops': 407,\n",
              " 'malaysia': 21,\n",
              " 'facing': 191,\n",
              " 'challenges.': 11,\n",
              " 'near': 139,\n",
              " 'future,': 4,\n",
              " 'surprise': 34,\n",
              " 'many': 1181,\n",
              " 'lost': 191,\n",
              " 'jobs.': 22,\n",
              " '#malaysia2020': 3,\n",
              " '#malaysia': 10,\n",
              " 'corner:': 2,\n",
              " '#scammers': 18,\n",
              " 'taking': 501,\n",
              " 'advantage': 247,\n",
              " '#covid-19': 271,\n",
              " 'fears': 165,\n",
              " '#cdc': 21,\n",
              " '#flu': 12,\n",
              " '#trends': 19,\n",
              " '#alert': 31,\n",
              " 'https://t.co/sk9qcjsnyl': 1,\n",
              " 'https://t.co/t7qejp3hys': 1,\n",
              " 'capitalizing': 3,\n",
              " 'packaged': 25,\n",
              " 'making': 561,\n",
              " 'us': 1801,\n",
              " 'opposed': 8,\n",
              " 'closing': 140,\n",
              " 'safety': 290,\n",
              " '#lockdowncanada': 4,\n",
              " 'so,': 85,\n",
              " 'feeling': 102,\n",
              " 'ethical': 15,\n",
              " 'still': 1101,\n",
              " 'stuff': 166,\n",
              " '(food,': 4,\n",
              " 'shopping,': 119,\n",
              " 'etc.),': 1,\n",
              " 'ship': 43,\n",
              " '\"isolation\"': 1,\n",
              " 'care': 579,\n",
              " 'packages': 57,\n",
              " 'loved': 67,\n",
              " 'ones,': 5,\n",
              " 'etc.?': 3,\n",
              " 'bought': 225,\n",
              " 'house': 319,\n",
              " 'didnã\\x82â\\x92t': 97,\n",
              " 'house.': 55,\n",
              " 'tragic.': 1,\n",
              " 'facebook': 74,\n",
              " 'group': 139,\n",
              " 'businesses': 487,\n",
              " 'increasing': 176,\n",
              " 'essentials': 208,\n",
              " 'emergency': 383,\n",
              " 'situation': 267,\n",
              " 'itã\\x82â\\x92s': 661,\n",
              " 'frankly': 5,\n",
              " 'despicable': 11,\n",
              " 'totally': 66,\n",
              " 'void': 6,\n",
              " 'community': 340,\n",
              " 'spirit!': 1,\n",
              " '#nameandshame': 5,\n",
              " '#covid?19uk': 18,\n",
              " '#liverpool': 1,\n",
              " 'https://t.co/sttakyqqiz': 1,\n",
              " '@bobjlowe': 1,\n",
              " 'sadly': 27,\n",
              " 'misinformed': 1,\n",
              " 'thinking': 140,\n",
              " 'gives': 69,\n",
              " 'diarrhoea,': 1,\n",
              " 'therefore': 21,\n",
              " 'had': 918,\n",
              " 'stock-pile': 2,\n",
              " 'papers.': 1,\n",
              " 'atm,': 5,\n",
              " 'hygiene': 107,\n",
              " '@tinamccauley70': 1,\n",
              " 'yeah': 31,\n",
              " 'parents': 105,\n",
              " 'risky': 13,\n",
              " 'thatã\\x82â\\x92s': 129,\n",
              " 'when': 1907,\n",
              " 'really': 576,\n",
              " 'necessary..': 1,\n",
              " '....': 28,\n",
              " 'cn': 3,\n",
              " '(and': 60,\n",
              " 'mum,': 2,\n",
              " 'live': 330,\n",
              " 'with)': 2,\n",
              " '\"shielded\"': 1,\n",
              " 'weeks': 428,\n",
              " '(3': 4,\n",
              " 'months).': 2,\n",
              " 'mean': 158,\n",
              " 'in.': 53,\n",
              " 'hope': 382,\n",
              " 'hi,': 10,\n",
              " 'thanks': 410,\n",
              " 'shopping.': 152,\n",
              " '@balajis': 3,\n",
              " 'side': 105,\n",
              " 'tech': 66,\n",
              " '(some': 4,\n",
              " 'already': 388,\n",
              " 'demostrated': 1,\n",
              " 'elisa': 1,\n",
              " 'test': 184,\n",
              " 'strips': 6,\n",
              " 'covid-19,': 437,\n",
              " 'though': 106,\n",
              " 'details': 95,\n",
              " 'were': 810,\n",
              " 'lacking).': 1,\n",
              " '@us_fda': 12,\n",
              " 'would': 1021,\n",
              " 'deem': 5,\n",
              " 'waived': 11,\n",
              " 'test,': 7,\n",
              " 'doesnã\\x82â\\x92t': 108,\n",
              " 'easily': 48,\n",
              " 'wages': 41,\n",
              " 'either': 84,\n",
              " 'illness': 23,\n",
              " 'economic': 397,\n",
              " 'urge': 47,\n",
              " 'support': 694,\n",
              " 'bill': 107,\n",
              " 'includes': 65,\n",
              " 'banks': 345,\n",
              " 'flexibility': 11,\n",
              " 'school': 136,\n",
              " 'meals': 95,\n",
              " 'selfish.': 19,\n",
              " 'ceo': 140,\n",
              " '7-9': 1,\n",
              " 'am': 558,\n",
              " 'shop;': 1,\n",
              " 'show': 191,\n",
              " 'id.': 4,\n",
              " 'saw': 203,\n",
              " 'young': 73,\n",
              " 'couple': 124,\n",
              " '300': 22,\n",
              " 'rolls': 132,\n",
              " 'tp.': 20,\n",
              " 'crap.': 4,\n",
              " 'maybe': 182,\n",
              " 'https://t.co/hrbzmh95vq': 1,\n",
              " 'poses': 9,\n",
              " 'complex': 19,\n",
              " 'puzzle': 3,\n",
              " 'food-delivery': 3,\n",
              " 'delivery': 970,\n",
              " 'capacity': 63,\n",
              " 'buckle': 3,\n",
              " 'under': 333,\n",
              " 'surging': 53,\n",
              " 'demand.': 145,\n",
              " 'https://t.co/1c1cmlmqii': 1,\n",
              " 'via': 977,\n",
              " '@wsj': 30,\n",
              " '#services': 3,\n",
              " '#food': 218,\n",
              " '#delivery': 38,\n",
              " '@thejoshuaturner': 1,\n",
              " '@loreign83': 1,\n",
              " '@peanut_astro': 1,\n",
              " '@my_amigouk': 1,\n",
              " '@afneil': 2,\n",
              " '@borisjohnson': 125,\n",
              " '@patel4witham': 3,\n",
              " 'both': 184,\n",
              " 'disgusting': 49,\n",
              " 'disgraceful': 13,\n",
              " 'charging': 77,\n",
              " 'inflated': 137,\n",
              " 'items': 618,\n",
              " 'stopping': 40,\n",
              " 'government': 680,\n",
              " 'something': 272,\n",
              " ...}"
            ]
          },
          "metadata": {},
          "execution_count": 7
        }
      ],
      "source": [
        "# -- YOUR CODE HERE --\n",
        "tokens_dict = {}\n",
        "for tweet in df['OriginalTweet']:\n",
        "  tokenized_tweet = str(tweet).lower().split()\n",
        "  for token in tokenized_tweet:\n",
        "    if token in tokens_dict:\n",
        "      tokens_dict[token] += 1\n",
        "    else:\n",
        "      tokens_dict[token] = 1\n",
        "tokens_dict"
      ]
    },
    {
      "cell_type": "markdown",
      "metadata": {
        "id": "Pe0h2Jqkpnao"
      },
      "source": [
        "Какой размер словаря получился?"
      ]
    },
    {
      "cell_type": "code",
      "execution_count": 8,
      "metadata": {
        "id": "umyENA7EpokD",
        "colab": {
          "base_uri": "https://localhost:8080/"
        },
        "outputId": "2fbb4a4d-3564-475c-87b8-84183754d3ab"
      },
      "outputs": [
        {
          "output_type": "execute_result",
          "data": {
            "text/plain": [
              "103200"
            ]
          },
          "metadata": {},
          "execution_count": 8
        }
      ],
      "source": [
        "# -- YOUR CODE HERE --\n",
        "len(tokens_dict)"
      ]
    },
    {
      "cell_type": "markdown",
      "metadata": {
        "id": "0d2G1Z-Qpqkd"
      },
      "source": [
        "Выведите 10 самых популярных токенов с количеством встреч каждого из них. Объясните, почему именно эти токены в топе."
      ]
    },
    {
      "cell_type": "code",
      "execution_count": 9,
      "metadata": {
        "id": "Impi32a_pssg",
        "colab": {
          "base_uri": "https://localhost:8080/"
        },
        "outputId": "47cb9afc-3409-4d39-d865-006e9c121080"
      },
      "outputs": [
        {
          "output_type": "stream",
          "name": "stdout",
          "text": [
            "the: 38250\n",
            "to: 33447\n",
            "and: 20935\n",
            "of: 18578\n",
            "a: 16667\n",
            "in: 16024\n",
            "for: 12193\n",
            "#coronavirus: 11759\n",
            "is: 10596\n",
            "are: 9958\n"
          ]
        }
      ],
      "source": [
        "# -- YOUR CODE HERE --\n",
        "for token, count in (sorted(tokens_dict.items(), key=lambda item: item[1], reverse=True)[:10]):\n",
        "  print(f'{token}: {count}')"
      ]
    },
    {
      "cell_type": "markdown",
      "metadata": {
        "id": "ZtuJCD0ApuFd"
      },
      "source": [
        "**Ответ:** # -- YOUR ANSWER HERE --\n",
        "**Эти токены в топе из-за того, что эти слова - служебные для английского языка (частицы, предлоги и т.д.). Еще есть слово \"коронавирус\", которое здесь по причине того, что датафрейм о твитах про коронавирус.**"
      ]
    },
    {
      "cell_type": "markdown",
      "metadata": {
        "id": "T7DTQDkWsVYp"
      },
      "source": [
        "Удалите стоп-слова из словаря и выведите новый топ-10 токенов (и количество встреч) по популярности.  Что можно сказать  о нем?"
      ]
    },
    {
      "cell_type": "code",
      "source": [
        "!pip install nltk"
      ],
      "metadata": {
        "colab": {
          "base_uri": "https://localhost:8080/"
        },
        "id": "lqahue-tbHq3",
        "outputId": "4c4d1f40-d0b9-4207-dc6d-9574bcbc27f1"
      },
      "execution_count": 10,
      "outputs": [
        {
          "output_type": "stream",
          "name": "stdout",
          "text": [
            "Requirement already satisfied: nltk in /usr/local/lib/python3.11/dist-packages (3.9.1)\n",
            "Requirement already satisfied: click in /usr/local/lib/python3.11/dist-packages (from nltk) (8.2.0)\n",
            "Requirement already satisfied: joblib in /usr/local/lib/python3.11/dist-packages (from nltk) (1.5.0)\n",
            "Requirement already satisfied: regex>=2021.8.3 in /usr/local/lib/python3.11/dist-packages (from nltk) (2024.11.6)\n",
            "Requirement already satisfied: tqdm in /usr/local/lib/python3.11/dist-packages (from nltk) (4.67.1)\n"
          ]
        }
      ]
    },
    {
      "cell_type": "code",
      "execution_count": 11,
      "metadata": {
        "id": "8csSAdgTsnFx",
        "colab": {
          "base_uri": "https://localhost:8080/"
        },
        "outputId": "25501c33-9797-460d-dd7a-41306b22c220"
      },
      "outputs": [
        {
          "output_type": "stream",
          "name": "stderr",
          "text": [
            "[nltk_data] Downloading package stopwords to /root/nltk_data...\n",
            "[nltk_data]   Unzipping corpora/stopwords.zip.\n"
          ]
        },
        {
          "output_type": "stream",
          "name": "stdout",
          "text": [
            "#coronavirus: 11759\n",
            "prices: 5625\n",
            "food: 5409\n",
            "grocery: 4882\n",
            "supermarket: 4662\n",
            "covid-19: 4504\n",
            "people: 4488\n",
            "store: 4486\n",
            "#covid19: 3561\n",
            "consumer: 3233\n"
          ]
        }
      ],
      "source": [
        "import nltk\n",
        "nltk.download('stopwords')\n",
        "from nltk.corpus import stopwords\n",
        "\n",
        "# -- YOUR CODE HERE --\n",
        "tokens_dict_without_stopwords = dict(filter(lambda item: item[0] not in stopwords.words(\"english\"), tokens_dict.items()))\n",
        "for token, count in (sorted(tokens_dict_without_stopwords.items(), key=lambda item: item[1], reverse=True)[:10]):\n",
        "  print(f'{token}: {count}')"
      ]
    },
    {
      "cell_type": "markdown",
      "metadata": {
        "id": "LZH0x2Lzs-Dh"
      },
      "source": [
        "**Ответ:**  # -- YOUR ANSWER HERE --\n",
        "**Про список можно сказать, что 3 слова - коронавирус. Есть слово люди. Остальные слова связаны с магазинами. Выглядит правдободобно.**"
      ]
    },
    {
      "cell_type": "markdown",
      "metadata": {
        "id": "TKSGRyI-uor0"
      },
      "source": [
        "Также выведите 20 самых непопулярных слов (если самых непопулярных слов больше, выведите любые 20 из них) Почему эти токены непопулярны, требуется ли как-то дополнительно работать с ними?"
      ]
    },
    {
      "cell_type": "code",
      "execution_count": 12,
      "metadata": {
        "id": "moArbwfvun9t",
        "colab": {
          "base_uri": "https://localhost:8080/"
        },
        "outputId": "0768dbe0-9e0c-4c57-99f8-d03566f550f9"
      },
      "outputs": [
        {
          "output_type": "stream",
          "name": "stdout",
          "text": [
            "poss: 1\n",
            "australia:: 1\n",
            "https://t.co/binca9vp8p: 1\n",
            "#confinementgeneral: 1\n",
            "https://t.co/zrlg0z520j: 1\n",
            "litteraly: 1\n",
            "#coronavirusfrance: 1\n",
            "https://t.co/usmualq72n: 1\n",
            "@tim_dodson: 1\n",
            "https://t.co/cfxch7a2lu: 1\n",
            "civics: 1\n",
            "about\".: 1\n",
            "https://t.co/iefdnehgdo: 1\n",
            "https://t.co/kw91zj5o5i: 1\n",
            "prevention,we: 1\n",
            "19?.: 1\n",
            "#govindia: 1\n",
            "#horningsea: 1\n",
            "https://t.co/lsgrxxhjhh: 1\n",
            "https://t.co/8ywakfjexc: 1\n"
          ]
        }
      ],
      "source": [
        "# -- YOUR CODE HERE --\n",
        "for token, count in (sorted(tokens_dict_without_stopwords.items(), key=lambda item: item[1])[:20]):\n",
        "  print(f'{token}: {count}')"
      ]
    },
    {
      "cell_type": "markdown",
      "metadata": {
        "id": "uRp3J1gQunlR"
      },
      "source": [
        "**Ответ:** # -- YOUR ANSWER HERE --\n",
        "Эти токены непопулярны, потому что они уникальны. Например: ссылки, упоминания людей через @, непопулярные хэштэги, ошибка в слове \"litteraly\". Что-то стало уникальным из-за токенизации, например: 19?.\n",
        "Дополнительно с ними работать не требуется, так как они имеют очень маленькую значимость и не влияют на общую картину.\n"
      ]
    },
    {
      "cell_type": "markdown",
      "metadata": {
        "id": "wx9LQOSPzvjV"
      },
      "source": [
        "Теперь воспользуемся токенайзером получше - TweetTokenizer из библиотеки nltk. Примените его и посмотрите на топ-10 популярных слов. Чем он отличается от топа, который получался раньше? Почему?"
      ]
    },
    {
      "cell_type": "code",
      "execution_count": 13,
      "metadata": {
        "id": "2G1UkyVxzvFY",
        "colab": {
          "base_uri": "https://localhost:8080/"
        },
        "outputId": "9d86ec18-3874-4de6-811a-89af5c6a853b"
      },
      "outputs": [
        {
          "output_type": "stream",
          "name": "stdout",
          "text": [
            "the: 34781\n",
            ".: 34284\n",
            "to: 32812\n",
            ",: 25142\n",
            "and: 20439\n",
            "of: 18429\n",
            "a: 15679\n",
            "in: 15143\n",
            "?: 13730\n",
            "for: 11722\n"
          ]
        }
      ],
      "source": [
        "from nltk.tokenize import TweetTokenizer\n",
        "\n",
        "# -- YOUR CODE HERE --\n",
        "tw = TweetTokenizer()\n",
        "tweet_tokenized_dict = {}\n",
        "for tweet in df['OriginalTweet']:\n",
        "  tw_tokenized_tweet = tw.tokenize(tweet)\n",
        "  for token in tw_tokenized_tweet:\n",
        "    if token in tweet_tokenized_dict:\n",
        "      tweet_tokenized_dict[token] += 1\n",
        "    else:\n",
        "      tweet_tokenized_dict[token] = 1\n",
        "for token, count in (sorted(tweet_tokenized_dict.items(), key=lambda item: item[1], reverse=True)[:10]):\n",
        "  print(f'{token}: {count}')\n"
      ]
    },
    {
      "cell_type": "markdown",
      "metadata": {
        "id": "50eVUnJN1Zxl"
      },
      "source": [
        "**Ответ:** # -- YOUR ANSWER HERE -- Отличается наличием знаков препинания. Отличие в том, что TweetTokenizer - специально создан для работы с твитами, поэтому он умеет отделять всякие символы от слов. Так и произошло с **\".\"**, **\",\"**, **\"?\"**."
      ]
    },
    {
      "cell_type": "markdown",
      "metadata": {
        "id": "1gqQgiMs11bs"
      },
      "source": [
        "Удалите из словаря стоп-слова и пунктуацию, посмотрите на новый топ-10 слов с количеством встреч, есть ли теперь в нем что-то не похожее на слова?"
      ]
    },
    {
      "cell_type": "code",
      "execution_count": 14,
      "metadata": {
        "id": "0yHWdFrp0Mup",
        "colab": {
          "base_uri": "https://localhost:8080/"
        },
        "outputId": "c5fa5e0a-7e2f-4719-aaf0-1c8bb3ac83cc"
      },
      "outputs": [
        {
          "output_type": "stream",
          "name": "stdout",
          "text": [
            "Â: 10498\n",
            ": 10361\n",
            "#coronavirus: 10211\n",
            "19: 10142\n",
            "I: 7484\n",
            ": 6190\n",
            "prices: 6166\n",
            "COVID: 5945\n",
            "food: 5423\n",
            "store: 5234\n"
          ]
        }
      ],
      "source": [
        "from string import punctuation\n",
        "\n",
        "# -- YOUR CODE HERE --\n",
        "noise = stopwords.words(\"english\") + list(punctuation)\n",
        "tweet_tokenized_dict_without_stopwords = dict(filter(lambda item: item[0] not in noise, tweet_tokenized_dict.items()))\n",
        "for token, count in (sorted(tweet_tokenized_dict_without_stopwords.items(), key=lambda item: item[1], reverse=True)[:10]):\n",
        "  print(f'{token}: {count}')"
      ]
    },
    {
      "cell_type": "markdown",
      "metadata": {
        "id": "8ZJqXELP_Yxy"
      },
      "source": [
        "**Ответ:** # -- YOUR ANSWER HERE -- Есть"
      ]
    },
    {
      "cell_type": "markdown",
      "metadata": {
        "id": "rzXjMsSB_kXB"
      },
      "source": [
        "Скорее всего в некоторых топах были неотображаемые символы или отдельные буквы не латинского алфавита. Уберем их: удалите из словаря токены из одного символа, позиция которого в таблице Unicode 128 и более (`ord(x) >= 128`)\n",
        "\n",
        "Выведите топ-10 самых популярных и топ-20 непопулярных слов. Чем полученные топы отличаются от итоговых топов, полученных при использовании токенизации по пробелам? Что теперь лучше, а что хуже?"
      ]
    },
    {
      "cell_type": "code",
      "execution_count": 15,
      "metadata": {
        "id": "1695hlkS_1-J",
        "colab": {
          "base_uri": "https://localhost:8080/"
        },
        "outputId": "e5e874b9-7b50-44e3-8cc6-6a7bc0f069e5"
      },
      "outputs": [
        {
          "output_type": "stream",
          "name": "stdout",
          "text": [
            "Топ-10 самых популярных слов\n",
            "#coronavirus: 10211\n",
            "19: 10142\n",
            "I: 7484\n",
            "prices: 6166\n",
            "COVID: 5945\n",
            "food: 5423\n",
            "store: 5234\n",
            "supermarket: 4803\n",
            "grocery: 4350\n",
            "people: 4300\n",
            "------------\n",
            "Топ-20 самых непопулярных слов\n",
            "poss: 1\n",
            "https://t.co/bInCA9Vp8P: 1\n",
            "#ConfinementGeneral: 1\n",
            "https://t.co/zrlG0Z520j: 1\n",
            "litteraly: 1\n",
            "#CoronavirusFrance: 1\n",
            "https://t.co/usmuaLq72n: 1\n",
            "@Tim_Dodson: 1\n",
            "https://t.co/cfXch7a2lU: 1\n",
            "Civics: 1\n",
            "https://t.co/ieFDNeHgDO: 1\n",
            "https://t.co/kw91zJ5O5i: 1\n",
            "#govindia: 1\n",
            "#horningsea: 1\n",
            "https://t.co/lsGrXXhjhh: 1\n",
            "https://t.co/8YWaKFjExC: 1\n",
            "ADARA: 1\n",
            "Up-To-Date: 1\n",
            "https://t.co/PnA797jDKV: 1\n",
            "https://t.co/dQox6uSihz: 1\n"
          ]
        }
      ],
      "source": [
        "# -- YOUR CODE HERE --\n",
        "tweet_tokenized_dict_without_stopwords_and_special_symbols = dict(filter(lambda item: not (len(item[0]) == 1 and ord(item[0]) >= 128), tweet_tokenized_dict_without_stopwords.items()))\n",
        "print('Топ-10 самых популярных слов')\n",
        "for token, count in (sorted(tweet_tokenized_dict_without_stopwords_and_special_symbols.items(), key=lambda item: item[1], reverse=True)[:10]):\n",
        "  print(f'{token}: {count}')\n",
        "print('------------')\n",
        "print('Топ-20 самых непопулярных слов')\n",
        "for token, count in (sorted(tweet_tokenized_dict_without_stopwords_and_special_symbols.items(), key=lambda item: item[1])[:20]):\n",
        "  print(f'{token}: {count}')"
      ]
    },
    {
      "cell_type": "markdown",
      "metadata": {
        "id": "KzjHAKIlDvc6"
      },
      "source": [
        "**Ответ:** # -- YOUR ANSWER HERE --\n",
        "Разница заметна в том, что количество одних и тех же слов отличается. Например в первом словаре #coronavirus = 11759, а во втором - 10142. Еще в новые топы вошли новые слова. Например: \"19\", \"I\" в топ-10 и т.д. В данном случае лучше разделены слова (теперь нет таких ситуаций, когда слово слилось со знаком препинания). Возможно хуже то, что в новом топ-10 есть такие слова как \"19\", \"I\", вряд ли они могут дать какую-то ясность при анализе."
      ]
    },
    {
      "cell_type": "markdown",
      "metadata": {
        "id": "EcDf9_6HB2zm"
      },
      "source": [
        "Выведите топ-10 популярных хештегов (токены, первые символы которых - #) с количеством встреч. Что можно сказать о них?"
      ]
    },
    {
      "cell_type": "code",
      "execution_count": 16,
      "metadata": {
        "id": "zk4fygCUBw3l",
        "colab": {
          "base_uri": "https://localhost:8080/"
        },
        "outputId": "2e3910b0-1ddd-4754-8482-c85ebdfdf314"
      },
      "outputs": [
        {
          "output_type": "stream",
          "name": "stdout",
          "text": [
            "#coronavirus: 10211\n",
            "#COVID19: 2621\n",
            "#Covid_19: 2126\n",
            "#Coronavirus: 1806\n",
            "#COVID2019: 1341\n",
            "#toiletpaper: 944\n",
            "#covid19: 829\n",
            "#COVID: 775\n",
            "#CoronaCrisis: 599\n",
            "#CoronaVirus: 525\n"
          ]
        }
      ],
      "source": [
        "from ast import keyword\n",
        "# -- YOUR CODE HERE --\n",
        "hashtags_dict = dict(filter(lambda item: item[0].startswith('#'), tweet_tokenized_dict_without_stopwords_and_special_symbols.items()))\n",
        "for token, count in (sorted(hashtags_dict.items(), key=lambda item: item[1], reverse=True)[:10]):\n",
        "  print(f'{token}: {count}')"
      ]
    },
    {
      "cell_type": "markdown",
      "metadata": {
        "id": "-6NeNWBkDxM7"
      },
      "source": [
        "**Ответ:** # -- YOUR ANSWER HERE -- 9 твитов про коронавирус и 1 про toilet бумагу. Учитывая то, что датафрейм про твиты на тему коронавируса, всё логично."
      ]
    },
    {
      "cell_type": "markdown",
      "metadata": {
        "id": "LLYBg7caD5GA"
      },
      "source": [
        "То же самое проделайте для ссылок на сайт https://t.co Сравнима ли популярность ссылок с популярностью хештегов? Будет ли информация о ссылке на конкретную страницу полезна?"
      ]
    },
    {
      "cell_type": "code",
      "execution_count": 17,
      "metadata": {
        "id": "MXbm1oeaCK9S",
        "colab": {
          "base_uri": "https://localhost:8080/"
        },
        "outputId": "fc781c5d-e706-4f9e-81e8-c6846da9f6e3"
      },
      "outputs": [
        {
          "output_type": "stream",
          "name": "stdout",
          "text": [
            "https://t.co/oXA7SWtoNd: 6\n",
            "https://t.co/G63RP042HO: 5\n",
            "https://t.co/R7sAGojsjg: 4\n",
            "https://t.co/WrLHYzIzAA: 4\n",
            "https://t.co/ymsEmlVTTd: 4\n",
            "https://t.co/3kFUIOJXEp: 4\n",
            "https://t.co/OI39zSAnQ8: 4\n",
            "https://t.co/6yVYKIAb2c: 4\n",
            "https://t.co/xPcm2Xkj4O: 4\n",
            "https://t.co/gu6B4XpqP4: 4\n"
          ]
        }
      ],
      "source": [
        "# -- YOUR CODE HERE --\n",
        "links_dict = dict(filter(lambda item: item[0].startswith('https://t.co'), tweet_tokenized_dict_without_stopwords_and_special_symbols.items()))\n",
        "for token, count in (sorted(links_dict.items(), key=lambda item: item[1], reverse=True)[:10]):\n",
        "  print(f'{token}: {count}')"
      ]
    },
    {
      "cell_type": "markdown",
      "metadata": {
        "id": "at6lRYZ8A07N"
      },
      "source": [
        "**Ответ:** # -- YOUR ANSWER HERE --\n",
        "хэштэг на 10 месте популярнее ссылки на 1 месте в 87,5 раз. Суммарное количество хэштэгов в топ-10 намного больше суммарного количества ссылок в топ-10. Вообщем популярность несравнима. Информация о ссылке полезна, так как нам будут интересны страницы, на которые ссылались много раз."
      ]
    },
    {
      "cell_type": "markdown",
      "metadata": {
        "id": "IOGdUU1kBU1D"
      },
      "source": [
        "Используем опыт предыдущих экспериментов и напишем собственный токенайзер, улучшив TweetTokenizer. Функция tokenize должна:\n",
        "\n",
        "\n",
        "\n",
        "*   Привести текст в нижний регистр\n",
        "*   Применить TweetTokenizer для  выделения токенов\n",
        "*   Удалить стоп-слова, пунктуацию, токены из одного символа с позицией в таблице Unicode 128 и более,  ссылки на t.co\n",
        "\n"
      ]
    },
    {
      "cell_type": "code",
      "execution_count": 18,
      "metadata": {
        "id": "ctEsB6xkFrrK"
      },
      "outputs": [],
      "source": [
        "def custom_tokenizer(text):\n",
        "\n",
        "  # -- YOUR CODE HERE --\n",
        "  lower_text = text.lower()\n",
        "  tw = TweetTokenizer()\n",
        "  tweet_tokenize_tokens = tw.tokenize(lower_text)\n",
        "  tokens = [token for token in tweet_tokenize_tokens if (token not in stopwords.words(\"english\") and token not in punctuation and\n",
        "            not (len(token) == 1 and ord(token) >= 128) and not(token.startswith('https://t.co')))]\n",
        "\n",
        "  return tokens\n"
      ]
    },
    {
      "cell_type": "code",
      "execution_count": 19,
      "metadata": {
        "colab": {
          "base_uri": "https://localhost:8080/"
        },
        "id": "XwbgtYkJGYym",
        "outputId": "1ec641be-4e65-45d2-809c-76a0df43baab"
      },
      "outputs": [
        {
          "output_type": "execute_result",
          "data": {
            "text/plain": [
              "['sample', 'text', '@sample_text', '#sampletext']"
            ]
          },
          "metadata": {},
          "execution_count": 19
        }
      ],
      "source": [
        "custom_tokenizer('This is sample text!!!! @Sample_text I, \\x92\\x92 https://t.co/sample  #sampletext')"
      ]
    },
    {
      "cell_type": "markdown",
      "metadata": {
        "id": "wURVABmXHk97"
      },
      "source": [
        "## Задание 3 Векторизация текстов (2 балла)"
      ]
    },
    {
      "cell_type": "markdown",
      "metadata": {
        "id": "H44iXkoHIQfN"
      },
      "source": [
        "Обучите CountVectorizer с использованием custom_tokenizer в качестве токенайзера. Как размер полученного словаря соотносится с размером изначального словаря из начала задания 2?"
      ]
    },
    {
      "cell_type": "code",
      "source": [
        "from sklearn.feature_extraction.text import CountVectorizer\n",
        "\n",
        "cv = CountVectorizer(tokenizer=custom_tokenizer) # -- YOUR CODE HERE --\n",
        "cv.fit(train['OriginalTweet'])\n",
        "print(len(cv.vocabulary_))"
      ],
      "metadata": {
        "colab": {
          "base_uri": "https://localhost:8080/"
        },
        "id": "gHn_limQl3BI",
        "outputId": "bdc8b179-ecc4-4c73-c6ca-25e537fa578d"
      },
      "execution_count": 20,
      "outputs": [
        {
          "output_type": "stream",
          "name": "stderr",
          "text": [
            "/usr/local/lib/python3.11/dist-packages/sklearn/feature_extraction/text.py:517: UserWarning: The parameter 'token_pattern' will not be used since 'tokenizer' is not None'\n",
            "  warnings.warn(\n"
          ]
        },
        {
          "output_type": "stream",
          "name": "stdout",
          "text": [
            "45290\n"
          ]
        }
      ]
    },
    {
      "cell_type": "markdown",
      "metadata": {
        "id": "gsfmaSGoItUm"
      },
      "source": [
        "**Ответ:** # -- YOUR ANSWER HERE -- Размер полученного словаря примерно в 2.3 раза больше чем размер словаря из начала задания 2"
      ]
    },
    {
      "cell_type": "markdown",
      "metadata": {
        "id": "lm6UHNmqKZT0"
      },
      "source": [
        "Посмотрим на какой-нибудь конкретный твитт:"
      ]
    },
    {
      "cell_type": "code",
      "execution_count": 21,
      "metadata": {
        "id": "aJVjjfqOJh8m",
        "outputId": "00bf1241-f36c-4591-c8e2-38c640bce588",
        "colab": {
          "base_uri": "https://localhost:8080/"
        }
      },
      "outputs": [
        {
          "output_type": "execute_result",
          "data": {
            "text/plain": [
              "('Nice one @SkyNews lets not panic but show ppl in france queueing for food!!! #CoronavirusOutbreak #COVID2019 brainless!! Ffs',\n",
              " np.int64(0))"
            ]
          },
          "metadata": {},
          "execution_count": 21
        }
      ],
      "source": [
        "ind = 9023\n",
        "train.iloc[ind]['OriginalTweet'], train.iloc[ind]['Sentiment']\n"
      ]
    },
    {
      "cell_type": "markdown",
      "metadata": {
        "id": "PBMIHBI5KdaS"
      },
      "source": [
        "Автор твитта не доволен ситуацией с едой во Франции и текст имеет резко негативную окраску.\n",
        "\n",
        "Примените обученный CountVectorizer для векторизации данного текста, и попытайтесь определить самый важный токен и самый неважный токен (токен, компонента которого в векторе максимальна/минимальна, без учета 0). Хорошо ли они определились, почему?"
      ]
    },
    {
      "cell_type": "code",
      "execution_count": 22,
      "metadata": {
        "id": "7NcAllaEKsJj",
        "outputId": "ffcd83e8-14cd-4cab-9997-2370f38b7ab8",
        "colab": {
          "base_uri": "https://localhost:8080/"
        }
      },
      "outputs": [
        {
          "output_type": "stream",
          "name": "stdout",
          "text": [
            "самый важный токен: #coronavirusoutbreak\n",
            "самый неважный токен: #coronavirusoutbreak\n",
            "{'#coronavirusoutbreak': np.int64(1), '#covid2019': np.int64(1), '@skynews': np.int64(1), 'brainless': np.int64(1), 'ffs': np.int64(1), 'food': np.int64(1), 'france': np.int64(1), 'lets': np.int64(1), 'nice': np.int64(1), 'one': np.int64(1), 'panic': np.int64(1), 'ppl': np.int64(1), 'queueing': np.int64(1), 'show': np.int64(1)}\n"
          ]
        }
      ],
      "source": [
        "# -- YOUR CODE HERE --\n",
        "vector_text = cv.transform([train.iloc[ind]['OriginalTweet']])\n",
        "feature_names = cv.get_feature_names_out()\n",
        "\n",
        "nonzero_indices = vector_text.indices\n",
        "nonzero_data = vector_text.data\n",
        "\n",
        "if len(nonzero_data) > 0:\n",
        "    max_token = feature_names[nonzero_indices[np.argmax(nonzero_data)]]\n",
        "    min_token = feature_names[nonzero_indices[np.argmin(nonzero_data)]]\n",
        "    print(\"самый важный токен:\", max_token)\n",
        "    print(\"самый неважный токен:\", min_token)\n",
        "print({feature_names[i]: count for i, count in zip(vector_text.indices, vector_text.data)})"
      ]
    },
    {
      "cell_type": "markdown",
      "metadata": {
        "id": "TpEsl1k_NF4T"
      },
      "source": [
        "**Ответ:** # -- YOUR ANSWER HERE -- Определились плохо, так как данный векторизатор учитывает насколько часто слово встречается в данном тексте, но не учитывает то, насколько часто слова встречаются во всех текстах."
      ]
    },
    {
      "cell_type": "markdown",
      "metadata": {
        "id": "w4DsEQpLO3J6"
      },
      "source": [
        "Теперь примените TfidfVectorizer и  определите самый важный/неважный токены. Хорошо ли определились, почему?"
      ]
    },
    {
      "cell_type": "code",
      "execution_count": 23,
      "metadata": {
        "id": "uSNzdK3ENGB3",
        "outputId": "51c19608-906f-421b-bc4e-42f718383757",
        "colab": {
          "base_uri": "https://localhost:8080/"
        }
      },
      "outputs": [
        {
          "output_type": "stream",
          "name": "stdout",
          "text": [
            "самый важный токен: brainless\n",
            "самый неважный токен: food\n",
            "{'#coronavirusoutbreak': np.int64(1), '#covid2019': np.int64(1), '@skynews': np.int64(1), 'brainless': np.int64(1), 'ffs': np.int64(1), 'food': np.int64(1), 'france': np.int64(1), 'lets': np.int64(1), 'nice': np.int64(1), 'one': np.int64(1), 'panic': np.int64(1), 'ppl': np.int64(1), 'queueing': np.int64(1), 'show': np.int64(1)}\n"
          ]
        }
      ],
      "source": [
        "# -- YOUR CODE HERE --\n",
        "from sklearn.feature_extraction.text import TfidfVectorizer\n",
        "tv = TfidfVectorizer(tokenizer=custom_tokenizer)\n",
        "tv.fit(train['OriginalTweet'])\n",
        "vector_txt = tv.transform([train.iloc[ind]['OriginalTweet']])\n",
        "\n",
        "feature_names = tv.get_feature_names_out()\n",
        "nonzero_indices = vector_txt.indices\n",
        "nonzero_data = vector_txt.data\n",
        "\n",
        "if len(nonzero_data) > 0:\n",
        "    max_idx = nonzero_indices[np.argmax(nonzero_data)]\n",
        "    min_idx = nonzero_indices[np.argmin(nonzero_data)]\n",
        "\n",
        "    max_token = feature_names[max_idx]\n",
        "    min_token = feature_names[min_idx]\n",
        "    print(\"самый важный токен:\", max_token)\n",
        "    print(\"самый неважный токен:\", min_token)\n",
        "print({feature_names[i]: count for i, count in zip(vector_text.indices, vector_text.data)})"
      ]
    },
    {
      "cell_type": "markdown",
      "metadata": {
        "id": "NYao_UhqQADm"
      },
      "source": [
        "**Ответ:** # -- YOUR ANSWER HERE -- токены хорошо определились, так как tf-idf определил важность слов по тому, насколько часто они встречаются в этом тексте и насколько часто они встречается во всех текстах."
      ]
    },
    {
      "cell_type": "markdown",
      "metadata": {
        "id": "LGRJPqfWSesQ"
      },
      "source": [
        "Найдите какой-нибудь положительно окрашенный твитт, где TfidfVectorizer хорошо (полезно для определения окраски) выделяет важный токен, поясните пример.\n",
        "\n",
        "*Подсказка:* явно положительные твитты можно искать при помощи положительных слов (good, great, amazing и т. д.)"
      ]
    },
    {
      "cell_type": "code",
      "execution_count": 24,
      "metadata": {
        "id": "bRbQ2CHiSuJI",
        "colab": {
          "base_uri": "https://localhost:8080/",
          "height": 53
        },
        "outputId": "fde42ce0-d647-4a16-ea68-93a14ea2240b"
      },
      "outputs": [
        {
          "output_type": "execute_result",
          "data": {
            "text/plain": [
              "Empty DataFrame\n",
              "Columns: [UserName, ScreenName, Location, TweetAt, OriginalTweet, Sentiment]\n",
              "Index: []"
            ],
            "text/html": [
              "\n",
              "  <div id=\"df-7df7d328-3370-4796-937a-0c431d81c786\" class=\"colab-df-container\">\n",
              "    <div>\n",
              "<style scoped>\n",
              "    .dataframe tbody tr th:only-of-type {\n",
              "        vertical-align: middle;\n",
              "    }\n",
              "\n",
              "    .dataframe tbody tr th {\n",
              "        vertical-align: top;\n",
              "    }\n",
              "\n",
              "    .dataframe thead th {\n",
              "        text-align: right;\n",
              "    }\n",
              "</style>\n",
              "<table border=\"1\" class=\"dataframe\">\n",
              "  <thead>\n",
              "    <tr style=\"text-align: right;\">\n",
              "      <th></th>\n",
              "      <th>UserName</th>\n",
              "      <th>ScreenName</th>\n",
              "      <th>Location</th>\n",
              "      <th>TweetAt</th>\n",
              "      <th>OriginalTweet</th>\n",
              "      <th>Sentiment</th>\n",
              "    </tr>\n",
              "  </thead>\n",
              "  <tbody>\n",
              "  </tbody>\n",
              "</table>\n",
              "</div>\n",
              "    <div class=\"colab-df-buttons\">\n",
              "\n",
              "  <div class=\"colab-df-container\">\n",
              "    <button class=\"colab-df-convert\" onclick=\"convertToInteractive('df-7df7d328-3370-4796-937a-0c431d81c786')\"\n",
              "            title=\"Convert this dataframe to an interactive table.\"\n",
              "            style=\"display:none;\">\n",
              "\n",
              "  <svg xmlns=\"http://www.w3.org/2000/svg\" height=\"24px\" viewBox=\"0 -960 960 960\">\n",
              "    <path d=\"M120-120v-720h720v720H120Zm60-500h600v-160H180v160Zm220 220h160v-160H400v160Zm0 220h160v-160H400v160ZM180-400h160v-160H180v160Zm440 0h160v-160H620v160ZM180-180h160v-160H180v160Zm440 0h160v-160H620v160Z\"/>\n",
              "  </svg>\n",
              "    </button>\n",
              "\n",
              "  <style>\n",
              "    .colab-df-container {\n",
              "      display:flex;\n",
              "      gap: 12px;\n",
              "    }\n",
              "\n",
              "    .colab-df-convert {\n",
              "      background-color: #E8F0FE;\n",
              "      border: none;\n",
              "      border-radius: 50%;\n",
              "      cursor: pointer;\n",
              "      display: none;\n",
              "      fill: #1967D2;\n",
              "      height: 32px;\n",
              "      padding: 0 0 0 0;\n",
              "      width: 32px;\n",
              "    }\n",
              "\n",
              "    .colab-df-convert:hover {\n",
              "      background-color: #E2EBFA;\n",
              "      box-shadow: 0px 1px 2px rgba(60, 64, 67, 0.3), 0px 1px 3px 1px rgba(60, 64, 67, 0.15);\n",
              "      fill: #174EA6;\n",
              "    }\n",
              "\n",
              "    .colab-df-buttons div {\n",
              "      margin-bottom: 4px;\n",
              "    }\n",
              "\n",
              "    [theme=dark] .colab-df-convert {\n",
              "      background-color: #3B4455;\n",
              "      fill: #D2E3FC;\n",
              "    }\n",
              "\n",
              "    [theme=dark] .colab-df-convert:hover {\n",
              "      background-color: #434B5C;\n",
              "      box-shadow: 0px 1px 3px 1px rgba(0, 0, 0, 0.15);\n",
              "      filter: drop-shadow(0px 1px 2px rgba(0, 0, 0, 0.3));\n",
              "      fill: #FFFFFF;\n",
              "    }\n",
              "  </style>\n",
              "\n",
              "    <script>\n",
              "      const buttonEl =\n",
              "        document.querySelector('#df-7df7d328-3370-4796-937a-0c431d81c786 button.colab-df-convert');\n",
              "      buttonEl.style.display =\n",
              "        google.colab.kernel.accessAllowed ? 'block' : 'none';\n",
              "\n",
              "      async function convertToInteractive(key) {\n",
              "        const element = document.querySelector('#df-7df7d328-3370-4796-937a-0c431d81c786');\n",
              "        const dataTable =\n",
              "          await google.colab.kernel.invokeFunction('convertToInteractive',\n",
              "                                                    [key], {});\n",
              "        if (!dataTable) return;\n",
              "\n",
              "        const docLinkHtml = 'Like what you see? Visit the ' +\n",
              "          '<a target=\"_blank\" href=https://colab.research.google.com/notebooks/data_table.ipynb>data table notebook</a>'\n",
              "          + ' to learn more about interactive tables.';\n",
              "        element.innerHTML = '';\n",
              "        dataTable['output_type'] = 'display_data';\n",
              "        await google.colab.output.renderOutput(dataTable, element);\n",
              "        const docLink = document.createElement('div');\n",
              "        docLink.innerHTML = docLinkHtml;\n",
              "        element.appendChild(docLink);\n",
              "      }\n",
              "    </script>\n",
              "  </div>\n",
              "\n",
              "    </div>\n",
              "  </div>\n"
            ],
            "application/vnd.google.colaboratory.intrinsic+json": {
              "type": "dataframe",
              "repr_error": "Out of range float values are not JSON compliant: nan"
            }
          },
          "metadata": {},
          "execution_count": 24
        }
      ],
      "source": [
        "train[train['OriginalTweet'].apply(lambda x: 'your_good_word_here' in x) & (train['Sentiment'] == 1)]"
      ]
    },
    {
      "cell_type": "code",
      "source": [
        "# -- YOUR CODE HERE --\n",
        "positive_tweet = train[train['OriginalTweet'].apply(lambda x: 'amazing' in x) & (train['Sentiment'] == 1)].iloc[1]['OriginalTweet']\n",
        "print(positive_tweet)\n",
        "vector_positive_tweet = tv.transform([positive_tweet])\n",
        "\n",
        "feature_names = tv.get_feature_names_out()\n",
        "nonzero_indices = vector_positive_tweet.indices\n",
        "nonzero_data = vector_positive_tweet.data\n",
        "\n",
        "if len(nonzero_data) > 0:\n",
        "    max_idx = nonzero_indices[np.argmax(nonzero_data)]\n",
        "    max_token = feature_names[max_idx]\n",
        "    print(\"самый важный токен:\", max_token)\n",
        "print({feature_names[i]: count for i, count in zip(vector_positive_tweet.indices, vector_positive_tweet.data)})"
      ],
      "metadata": {
        "id": "jSjbKPCWk87K",
        "outputId": "ecfd2aa1-a104-4b1a-f205-65077d8c6611",
        "colab": {
          "base_uri": "https://localhost:8080/"
        }
      },
      "execution_count": 25,
      "outputs": [
        {
          "output_type": "stream",
          "name": "stdout",
          "text": [
            "Let s just take a minute to say THANK YOU also to the amazing postal workers So many real people behind a click of online shopping and getting cards delivered Thank   you   19\n",
            "самый важный токен: thank\n",
            "{'19': np.float64(0.08634631973114962), 'also': np.float64(0.17861928808211905), 'amazing': np.float64(0.2500353203109799), 'behind': np.float64(0.2543173563271987), 'cards': np.float64(0.28099848030535446), 'click': np.float64(0.2568671614420422), 'delivered': np.float64(0.2577554530925274), 'getting': np.float64(0.19726227818071365), 'let': np.float64(0.21263423966251035), 'many': np.float64(0.1705077944503823), 'minute': np.float64(0.294475932823674), 'online': np.float64(0.14234788335294127), 'people': np.float64(0.11898135781908495), 'postal': np.float64(0.29936770273835617), 'real': np.float64(0.219253456253651), 'say': np.float64(0.20055018776835393), 'shopping': np.float64(0.1396748768304228), 'take': np.float64(0.1764282133522333), 'thank': np.float64(0.3691299729428482), 'workers': np.float64(0.15141047883944309)}\n"
          ]
        }
      ]
    },
    {
      "cell_type": "markdown",
      "metadata": {
        "id": "JTv9ST2_U6NA"
      },
      "source": [
        "**Ответ:** # -- YOUR ANSWER HERE -- у меня самым важным словом стало слово 'thank'. Пользователь выражает благодарность, что указывает нам на положительную окраску твита."
      ]
    },
    {
      "cell_type": "markdown",
      "metadata": {
        "id": "JVEuZm8BHms6"
      },
      "source": [
        "## Задание 4 Обучение первых моделей (1 балл)"
      ]
    },
    {
      "cell_type": "markdown",
      "metadata": {
        "id": "JADkO3sfXdOG"
      },
      "source": [
        "Примените оба векторайзера для получения матриц с признаками текстов.  Выделите целевую переменную."
      ]
    },
    {
      "cell_type": "code",
      "execution_count": 26,
      "metadata": {
        "id": "DguoiXhCX2oN",
        "outputId": "9d573bf5-173e-4103-c2c6-31df8e8e5bca",
        "colab": {
          "base_uri": "https://localhost:8080/"
        }
      },
      "outputs": [
        {
          "output_type": "stream",
          "name": "stderr",
          "text": [
            "/usr/local/lib/python3.11/dist-packages/sklearn/feature_extraction/text.py:517: UserWarning: The parameter 'token_pattern' will not be used since 'tokenizer' is not None'\n",
            "  warnings.warn(\n"
          ]
        }
      ],
      "source": [
        "# -- YOUR CODE HERE --\n",
        "X_train_cv = cv.fit_transform(train['OriginalTweet'])\n",
        "X_test_cv = cv.transform(test['OriginalTweet'])\n",
        "\n",
        "X_train_tv = tv.fit_transform(train['OriginalTweet'])\n",
        "X_test_tv = tv.transform(test['OriginalTweet'])\n",
        "\n",
        "y_train = train['Sentiment']\n",
        "y_test = test['Sentiment']\n"
      ]
    },
    {
      "cell_type": "markdown",
      "metadata": {
        "id": "_FX1KSOfYSx4"
      },
      "source": [
        "Обучите логистическую регрессию на векторах из обоих векторайзеров. Посчитайте долю правильных ответов на обучающих и тестовых данных. Какой векторайзер показал лучший результат? Что можно сказать о моделях?\n",
        "\n",
        "Используйте `sparse` матрицы (после векторизации), не превращайте их в `numpy.ndarray` или `pd.DataFrame` - может не хватить памяти."
      ]
    },
    {
      "cell_type": "code",
      "execution_count": 27,
      "metadata": {
        "id": "-Tb3eh8UXJ6v",
        "outputId": "831de6a4-150d-490e-fced-13fe455ab46e",
        "colab": {
          "base_uri": "https://localhost:8080/"
        }
      },
      "outputs": [
        {
          "output_type": "stream",
          "name": "stdout",
          "text": [
            "Count_vectorizor:\n",
            "точность на трейне: 0.9847\n",
            "точность на тесте: 0.8671\n",
            "--------------------------\n",
            "Tfidf_vectorizor:\n",
            "точность на трейне: 0.9224\n",
            "точность на тесте: 0.8528\n"
          ]
        }
      ],
      "source": [
        "from sklearn.linear_model import LogisticRegression\n",
        "from sklearn.metrics import accuracy_score\n",
        "\n",
        "# -- YOUR CODE HERE --\n",
        "logreg_cv = LogisticRegression()\n",
        "logreg_tv = LogisticRegression()\n",
        "\n",
        "logreg_cv.fit(X_train_cv, y_train)\n",
        "y_pred_train_cv = logreg_cv.predict(X_train_cv)\n",
        "y_pred_test_cv = logreg_cv.predict(X_test_cv)\n",
        "\n",
        "logreg_tv.fit(X_train_tv, y_train)\n",
        "y_pred_train_tv = logreg_tv.predict(X_train_tv)\n",
        "y_pred_test_tv = logreg_tv.predict(X_test_tv)\n",
        "\n",
        "train_cv_accuracy = accuracy_score(y_train, y_pred_train_cv)\n",
        "train_tv_accuracy = accuracy_score(y_train, y_pred_train_tv)\n",
        "test_cv_accuracy = accuracy_score(y_test, y_pred_test_cv)\n",
        "test_tv_accuracy = accuracy_score(y_test, y_pred_test_tv)\n",
        "\n",
        "print('Count_vectorizor:')\n",
        "print(f'точность на трейне: {train_cv_accuracy:.4f}')\n",
        "print(f'точность на тесте: {test_cv_accuracy:.4f}')\n",
        "print('--------------------------')\n",
        "print('Tfidf_vectorizor:')\n",
        "print(f'точность на трейне: {train_tv_accuracy:.4f}')\n",
        "print(f'точность на тесте: {test_tv_accuracy:.4f}')"
      ]
    },
    {
      "cell_type": "markdown",
      "metadata": {
        "id": "8y_wO7rCmv7K"
      },
      "source": [
        "**Ответ:** # -- YOUR ANSWER HERE -- Можно заметить, что в случае с Count_vectorizor модель сильно переобучилась. В случае с Tfidf_vectorizer тоже переобучилась, но меньше. Лучший результат на тесте показал Count_vectorizer."
      ]
    },
    {
      "cell_type": "markdown",
      "metadata": {
        "id": "rSOR1i3mjrys"
      },
      "source": [
        "## Задание 5 Стемминг (0.5 балла)"
      ]
    },
    {
      "cell_type": "markdown",
      "metadata": {
        "id": "i6ONBWNPjuq-"
      },
      "source": [
        "Для уменьшения словаря можно использовать стемминг.\n",
        "\n",
        "Модифицируйте написанный токенайзер, добавив в него стемминг с использованием SnowballStemmer. Обучите Count- и Tfidf- векторайзеры. Как изменился размер словаря?"
      ]
    },
    {
      "cell_type": "code",
      "execution_count": 28,
      "metadata": {
        "id": "oVfA2-iMkQBb"
      },
      "outputs": [],
      "source": [
        "from nltk.stem.snowball import SnowballStemmer\n",
        "stemmer = SnowballStemmer(\"english\")\n",
        "def custom_stem_tokenizer(text):\n",
        "  # -- YOUR CODE HERE --\n",
        "  lower_text = text.lower()\n",
        "  tw = TweetTokenizer()\n",
        "  tweet_tokenize_tokens = tw.tokenize(lower_text)\n",
        "  tokens = [stemmer.stem(token) for token in tweet_tokenize_tokens if (token not in stopwords.words(\"english\") and token not in punctuation and\n",
        "            not (len(token) == 1 and ord(token) >= 128) and not(token.startswith('https://t.co')))]\n",
        "  return tokens"
      ]
    },
    {
      "cell_type": "code",
      "execution_count": 29,
      "metadata": {
        "colab": {
          "base_uri": "https://localhost:8080/"
        },
        "id": "9QmrjYtqnlPd",
        "outputId": "51422f9f-5e2e-408f-93ef-2c0ae87ec272"
      },
      "outputs": [
        {
          "output_type": "execute_result",
          "data": {
            "text/plain": [
              "['sampl', 'text', '@sample_text', '#sampletext', 'ad', 'word', 'check', 'stem']"
            ]
          },
          "metadata": {},
          "execution_count": 29
        }
      ],
      "source": [
        "custom_stem_tokenizer('This is sample text!!!! @Sample_text I, \\x92\\x92 https://t.co/sample  #sampletext adding more words to check stemming')"
      ]
    },
    {
      "cell_type": "markdown",
      "source": [
        "36652"
      ],
      "metadata": {
        "id": "Y0U44QKg3jFA"
      }
    },
    {
      "cell_type": "code",
      "execution_count": 30,
      "metadata": {
        "colab": {
          "base_uri": "https://localhost:8080/"
        },
        "id": "zAvUTmaplzOS",
        "outputId": "5e2cd206-f0d2-4c96-d421-51565abd43f2"
      },
      "outputs": [
        {
          "output_type": "stream",
          "name": "stderr",
          "text": [
            "/usr/local/lib/python3.11/dist-packages/sklearn/feature_extraction/text.py:517: UserWarning: The parameter 'token_pattern' will not be used since 'tokenizer' is not None'\n",
            "  warnings.warn(\n"
          ]
        },
        {
          "output_type": "stream",
          "name": "stdout",
          "text": [
            "36634\n"
          ]
        }
      ],
      "source": [
        "cv = CountVectorizer(tokenizer=custom_stem_tokenizer) # -- YOUR CODE HERE --\n",
        "tv = TfidfVectorizer(tokenizer=custom_stem_tokenizer)\n",
        "\n",
        "X_train_cv = cv.fit_transform(train['OriginalTweet'])\n",
        "X_test_cv = cv.transform(test['OriginalTweet'])\n",
        "\n",
        "X_train_tv = tv.fit_transform(train['OriginalTweet'])\n",
        "X_test_tv = tv.transform(test['OriginalTweet'])\n",
        "\n",
        "y_train = train['Sentiment']\n",
        "y_test = test['Sentiment']\n",
        "print(len(cv.vocabulary_))"
      ]
    },
    {
      "cell_type": "markdown",
      "metadata": {
        "id": "Oyzs5TaAoHP6"
      },
      "source": [
        "**Ответ** # -- YOUR ANSWER HERE --\n",
        "был: 45290 слов\n",
        "стал: 36634 слова"
      ]
    },
    {
      "cell_type": "markdown",
      "metadata": {
        "id": "1OkncHI8oRmd"
      },
      "source": [
        "Обучите логистическую регрессию с использованием обоих векторайзеров. Изменилось ли качество? Есть ли смысл применять стемминг?"
      ]
    },
    {
      "cell_type": "code",
      "execution_count": 31,
      "metadata": {
        "id": "ykZJPphEoZ5W",
        "colab": {
          "base_uri": "https://localhost:8080/"
        },
        "outputId": "942807ba-1291-4687-d641-5daefe4726fd"
      },
      "outputs": [
        {
          "output_type": "stream",
          "name": "stdout",
          "text": [
            "CountVectorizer со стеммингом:\n",
            "Точность на трейне: 0.9720\n",
            "Точность на тесте:  0.8675\n",
            "--------------------------\n",
            "TfidfVectorizer со стеммингом:\n",
            "Точность на трейне: 0.9166\n",
            "Точность на тесте:  0.8560\n"
          ]
        }
      ],
      "source": [
        "# -- YOUR CODE HERE --\n",
        "logreg_cv = LogisticRegression()\n",
        "logreg_tv = LogisticRegression()\n",
        "\n",
        "logreg_cv.fit(X_train_cv, y_train)\n",
        "y_pred_train_cv = logreg_cv.predict(X_train_cv)\n",
        "y_pred_test_cv = logreg_cv.predict(X_test_cv)\n",
        "\n",
        "logreg_tv.fit(X_train_tv, y_train)\n",
        "y_pred_train_tv = logreg_tv.predict(X_train_tv)\n",
        "y_pred_test_tv = logreg_tv.predict(X_test_tv)\n",
        "\n",
        "train_cv_accuracy = accuracy_score(y_train, y_pred_train_cv)\n",
        "train_tv_accuracy = accuracy_score(y_train, y_pred_train_tv)\n",
        "test_cv_accuracy = accuracy_score(y_test, y_pred_test_cv)\n",
        "test_tv_accuracy = accuracy_score(y_test, y_pred_test_tv)\n",
        "\n",
        "print('CountVectorizer со стеммингом:')\n",
        "print(f'Точность на трейне: {train_cv_accuracy:.4f}')\n",
        "print(f'Точность на тесте:  {test_cv_accuracy:.4f}')\n",
        "print('--------------------------')\n",
        "print('TfidfVectorizer со стеммингом:')\n",
        "print(f'Точность на трейне: {train_tv_accuracy:.4f}')\n",
        "print(f'Точность на тесте:  {test_tv_accuracy:.4f}')"
      ]
    },
    {
      "cell_type": "markdown",
      "metadata": {
        "id": "bCRlrODro0h8"
      },
      "source": [
        "**Ответ:** # -- YOUR ANSWER HERE -- Качество на тесте незначительно улучшилось(count_vectorizer на тесте: 0,8671 -> 0,8675, tfidf_vectorizer на тесте: 0,8528 -> 0,8560). Нет смысла применять стемминг."
      ]
    },
    {
      "cell_type": "markdown",
      "metadata": {
        "id": "hYWGQNEDqLC-"
      },
      "source": [
        "## Задание  6 Работа с частотами (1.5 балла)"
      ]
    },
    {
      "cell_type": "markdown",
      "metadata": {
        "id": "8Hq-tl5mqUSn"
      },
      "source": [
        "Еще один способ уменьшить количество признаков - это использовать параметры min_df и max_df при построении векторайзера  эти параметры помогают ограничить требуемую частоту встречаемости токена в документах.\n",
        "\n",
        "По умолчанию берутся все токены, которые встретились хотя бы один раз.\n",
        "\n"
      ]
    },
    {
      "cell_type": "markdown",
      "metadata": {
        "id": "m1SiD4DE3WZ2"
      },
      "source": [
        "Подберите max_df такой, что размер словаря будет 36651 (на 1 меньше, чем было). Почему параметр получился такой большой/маленький?"
      ]
    },
    {
      "cell_type": "markdown",
      "source": [
        "размер моего словаря был 36634"
      ],
      "metadata": {
        "id": "XvJ1n0k-u6Tq"
      }
    },
    {
      "cell_type": "code",
      "source": [
        "cv_df = CountVectorizer(tokenizer=custom_stem_tokenizer,\n",
        "                        max_df=7000 # -- YOUR CODE HERE --\n",
        "                        ).fit(\n",
        "                            # -- YOUR CODE HERE --\n",
        "                            train['OriginalTweet']\n",
        "                            )\n",
        "print(len(cv_df.vocabulary_))"
      ],
      "metadata": {
        "colab": {
          "base_uri": "https://localhost:8080/"
        },
        "id": "o3YLb8PViExb",
        "outputId": "55e0e346-a04c-43e5-ca9c-a83dc3d44da5"
      },
      "execution_count": 32,
      "outputs": [
        {
          "output_type": "stream",
          "name": "stderr",
          "text": [
            "/usr/local/lib/python3.11/dist-packages/sklearn/feature_extraction/text.py:517: UserWarning: The parameter 'token_pattern' will not be used since 'tokenizer' is not None'\n",
            "  warnings.warn(\n"
          ]
        },
        {
          "output_type": "stream",
          "name": "stdout",
          "text": [
            "36633\n"
          ]
        }
      ]
    },
    {
      "cell_type": "markdown",
      "source": [
        "Суть задания была в том, чтобы выкинуть из словаря самый популярный токен. Чтобы это сделать, потребовалось подобрать такой max_df, который был бы меньше количества встречаний самого популярного токена и больше количества встречаний второго по популярности токена.\n",
        "Из-за того, что второй по популярности токен встречается больше 6000 раз, max_df пришлось взять таким большим."
      ],
      "metadata": {
        "id": "j4ek_4oUrxtN"
      }
    },
    {
      "cell_type": "code",
      "source": [
        "# -- YOUR CODE HERE --"
      ],
      "metadata": {
        "id": "tyEpkJUkjnuK"
      },
      "execution_count": 33,
      "outputs": []
    },
    {
      "cell_type": "markdown",
      "metadata": {
        "id": "UdZYoGZR4UsA"
      },
      "source": [
        "**Ответ:** # -- YOUR ANSWER HERE --"
      ]
    },
    {
      "cell_type": "markdown",
      "metadata": {
        "id": "_gRIUaB1u32f"
      },
      "source": [
        "Подберите min_df (используйте дефолтное значение max_df) в CountVectorizer таким образом, чтобы размер словаря был 3700 токенов (при использовании токенайзера со стеммингом), а качество осталось таким же, как и было. Что можно сказать о результатах?"
      ]
    },
    {
      "cell_type": "markdown",
      "source": [
        "в моем случае размер словаря должен получиться на 18 меньше, то есть 3682"
      ],
      "metadata": {
        "id": "iN7fpoWL3q01"
      }
    },
    {
      "cell_type": "code",
      "execution_count": 34,
      "metadata": {
        "colab": {
          "base_uri": "https://localhost:8080/"
        },
        "id": "kSnMJkn9XmsT",
        "outputId": "c335d98a-778a-4deb-d6a1-ad2f00980927"
      },
      "outputs": [
        {
          "output_type": "stream",
          "name": "stdout",
          "text": [
            "3687\n"
          ]
        }
      ],
      "source": [
        "cv_df = CountVectorizer(tokenizer=custom_stem_tokenizer,\n",
        "                        min_df=11 # -- YOUR CODE HERE --\n",
        "                        ).fit(\n",
        "                            # -- YOUR CODE HERE --\n",
        "                            train['OriginalTweet']\n",
        "                            )\n",
        "print(len(cv_df.vocabulary_))"
      ]
    },
    {
      "cell_type": "markdown",
      "source": [
        "нужное значение никак не получается, возьму ближайшее возможное к нему - 3687"
      ],
      "metadata": {
        "id": "ksTLBP55ExgA"
      }
    },
    {
      "cell_type": "code",
      "source": [
        "# -- YOUR CODE HERE --\n",
        "X_train_cv_df = cv_df.transform(train['OriginalTweet'])\n",
        "X_test_cv_df = cv_df.transform(test['OriginalTweet'])\n",
        "\n",
        "y_train = train['Sentiment']\n",
        "y_test = test['Sentiment']\n",
        "\n",
        "logreg_cv_df = LogisticRegression()\n",
        "\n",
        "logreg_cv_df.fit(X_train_cv_df, y_train)\n",
        "y_pred_train_cv_df = logreg_cv_df.predict(X_train_cv_df)\n",
        "y_pred_test_cv_df = logreg_cv_df.predict(X_test_cv_df)\n",
        "\n",
        "train_cv_accuracy = accuracy_score(y_train, y_pred_train_cv_df)\n",
        "test_cv_accuracy = accuracy_score(y_test, y_pred_test_cv_df)\n",
        "\n",
        "print('CountVectorizer со стеммингом:')\n",
        "print(f'Точность на трейне: {train_cv_accuracy:.4f}')\n",
        "print(f'Точность на тесте:  {test_cv_accuracy:.4f}')"
      ],
      "metadata": {
        "id": "mvMDwpdfjm8Y",
        "outputId": "2be260c6-2976-4f1c-c903-49d5ce7df778",
        "colab": {
          "base_uri": "https://localhost:8080/"
        }
      },
      "execution_count": 35,
      "outputs": [
        {
          "output_type": "stream",
          "name": "stdout",
          "text": [
            "CountVectorizer со стеммингом:\n",
            "Точность на трейне: 0.9290\n",
            "Точность на тесте:  0.8680\n"
          ]
        }
      ]
    },
    {
      "cell_type": "markdown",
      "metadata": {
        "id": "3fGYpUIZx0fk"
      },
      "source": [
        "**Ответ:** # -- YOUR ANSWER HERE -- Точность на тесте была 0,8675, стала 0,8680 то есть хуже не стало."
      ]
    },
    {
      "cell_type": "markdown",
      "source": [
        "В предыдущих заданиях признаки не скалировались. Отскалируйте данные (при словаре размера 3.7 тысяч, векторизованные CountVectorizer), обучите логистическую регрессию, посмотрите качество и выведите `barplot`, содержащий по 10 токенов, с наибольшим по модулю положительными/отрицательными весами. Что можно сказать об этих токенах?"
      ],
      "metadata": {
        "id": "Gx_h_-inKbBl"
      }
    },
    {
      "cell_type": "code",
      "source": [
        "from sklearn.preprocessing import StandardScaler\n",
        "# -- YOUR CODE HERE --\n",
        "scaler = StandardScaler(with_mean=False)\n",
        "\n",
        "X_train_cv_df_scaled = scaler.fit_transform(X_train_cv_df)\n",
        "X_test_cv_df_scaled = scaler.transform(X_test_cv_df)\n",
        "\n",
        "logreg_scaled = LogisticRegression()\n",
        "logreg_scaled.fit(X_train_cv_df_scaled, y_train)\n",
        "\n",
        "y_pred_train_scaled = logreg_scaled.predict(X_train_cv_df_scaled)\n",
        "y_pred_test_scaled = logreg_scaled.predict(X_test_cv_df_scaled)\n",
        "\n",
        "train_accuracy = accuracy_score(y_train, y_pred_train_scaled)\n",
        "test_accuracy = accuracy_score(y_test, y_pred_test_scaled)\n",
        "\n",
        "print(f'точность на трейне: {train_accuracy:.4f}')\n",
        "print(f'точность на тесте: {test_accuracy:.4f}')\n",
        "\n",
        "tokens_list = cv_df.get_feature_names_out()\n",
        "w_list = logreg_scaled.coef_[0]\n",
        "\n",
        "top_most_positive_tokens = np.argsort(w_list)[-10:]\n",
        "top_most_negative_tokens = np.argsort(w_list)[:10]\n",
        "\n",
        "plt.figure(figsize=(12, 6))\n",
        "\n",
        "plt.subplot(1, 2, 1)\n",
        "plt.barh(np.array(tokens_list)[top_most_positive_tokens], w_list[top_most_positive_tokens])\n",
        "plt.title('Положительный топ-10')\n",
        "plt.xlabel('Вес')\n",
        "\n",
        "plt.subplot(1, 2, 2)\n",
        "plt.barh(np.array(tokens_list)[top_most_negative_tokens], w_list[top_most_negative_tokens])\n",
        "plt.title('Отрицательный топ-10')\n",
        "plt.xlabel('Вес')\n",
        "\n",
        "plt.show()\n"
      ],
      "metadata": {
        "id": "KBATXJX6LG9q",
        "outputId": "77e8d855-a311-461a-a9e4-46dd70f49894",
        "colab": {
          "base_uri": "https://localhost:8080/",
          "height": 599
        }
      },
      "execution_count": 36,
      "outputs": [
        {
          "output_type": "stream",
          "name": "stdout",
          "text": [
            "точность на трейне: 0.9415\n",
            "точность на тесте: 0.8447\n"
          ]
        },
        {
          "output_type": "display_data",
          "data": {
            "text/plain": [
              "<Figure size 1200x600 with 2 Axes>"
            ],
            "image/png": "[encoded data removed]"
          },
          "metadata": {}
        }
      ]
    },
    {
      "cell_type": "markdown",
      "source": [
        "**Ответ:** # -- YOUR ANSWER HERE -- Выглядит всё логично. В топ-10 положительных токенов входят слова, которые наталкивают на мысль о позитивной окраске твита. В топ-10 негативных токенов входят слова, которые наталкивают на мысль о негативной окраске твита"
      ],
      "metadata": {
        "id": "ThcEfzY1LHET"
      }
    },
    {
      "cell_type": "markdown",
      "metadata": {
        "id": "ktJVOdrIHq7B"
      },
      "source": [
        "## Задание 7 Другие признаки (1.5 балла)"
      ]
    },
    {
      "cell_type": "markdown",
      "metadata": {
        "id": "Yt3jRCZ2H0Og"
      },
      "source": [
        "Мы были сконцентрированы на работе с текстами твиттов и не использовали другие признаки - имена пользователя, дату и местоположение"
      ]
    },
    {
      "cell_type": "markdown",
      "metadata": {
        "id": "52wjewCCo_di"
      },
      "source": [
        "Изучите признаки UserName и ScreenName. полезны ли они? Если полезны, то закодируйте их, добавьте к матрице с отскалированными признаками, обучите логистическую регрессию, замерьте качество."
      ]
    },
    {
      "cell_type": "code",
      "execution_count": 37,
      "metadata": {
        "id": "63thouYZptj6",
        "outputId": "ace786ce-99e9-4a5a-c838-8092458c5e2a",
        "colab": {
          "base_uri": "https://localhost:8080/"
        }
      },
      "outputs": [
        {
          "output_type": "stream",
          "name": "stdout",
          "text": [
            "23410\n",
            "23410\n"
          ]
        },
        {
          "output_type": "execute_result",
          "data": {
            "text/plain": [
              "(23410, 6)"
            ]
          },
          "metadata": {},
          "execution_count": 37
        }
      ],
      "source": [
        "# -- YOUR CODE HERE --\n",
        "print(train['UserName'].nunique())\n",
        "print(train['ScreenName'].nunique())\n",
        "train.shape"
      ]
    },
    {
      "cell_type": "markdown",
      "metadata": {
        "id": "r8_qR-gnpT3a"
      },
      "source": [
        "**Ответ:** # -- YOUR ANSWER HERE -- Они бесполезны, так как все значения уникальны (количество уникальных значений в столбце у юзернэйм и скриннэйм совпадает с количеством строк в датафрейме). Из-за этого модель не выведет никакой закономерности с помощью этих данных."
      ]
    },
    {
      "cell_type": "markdown",
      "metadata": {
        "id": "ythEcFSkt7y3"
      },
      "source": [
        "Изучите признак TweetAt в обучающей выборке: преобразуйте его к типу datetime и нарисуйте его гистограмму с разделением по цвету на основе целевой переменной. Полезен ли он? Если полезен, то закодируйте его, добавьте к матрице с отскалированными признаками, обучите логистическую регрессию, замерьте качество."
      ]
    },
    {
      "cell_type": "code",
      "source": [
        "# -- YOUR CODE HERE --\n",
        "from datetime import datetime\n",
        "train['TweetAt'] = train['TweetAt'].apply(lambda x: datetime.strptime(x, '%d-%m-%Y'))\n",
        "train"
      ],
      "metadata": {
        "id": "Lxb_k0JLirNv",
        "outputId": "428e96ec-8526-4465-fe6e-bc3c062d51e9",
        "colab": {
          "base_uri": "https://localhost:8080/",
          "height": 423
        }
      },
      "execution_count": 38,
      "outputs": [
        {
          "output_type": "execute_result",
          "data": {
            "text/plain": [
              "       UserName  ScreenName                        Location    TweetAt  \\\n",
              "25621     35178       80130                         Unknown 2020-04-06   \n",
              "30135     40819       85771                   Boston, MA HQ 2020-04-10   \n",
              "28899     39249       84201                           India 2020-04-09   \n",
              "5989      11068       56020             Mayfair, London, UK 2020-03-19   \n",
              "4367       9109       54061                             WNC 2020-03-18   \n",
              "...         ...         ...                             ...        ...   \n",
              "20757     29120       74072                         Unknown 2020-03-31   \n",
              "32103     43291       88243  Waterville, Ireland Austin, TX 2020-04-13   \n",
              "30403     41159       86111            Mumbai , Delhi India 2020-04-10   \n",
              "21243     29702       74654                         Unknown 2020-04-01   \n",
              "2732       7104       52056                         Unknown 2020-03-18   \n",
              "\n",
              "                                           OriginalTweet  Sentiment  \n",
              "25621  Why we still want to buy so much stuff during ...          1  \n",
              "30135  With driving even more usage a strong strategy...          1  \n",
              "28899  @Canon_India I am very happy.. Great job by @C...          1  \n",
              "5989   The U.S national debt will likely exceed $30 T...          0  \n",
              "4367   Finally got to the grocery store. Honestly, wh...          1  \n",
              "...                                                  ...        ...  \n",
              "20757  Football is in ruins right now.When it will re...          0  \n",
              "32103  Hand sanitizer made here on the Skellig Coast!...          1  \n",
              "30403  An initiative  taken by our  @GOLDENINITIATI1 ...          1  \n",
              "21243  Vile premiership players demanding full wages ...          0  \n",
              "2732   Just wondering why we arenÃÂt screening at t...          1  \n",
              "\n",
              "[23410 rows x 6 columns]"
            ],
            "text/html": [
              "\n",
              "  <div id=\"df-43c1720c-2b4c-47f5-a126-9f521b5d06ef\" class=\"colab-df-container\">\n",
              "    <div>\n",
              "<style scoped>\n",
              "    .dataframe tbody tr th:only-of-type {\n",
              "        vertical-align: middle;\n",
              "    }\n",
              "\n",
              "    .dataframe tbody tr th {\n",
              "        vertical-align: top;\n",
              "    }\n",
              "\n",
              "    .dataframe thead th {\n",
              "        text-align: right;\n",
              "    }\n",
              "</style>\n",
              "<table border=\"1\" class=\"dataframe\">\n",
              "  <thead>\n",
              "    <tr style=\"text-align: right;\">\n",
              "      <th></th>\n",
              "      <th>UserName</th>\n",
              "      <th>ScreenName</th>\n",
              "      <th>Location</th>\n",
              "      <th>TweetAt</th>\n",
              "      <th>OriginalTweet</th>\n",
              "      <th>Sentiment</th>\n",
              "    </tr>\n",
              "  </thead>\n",
              "  <tbody>\n",
              "    <tr>\n",
              "      <th>25621</th>\n",
              "      <td>35178</td>\n",
              "      <td>80130</td>\n",
              "      <td>Unknown</td>\n",
              "      <td>2020-04-06</td>\n",
              "      <td>Why we still want to buy so much stuff during ...</td>\n",
              "      <td>1</td>\n",
              "    </tr>\n",
              "    <tr>\n",
              "      <th>30135</th>\n",
              "      <td>40819</td>\n",
              "      <td>85771</td>\n",
              "      <td>Boston, MA HQ</td>\n",
              "      <td>2020-04-10</td>\n",
              "      <td>With driving even more usage a strong strategy...</td>\n",
              "      <td>1</td>\n",
              "    </tr>\n",
              "    <tr>\n",
              "      <th>28899</th>\n",
              "      <td>39249</td>\n",
              "      <td>84201</td>\n",
              "      <td>India</td>\n",
              "      <td>2020-04-09</td>\n",
              "      <td>@Canon_India I am very happy.. Great job by @C...</td>\n",
              "      <td>1</td>\n",
              "    </tr>\n",
              "    <tr>\n",
              "      <th>5989</th>\n",
              "      <td>11068</td>\n",
              "      <td>56020</td>\n",
              "      <td>Mayfair, London, UK</td>\n",
              "      <td>2020-03-19</td>\n",
              "      <td>The U.S national debt will likely exceed $30 T...</td>\n",
              "      <td>0</td>\n",
              "    </tr>\n",
              "    <tr>\n",
              "      <th>4367</th>\n",
              "      <td>9109</td>\n",
              "      <td>54061</td>\n",
              "      <td>WNC</td>\n",
              "      <td>2020-03-18</td>\n",
              "      <td>Finally got to the grocery store. Honestly, wh...</td>\n",
              "      <td>1</td>\n",
              "    </tr>\n",
              "    <tr>\n",
              "      <th>...</th>\n",
              "      <td>...</td>\n",
              "      <td>...</td>\n",
              "      <td>...</td>\n",
              "      <td>...</td>\n",
              "      <td>...</td>\n",
              "      <td>...</td>\n",
              "    </tr>\n",
              "    <tr>\n",
              "      <th>20757</th>\n",
              "      <td>29120</td>\n",
              "      <td>74072</td>\n",
              "      <td>Unknown</td>\n",
              "      <td>2020-03-31</td>\n",
              "      <td>Football is in ruins right now.When it will re...</td>\n",
              "      <td>0</td>\n",
              "    </tr>\n",
              "    <tr>\n",
              "      <th>32103</th>\n",
              "      <td>43291</td>\n",
              "      <td>88243</td>\n",
              "      <td>Waterville, Ireland Austin, TX</td>\n",
              "      <td>2020-04-13</td>\n",
              "      <td>Hand sanitizer made here on the Skellig Coast!...</td>\n",
              "      <td>1</td>\n",
              "    </tr>\n",
              "    <tr>\n",
              "      <th>30403</th>\n",
              "      <td>41159</td>\n",
              "      <td>86111</td>\n",
              "      <td>Mumbai , Delhi India</td>\n",
              "      <td>2020-04-10</td>\n",
              "      <td>An initiative  taken by our  @GOLDENINITIATI1 ...</td>\n",
              "      <td>1</td>\n",
              "    </tr>\n",
              "    <tr>\n",
              "      <th>21243</th>\n",
              "      <td>29702</td>\n",
              "      <td>74654</td>\n",
              "      <td>Unknown</td>\n",
              "      <td>2020-04-01</td>\n",
              "      <td>Vile premiership players demanding full wages ...</td>\n",
              "      <td>0</td>\n",
              "    </tr>\n",
              "    <tr>\n",
              "      <th>2732</th>\n",
              "      <td>7104</td>\n",
              "      <td>52056</td>\n",
              "      <td>Unknown</td>\n",
              "      <td>2020-03-18</td>\n",
              "      <td>Just wondering why we arenÃÂt screening at t...</td>\n",
              "      <td>1</td>\n",
              "    </tr>\n",
              "  </tbody>\n",
              "</table>\n",
              "<p>23410 rows × 6 columns</p>\n",
              "</div>\n",
              "    <div class=\"colab-df-buttons\">\n",
              "\n",
              "  <div class=\"colab-df-container\">\n",
              "    <button class=\"colab-df-convert\" onclick=\"convertToInteractive('df-43c1720c-2b4c-47f5-a126-9f521b5d06ef')\"\n",
              "            title=\"Convert this dataframe to an interactive table.\"\n",
              "            style=\"display:none;\">\n",
              "\n",
              "  <svg xmlns=\"http://www.w3.org/2000/svg\" height=\"24px\" viewBox=\"0 -960 960 960\">\n",
              "    <path d=\"M120-120v-720h720v720H120Zm60-500h600v-160H180v160Zm220 220h160v-160H400v160Zm0 220h160v-160H400v160ZM180-400h160v-160H180v160Zm440 0h160v-160H620v160ZM180-180h160v-160H180v160Zm440 0h160v-160H620v160Z\"/>\n",
              "  </svg>\n",
              "    </button>\n",
              "\n",
              "  <style>\n",
              "    .colab-df-container {\n",
              "      display:flex;\n",
              "      gap: 12px;\n",
              "    }\n",
              "\n",
              "    .colab-df-convert {\n",
              "      background-color: #E8F0FE;\n",
              "      border: none;\n",
              "      border-radius: 50%;\n",
              "      cursor: pointer;\n",
              "      display: none;\n",
              "      fill: #1967D2;\n",
              "      height: 32px;\n",
              "      padding: 0 0 0 0;\n",
              "      width: 32px;\n",
              "    }\n",
              "\n",
              "    .colab-df-convert:hover {\n",
              "      background-color: #E2EBFA;\n",
              "      box-shadow: 0px 1px 2px rgba(60, 64, 67, 0.3), 0px 1px 3px 1px rgba(60, 64, 67, 0.15);\n",
              "      fill: #174EA6;\n",
              "    }\n",
              "\n",
              "    .colab-df-buttons div {\n",
              "      margin-bottom: 4px;\n",
              "    }\n",
              "\n",
              "    [theme=dark] .colab-df-convert {\n",
              "      background-color: #3B4455;\n",
              "      fill: #D2E3FC;\n",
              "    }\n",
              "\n",
              "    [theme=dark] .colab-df-convert:hover {\n",
              "      background-color: #434B5C;\n",
              "      box-shadow: 0px 1px 3px 1px rgba(0, 0, 0, 0.15);\n",
              "      filter: drop-shadow(0px 1px 2px rgba(0, 0, 0, 0.3));\n",
              "      fill: #FFFFFF;\n",
              "    }\n",
              "  </style>\n",
              "\n",
              "    <script>\n",
              "      const buttonEl =\n",
              "        document.querySelector('#df-43c1720c-2b4c-47f5-a126-9f521b5d06ef button.colab-df-convert');\n",
              "      buttonEl.style.display =\n",
              "        google.colab.kernel.accessAllowed ? 'block' : 'none';\n",
              "\n",
              "      async function convertToInteractive(key) {\n",
              "        const element = document.querySelector('#df-43c1720c-2b4c-47f5-a126-9f521b5d06ef');\n",
              "        const dataTable =\n",
              "          await google.colab.kernel.invokeFunction('convertToInteractive',\n",
              "                                                    [key], {});\n",
              "        if (!dataTable) return;\n",
              "\n",
              "        const docLinkHtml = 'Like what you see? Visit the ' +\n",
              "          '<a target=\"_blank\" href=https://colab.research.google.com/notebooks/data_table.ipynb>data table notebook</a>'\n",
              "          + ' to learn more about interactive tables.';\n",
              "        element.innerHTML = '';\n",
              "        dataTable['output_type'] = 'display_data';\n",
              "        await google.colab.output.renderOutput(dataTable, element);\n",
              "        const docLink = document.createElement('div');\n",
              "        docLink.innerHTML = docLinkHtml;\n",
              "        element.appendChild(docLink);\n",
              "      }\n",
              "    </script>\n",
              "  </div>\n",
              "\n",
              "\n",
              "    <div id=\"df-6b5a6e44-0ea5-4f4b-99ba-d5055169be92\">\n",
              "      <button class=\"colab-df-quickchart\" onclick=\"quickchart('df-6b5a6e44-0ea5-4f4b-99ba-d5055169be92')\"\n",
              "                title=\"Suggest charts\"\n",
              "                style=\"display:none;\">\n",
              "\n",
              "<svg xmlns=\"http://www.w3.org/2000/svg\" height=\"24px\"viewBox=\"0 0 24 24\"\n",
              "     width=\"24px\">\n",
              "    <g>\n",
              "        <path d=\"M19 3H5c-1.1 0-2 .9-2 2v14c0 1.1.9 2 2 2h14c1.1 0 2-.9 2-2V5c0-1.1-.9-2-2-2zM9 17H7v-7h2v7zm4 0h-2V7h2v10zm4 0h-2v-4h2v4z\"/>\n",
              "    </g>\n",
              "</svg>\n",
              "      </button>\n",
              "\n",
              "<style>\n",
              "  .colab-df-quickchart {\n",
              "      --bg-color: #E8F0FE;\n",
              "      --fill-color: #1967D2;\n",
              "      --hover-bg-color: #E2EBFA;\n",
              "      --hover-fill-color: #174EA6;\n",
              "      --disabled-fill-color: #AAA;\n",
              "      --disabled-bg-color: #DDD;\n",
              "  }\n",
              "\n",
              "  [theme=dark] .colab-df-quickchart {\n",
              "      --bg-color: #3B4455;\n",
              "      --fill-color: #D2E3FC;\n",
              "      --hover-bg-color: #434B5C;\n",
              "      --hover-fill-color: #FFFFFF;\n",
              "      --disabled-bg-color: #3B4455;\n",
              "      --disabled-fill-color: #666;\n",
              "  }\n",
              "\n",
              "  .colab-df-quickchart {\n",
              "    background-color: var(--bg-color);\n",
              "    border: none;\n",
              "    border-radius: 50%;\n",
              "    cursor: pointer;\n",
              "    display: none;\n",
              "    fill: var(--fill-color);\n",
              "    height: 32px;\n",
              "    padding: 0;\n",
              "    width: 32px;\n",
              "  }\n",
              "\n",
              "  .colab-df-quickchart:hover {\n",
              "    background-color: var(--hover-bg-color);\n",
              "    box-shadow: 0 1px 2px rgba(60, 64, 67, 0.3), 0 1px 3px 1px rgba(60, 64, 67, 0.15);\n",
              "    fill: var(--button-hover-fill-color);\n",
              "  }\n",
              "\n",
              "  .colab-df-quickchart-complete:disabled,\n",
              "  .colab-df-quickchart-complete:disabled:hover {\n",
              "    background-color: var(--disabled-bg-color);\n",
              "    fill: var(--disabled-fill-color);\n",
              "    box-shadow: none;\n",
              "  }\n",
              "\n",
              "  .colab-df-spinner {\n",
              "    border: 2px solid var(--fill-color);\n",
              "    border-color: transparent;\n",
              "    border-bottom-color: var(--fill-color);\n",
              "    animation:\n",
              "      spin 1s steps(1) infinite;\n",
              "  }\n",
              "\n",
              "  @keyframes spin {\n",
              "    0% {\n",
              "      border-color: transparent;\n",
              "      border-bottom-color: var(--fill-color);\n",
              "      border-left-color: var(--fill-color);\n",
              "    }\n",
              "    20% {\n",
              "      border-color: transparent;\n",
              "      border-left-color: var(--fill-color);\n",
              "      border-top-color: var(--fill-color);\n",
              "    }\n",
              "    30% {\n",
              "      border-color: transparent;\n",
              "      border-left-color: var(--fill-color);\n",
              "      border-top-color: var(--fill-color);\n",
              "      border-right-color: var(--fill-color);\n",
              "    }\n",
              "    40% {\n",
              "      border-color: transparent;\n",
              "      border-right-color: var(--fill-color);\n",
              "      border-top-color: var(--fill-color);\n",
              "    }\n",
              "    60% {\n",
              "      border-color: transparent;\n",
              "      border-right-color: var(--fill-color);\n",
              "    }\n",
              "    80% {\n",
              "      border-color: transparent;\n",
              "      border-right-color: var(--fill-color);\n",
              "      border-bottom-color: var(--fill-color);\n",
              "    }\n",
              "    90% {\n",
              "      border-color: transparent;\n",
              "      border-bottom-color: var(--fill-color);\n",
              "    }\n",
              "  }\n",
              "</style>\n",
              "\n",
              "      <script>\n",
              "        async function quickchart(key) {\n",
              "          const quickchartButtonEl =\n",
              "            document.querySelector('#' + key + ' button');\n",
              "          quickchartButtonEl.disabled = true;  // To prevent multiple clicks.\n",
              "          quickchartButtonEl.classList.add('colab-df-spinner');\n",
              "          try {\n",
              "            const charts = await google.colab.kernel.invokeFunction(\n",
              "                'suggestCharts', [key], {});\n",
              "          } catch (error) {\n",
              "            console.error('Error during call to suggestCharts:', error);\n",
              "          }\n",
              "          quickchartButtonEl.classList.remove('colab-df-spinner');\n",
              "          quickchartButtonEl.classList.add('colab-df-quickchart-complete');\n",
              "        }\n",
              "        (() => {\n",
              "          let quickchartButtonEl =\n",
              "            document.querySelector('#df-6b5a6e44-0ea5-4f4b-99ba-d5055169be92 button');\n",
              "          quickchartButtonEl.style.display =\n",
              "            google.colab.kernel.accessAllowed ? 'block' : 'none';\n",
              "        })();\n",
              "      </script>\n",
              "    </div>\n",
              "    </div>\n",
              "  </div>\n"
            ],
            "application/vnd.google.colaboratory.intrinsic+json": {
              "type": "dataframe",
              "variable_name": "train",
              "summary": "{\n  \"name\": \"train\",\n  \"rows\": 23410,\n  \"fields\": [\n    {\n      \"column\": \"UserName\",\n      \"properties\": {\n        \"dtype\": \"number\",\n        \"std\": 11880,\n        \"min\": 3800,\n        \"max\": 44953,\n        \"num_unique_values\": 23410,\n        \"samples\": [\n          22348,\n          35556,\n          33042\n        ],\n        \"semantic_type\": \"\",\n        \"description\": \"\"\n      }\n    },\n    {\n      \"column\": \"ScreenName\",\n      \"properties\": {\n        \"dtype\": \"number\",\n        \"std\": 11880,\n        \"min\": 48752,\n        \"max\": 89905,\n        \"num_unique_values\": 23410,\n        \"samples\": [\n          67300,\n          80508,\n          77994\n        ],\n        \"semantic_type\": \"\",\n        \"description\": \"\"\n      }\n    },\n    {\n      \"column\": \"Location\",\n      \"properties\": {\n        \"dtype\": \"category\",\n        \"num_unique_values\": 7949,\n        \"samples\": [\n          \"Brussels, Belgium\",\n          \"Morioh cho\",\n          \"San Jacinto, CA\"\n        ],\n        \"semantic_type\": \"\",\n        \"description\": \"\"\n      }\n    },\n    {\n      \"column\": \"TweetAt\",\n      \"properties\": {\n        \"dtype\": \"date\",\n        \"min\": \"2020-03-16 00:00:00\",\n        \"max\": \"2020-04-14 00:00:00\",\n        \"num_unique_values\": 30,\n        \"samples\": [\n          \"2020-03-31 00:00:00\",\n          \"2020-03-16 00:00:00\",\n          \"2020-03-24 00:00:00\"\n        ],\n        \"semantic_type\": \"\",\n        \"description\": \"\"\n      }\n    },\n    {\n      \"column\": \"OriginalTweet\",\n      \"properties\": {\n        \"dtype\": \"string\",\n        \"num_unique_values\": 23410,\n        \"samples\": [\n          \"#POTUS \\r\\r\\n#FishTankTreatment uses same chemical in  drug you said \\\"game changer\\\" for #coronavirus It's a DIFFERENT form from \\\"hydroxychoronquine\\\", a #Malaria drug Now prices soared to $500+ on bidding sites #BannerHealth says  one DIED in AZ\\r\\r\\nYou are NOT a doctor! #WordsMatter\",\n          \"@dangerfield35 @HabgoodAaron @ReelAdventures_ @1116sen Unless you are fishing from a jetty its quite easy to find a spot with nobody near you. People are less likely to pass on the Covid 19 when fishing than they are going to the Supermarket ( which is es\",\n          \"A Supermarket Chain Was One Of The First To Anticipate Coronavirus. Then It Made A Truly Thoughtful Gesture To Help Local Restaurants | https://t.co/XifCsvX4rb #restaurants #supermarket #coronavirus  https://t.co/oroZoxtSXp\"\n        ],\n        \"semantic_type\": \"\",\n        \"description\": \"\"\n      }\n    },\n    {\n      \"column\": \"Sentiment\",\n      \"properties\": {\n        \"dtype\": \"number\",\n        \"std\": 0,\n        \"min\": 0,\n        \"max\": 1,\n        \"num_unique_values\": 2,\n        \"samples\": [\n          0,\n          1\n        ],\n        \"semantic_type\": \"\",\n        \"description\": \"\"\n      }\n    }\n  ]\n}"
            }
          },
          "metadata": {},
          "execution_count": 38
        }
      ]
    },
    {
      "cell_type": "code",
      "source": [
        "train['TweetAt'].nunique()"
      ],
      "metadata": {
        "id": "rVSo9agd2GRH",
        "outputId": "66467ea2-be03-42fb-82c9-126763be8ef5",
        "colab": {
          "base_uri": "https://localhost:8080/"
        }
      },
      "execution_count": 39,
      "outputs": [
        {
          "output_type": "execute_result",
          "data": {
            "text/plain": [
              "30"
            ]
          },
          "metadata": {},
          "execution_count": 39
        }
      ]
    },
    {
      "cell_type": "markdown",
      "metadata": {
        "id": "4IdLBdpQxM-G"
      },
      "source": [
        "**Ответ:** # -- YOUR ANSWER HERE -- Столбец 'TweetAt' полезен, так как там всего 30 уникальных значений на весь датафрейм из 23410 строк. Модель сможет заметить какие-то закономерности.\n",
        "\n"
      ]
    },
    {
      "cell_type": "code",
      "source": [
        "import matplotlib.pyplot as plt\n",
        "\n",
        "plt.figure(figsize=(12, 6))\n",
        "\n",
        "sns.histplot(data=train, x='TweetAt', hue='Sentiment')"
      ],
      "metadata": {
        "id": "_zC2wOc_5rg0",
        "outputId": "47b8b4c9-905e-4e68-80d7-2aa723d0b404",
        "colab": {
          "base_uri": "https://localhost:8080/",
          "height": 559
        }
      },
      "execution_count": 40,
      "outputs": [
        {
          "output_type": "execute_result",
          "data": {
            "text/plain": [
              "<Axes: xlabel='TweetAt', ylabel='Count'>"
            ]
          },
          "metadata": {},
          "execution_count": 40
        },
        {
          "output_type": "display_data",
          "data": {
            "text/plain": [
              "<Figure size 1200x600 with 1 Axes>"
            ],
            "image/png": "[encoded data removed]"
          },
          "metadata": {}
        }
      ]
    },
    {
      "cell_type": "code",
      "source": [],
      "metadata": {
        "id": "wZy2heT5U5pv"
      },
      "execution_count": 40,
      "outputs": []
    },
    {
      "cell_type": "markdown",
      "source": [
        "Поработайте с признаком Location в обучающей выборке. Сколько уникальных значений?"
      ],
      "metadata": {
        "id": "r2JtRPhNP6qx"
      }
    },
    {
      "cell_type": "code",
      "source": [
        "# -- YOUR CODE HERE --\n",
        "train['Location'].nunique()"
      ],
      "metadata": {
        "id": "xYQZQ1FRNpoe",
        "outputId": "c24558b2-442c-4f60-a031-524265b274c1",
        "colab": {
          "base_uri": "https://localhost:8080/"
        }
      },
      "execution_count": 41,
      "outputs": [
        {
          "output_type": "execute_result",
          "data": {
            "text/plain": [
              "7949"
            ]
          },
          "metadata": {},
          "execution_count": 41
        }
      ]
    },
    {
      "cell_type": "markdown",
      "source": [
        "7949 уникальных значений"
      ],
      "metadata": {
        "id": "ya9hiMSieN69"
      }
    },
    {
      "cell_type": "markdown",
      "source": [
        "Постройте гистограмму топ-10 по популярности местоположений (исключая Unknown)"
      ],
      "metadata": {
        "id": "6k4JwpRTQISa"
      }
    },
    {
      "cell_type": "code",
      "source": [
        "# -- YOUR CODE HERE --\n",
        "loc_top_10 = train['Location'].value_counts()[1:11]\n",
        "\n",
        "plt.figure(figsize=(12, 6))\n",
        "loc_top_10.plot(kind='bar')\n",
        "\n",
        "plt.title('Топ-10 по популярности местоположений')\n",
        "plt.xlabel('Местоположение')\n",
        "plt.ylabel('Популярность')\n",
        "plt.show()\n",
        "\n"
      ],
      "metadata": {
        "id": "J91YkhegJ0mz",
        "outputId": "23fdea3c-3b33-4871-c811-600edd33b824",
        "colab": {
          "base_uri": "https://localhost:8080/",
          "height": 666
        }
      },
      "execution_count": 42,
      "outputs": [
        {
          "output_type": "display_data",
          "data": {
            "text/plain": [
              "<Figure size 1200x600 with 1 Axes>"
            ],
            "image/png": "[encoded data removed]"
          },
          "metadata": {}
        }
      ]
    },
    {
      "cell_type": "markdown",
      "source": [
        "Видно, что многие местоположения включают в себя более точное название места, чем другие (Например, у некоторых стоит London, UK; а у некоторых просто UK или United Kingdom).\n",
        "\n",
        "Создайте новый признак WiderLocation, который содержит самое широкое местоположение (например, из London, UK должно получиться UK). Сколько уникальных категорий теперь? Постройте аналогичную гистограмму."
      ],
      "metadata": {
        "id": "ZOsv3lODTfYB"
      }
    },
    {
      "cell_type": "code",
      "source": [
        "# -- YOUR CODE HERE --\n",
        "train['Location'].nunique()\n",
        "train['WiderLocation'] = train['Location'].str.split(',').str[-1].str.strip()\n",
        "c = train['WiderLocation'].nunique()\n",
        "wider_loc_top_10 = train['WiderLocation'].value_counts()[1:11]\n",
        "\n",
        "print(f'теперь {c} уникальных категорий')\n",
        "\n",
        "\n",
        "\n",
        "plt.figure(figsize=(12, 6))\n",
        "wider_loc_top_10.plot(kind='bar')\n",
        "\n",
        "plt.title('Топ-10 по популярности местоположений')\n",
        "plt.xlabel('Местоположение')\n",
        "plt.ylabel('Популярность')\n",
        "plt.show()"
      ],
      "metadata": {
        "id": "mSkow6acOMyD",
        "outputId": "6fb3fb27-c639-41c0-dd20-e15b069ac276",
        "colab": {
          "base_uri": "https://localhost:8080/",
          "height": 678
        }
      },
      "execution_count": 43,
      "outputs": [
        {
          "output_type": "stream",
          "name": "stdout",
          "text": [
            "теперь 4631 уникальных категорий\n"
          ]
        },
        {
          "output_type": "display_data",
          "data": {
            "text/plain": [
              "<Figure size 1200x600 with 1 Axes>"
            ],
            "image/png": "[encoded data removed]"
          },
          "metadata": {}
        }
      ]
    },
    {
      "cell_type": "markdown",
      "source": [
        "Закодируйте признак WiderLocation с помощью OHE таким образом, чтобы создались только столбцы для местоположений, которые встречаются более одного раза. Сколько таких значений?\n"
      ],
      "metadata": {
        "id": "cgyWrD2eVfff"
      }
    },
    {
      "cell_type": "code",
      "source": [
        "# -- YOUR CODE HERE --\n",
        "wider_location = train['WiderLocation'].value_counts()\n",
        "wider_location_more_1 = wider_location[wider_location > 1].index\n",
        "WiderLocation_OHE = pd.get_dummies(train.loc[train['WiderLocation'].isin(wider_location_more_1), 'WiderLocation'],\n",
        "                                   prefix='WiderLocation')\n",
        "WiderLocation_OHE"
      ],
      "metadata": {
        "id": "SeJBfBWgPvg_",
        "outputId": "ec4509eb-e304-4027-d551-03a4b19263e2",
        "colab": {
          "base_uri": "https://localhost:8080/",
          "height": 461
        }
      },
      "execution_count": null,
      "outputs": [
        {
          "output_type": "execute_result",
          "data": {
            "text/plain": [
              "       WiderLocation_  WiderLocation_#Africa  \\\n",
              "25621           False                  False   \n",
              "28899           False                  False   \n",
              "5989            False                  False   \n",
              "21350           False                  False   \n",
              "15378           False                  False   \n",
              "...               ...                    ...   \n",
              "20757           False                  False   \n",
              "32103           False                  False   \n",
              "30403           False                  False   \n",
              "21243           False                  False   \n",
              "2732            False                  False   \n",
              "\n",
              "       WiderLocation_#BayArea #SouthBay Bureau  \\\n",
              "25621                                    False   \n",
              "28899                                    False   \n",
              "5989                                     False   \n",
              "21350                                    False   \n",
              "15378                                    False   \n",
              "...                                        ...   \n",
              "20757                                    False   \n",
              "32103                                    False   \n",
              "30403                                    False   \n",
              "21243                                    False   \n",
              "2732                                     False   \n",
              "\n",
              "       WiderLocation_#OKC?? PGH??&Colombo-5??  \\\n",
              "25621                                   False   \n",
              "28899                                   False   \n",
              "5989                                    False   \n",
              "21350                                   False   \n",
              "15378                                   False   \n",
              "...                                       ...   \n",
              "20757                                   False   \n",
              "32103                                   False   \n",
              "30403                                   False   \n",
              "21243                                   False   \n",
              "2732                                    False   \n",
              "\n",
              "       WiderLocation_#RemoteWork #Boston #NYC  \\\n",
              "25621                                   False   \n",
              "28899                                   False   \n",
              "5989                                    False   \n",
              "21350                                   False   \n",
              "15378                                   False   \n",
              "...                                       ...   \n",
              "20757                                   False   \n",
              "32103                                   False   \n",
              "30403                                   False   \n",
              "21243                                   False   \n",
              "2732                                    False   \n",
              "\n",
              "       WiderLocation_#WeAreThePatriots  WiderLocation_& Sacramento  \\\n",
              "25621                            False                       False   \n",
              "28899                            False                       False   \n",
              "5989                             False                       False   \n",
              "21350                            False                       False   \n",
              "15378                            False                       False   \n",
              "...                                ...                         ...   \n",
              "20757                            False                       False   \n",
              "32103                            False                       False   \n",
              "30403                            False                       False   \n",
              "21243                            False                       False   \n",
              "2732                             False                       False   \n",
              "\n",
              "       WiderLocation_-80.143211  WiderLocation_-85.959195  \\\n",
              "25621                     False                     False   \n",
              "28899                     False                     False   \n",
              "5989                      False                     False   \n",
              "21350                     False                     False   \n",
              "15378                     False                     False   \n",
              "...                         ...                       ...   \n",
              "20757                     False                     False   \n",
              "32103                     False                     False   \n",
              "30403                     False                     False   \n",
              "21243                     False                     False   \n",
              "2732                      False                     False   \n",
              "\n",
              "       WiderLocation_127.0.0.1  ...  WiderLocation_uk  WiderLocation_up  \\\n",
              "25621                    False  ...             False             False   \n",
              "28899                    False  ...             False             False   \n",
              "5989                     False  ...             False             False   \n",
              "21350                    False  ...             False             False   \n",
              "15378                    False  ...             False             False   \n",
              "...                        ...  ...               ...               ...   \n",
              "20757                    False  ...             False             False   \n",
              "32103                    False  ...             False             False   \n",
              "30403                    False  ...             False             False   \n",
              "21243                    False  ...             False             False   \n",
              "2732                     False  ...             False             False   \n",
              "\n",
              "       WiderLocation_usa  WiderLocation_washington  WiderLocation_will travel  \\\n",
              "25621              False                     False                      False   \n",
              "28899              False                     False                      False   \n",
              "5989               False                     False                      False   \n",
              "21350              False                     False                      False   \n",
              "15378              False                     False                      False   \n",
              "...                  ...                       ...                        ...   \n",
              "20757              False                     False                      False   \n",
              "32103              False                     False                      False   \n",
              "30403              False                     False                      False   \n",
              "21243              False                     False                      False   \n",
              "2732               False                     False                      False   \n",
              "\n",
              "       WiderLocation_world  WiderLocation_worldwide  WiderLocation_y'all  \\\n",
              "25621                False                    False                False   \n",
              "28899                False                    False                False   \n",
              "5989                 False                    False                False   \n",
              "21350                False                    False                False   \n",
              "15378                False                    False                False   \n",
              "...                    ...                      ...                  ...   \n",
              "20757                False                    False                False   \n",
              "32103                False                    False                False   \n",
              "30403                False                    False                False   \n",
              "21243                False                    False                False   \n",
              "2732                 False                    False                False   \n",
              "\n",
              "       WiderLocation_||somali|kenyan??  WiderLocation_ÃÂ¯\\_(?)_/ÃÂ¯  \n",
              "25621                            False                          False  \n",
              "28899                            False                          False  \n",
              "5989                             False                          False  \n",
              "21350                            False                          False  \n",
              "15378                            False                          False  \n",
              "...                                ...                            ...  \n",
              "20757                            False                          False  \n",
              "32103                            False                          False  \n",
              "30403                            False                          False  \n",
              "21243                            False                          False  \n",
              "2732                             False                          False  \n",
              "\n",
              "[19767 rows x 988 columns]"
            ],
            "text/html": [
              "\n",
              "  <div id=\"df-924d667a-75e2-48eb-956b-400b4bd9e317\" class=\"colab-df-container\">\n",
              "    <div>\n",
              "<style scoped>\n",
              "    .dataframe tbody tr th:only-of-type {\n",
              "        vertical-align: middle;\n",
              "    }\n",
              "\n",
              "    .dataframe tbody tr th {\n",
              "        vertical-align: top;\n",
              "    }\n",
              "\n",
              "    .dataframe thead th {\n",
              "        text-align: right;\n",
              "    }\n",
              "</style>\n",
              "<table border=\"1\" class=\"dataframe\">\n",
              "  <thead>\n",
              "    <tr style=\"text-align: right;\">\n",
              "      <th></th>\n",
              "      <th>WiderLocation_</th>\n",
              "      <th>WiderLocation_#Africa</th>\n",
              "      <th>WiderLocation_#BayArea #SouthBay Bureau</th>\n",
              "      <th>WiderLocation_#OKC?? PGH??&amp;Colombo-5??</th>\n",
              "      <th>WiderLocation_#RemoteWork #Boston #NYC</th>\n",
              "      <th>WiderLocation_#WeAreThePatriots</th>\n",
              "      <th>WiderLocation_&amp; Sacramento</th>\n",
              "      <th>WiderLocation_-80.143211</th>\n",
              "      <th>WiderLocation_-85.959195</th>\n",
              "      <th>WiderLocation_127.0.0.1</th>\n",
              "      <th>...</th>\n",
              "      <th>WiderLocation_uk</th>\n",
              "      <th>WiderLocation_up</th>\n",
              "      <th>WiderLocation_usa</th>\n",
              "      <th>WiderLocation_washington</th>\n",
              "      <th>WiderLocation_will travel</th>\n",
              "      <th>WiderLocation_world</th>\n",
              "      <th>WiderLocation_worldwide</th>\n",
              "      <th>WiderLocation_y'all</th>\n",
              "      <th>WiderLocation_||somali|kenyan??</th>\n",
              "      <th>WiderLocation_ÃÂ¯\\_(?)_/ÃÂ¯</th>\n",
              "    </tr>\n",
              "  </thead>\n",
              "  <tbody>\n",
              "    <tr>\n",
              "      <th>25621</th>\n",
              "      <td>False</td>\n",
              "      <td>False</td>\n",
              "      <td>False</td>\n",
              "      <td>False</td>\n",
              "      <td>False</td>\n",
              "      <td>False</td>\n",
              "      <td>False</td>\n",
              "      <td>False</td>\n",
              "      <td>False</td>\n",
              "      <td>False</td>\n",
              "      <td>...</td>\n",
              "      <td>False</td>\n",
              "      <td>False</td>\n",
              "      <td>False</td>\n",
              "      <td>False</td>\n",
              "      <td>False</td>\n",
              "      <td>False</td>\n",
              "      <td>False</td>\n",
              "      <td>False</td>\n",
              "      <td>False</td>\n",
              "      <td>False</td>\n",
              "    </tr>\n",
              "    <tr>\n",
              "      <th>28899</th>\n",
              "      <td>False</td>\n",
              "      <td>False</td>\n",
              "      <td>False</td>\n",
              "      <td>False</td>\n",
              "      <td>False</td>\n",
              "      <td>False</td>\n",
              "      <td>False</td>\n",
              "      <td>False</td>\n",
              "      <td>False</td>\n",
              "      <td>False</td>\n",
              "      <td>...</td>\n",
              "      <td>False</td>\n",
              "      <td>False</td>\n",
              "      <td>False</td>\n",
              "      <td>False</td>\n",
              "      <td>False</td>\n",
              "      <td>False</td>\n",
              "      <td>False</td>\n",
              "      <td>False</td>\n",
              "      <td>False</td>\n",
              "      <td>False</td>\n",
              "    </tr>\n",
              "    <tr>\n",
              "      <th>5989</th>\n",
              "      <td>False</td>\n",
              "      <td>False</td>\n",
              "      <td>False</td>\n",
              "      <td>False</td>\n",
              "      <td>False</td>\n",
              "      <td>False</td>\n",
              "      <td>False</td>\n",
              "      <td>False</td>\n",
              "      <td>False</td>\n",
              "      <td>False</td>\n",
              "      <td>...</td>\n",
              "      <td>False</td>\n",
              "      <td>False</td>\n",
              "      <td>False</td>\n",
              "      <td>False</td>\n",
              "      <td>False</td>\n",
              "      <td>False</td>\n",
              "      <td>False</td>\n",
              "      <td>False</td>\n",
              "      <td>False</td>\n",
              "      <td>False</td>\n",
              "    </tr>\n",
              "    <tr>\n",
              "      <th>21350</th>\n",
              "      <td>False</td>\n",
              "      <td>False</td>\n",
              "      <td>False</td>\n",
              "      <td>False</td>\n",
              "      <td>False</td>\n",
              "      <td>False</td>\n",
              "      <td>False</td>\n",
              "      <td>False</td>\n",
              "      <td>False</td>\n",
              "      <td>False</td>\n",
              "      <td>...</td>\n",
              "      <td>False</td>\n",
              "      <td>False</td>\n",
              "      <td>False</td>\n",
              "      <td>False</td>\n",
              "      <td>False</td>\n",
              "      <td>False</td>\n",
              "      <td>False</td>\n",
              "      <td>False</td>\n",
              "      <td>False</td>\n",
              "      <td>False</td>\n",
              "    </tr>\n",
              "    <tr>\n",
              "      <th>15378</th>\n",
              "      <td>False</td>\n",
              "      <td>False</td>\n",
              "      <td>False</td>\n",
              "      <td>False</td>\n",
              "      <td>False</td>\n",
              "      <td>False</td>\n",
              "      <td>False</td>\n",
              "      <td>False</td>\n",
              "      <td>False</td>\n",
              "      <td>False</td>\n",
              "      <td>...</td>\n",
              "      <td>False</td>\n",
              "      <td>False</td>\n",
              "      <td>False</td>\n",
              "      <td>False</td>\n",
              "      <td>False</td>\n",
              "      <td>False</td>\n",
              "      <td>False</td>\n",
              "      <td>False</td>\n",
              "      <td>False</td>\n",
              "      <td>False</td>\n",
              "    </tr>\n",
              "    <tr>\n",
              "      <th>...</th>\n",
              "      <td>...</td>\n",
              "      <td>...</td>\n",
              "      <td>...</td>\n",
              "      <td>...</td>\n",
              "      <td>...</td>\n",
              "      <td>...</td>\n",
              "      <td>...</td>\n",
              "      <td>...</td>\n",
              "      <td>...</td>\n",
              "      <td>...</td>\n",
              "      <td>...</td>\n",
              "      <td>...</td>\n",
              "      <td>...</td>\n",
              "      <td>...</td>\n",
              "      <td>...</td>\n",
              "      <td>...</td>\n",
              "      <td>...</td>\n",
              "      <td>...</td>\n",
              "      <td>...</td>\n",
              "      <td>...</td>\n",
              "      <td>...</td>\n",
              "    </tr>\n",
              "    <tr>\n",
              "      <th>20757</th>\n",
              "      <td>False</td>\n",
              "      <td>False</td>\n",
              "      <td>False</td>\n",
              "      <td>False</td>\n",
              "      <td>False</td>\n",
              "      <td>False</td>\n",
              "      <td>False</td>\n",
              "      <td>False</td>\n",
              "      <td>False</td>\n",
              "      <td>False</td>\n",
              "      <td>...</td>\n",
              "      <td>False</td>\n",
              "      <td>False</td>\n",
              "      <td>False</td>\n",
              "      <td>False</td>\n",
              "      <td>False</td>\n",
              "      <td>False</td>\n",
              "      <td>False</td>\n",
              "      <td>False</td>\n",
              "      <td>False</td>\n",
              "      <td>False</td>\n",
              "    </tr>\n",
              "    <tr>\n",
              "      <th>32103</th>\n",
              "      <td>False</td>\n",
              "      <td>False</td>\n",
              "      <td>False</td>\n",
              "      <td>False</td>\n",
              "      <td>False</td>\n",
              "      <td>False</td>\n",
              "      <td>False</td>\n",
              "      <td>False</td>\n",
              "      <td>False</td>\n",
              "      <td>False</td>\n",
              "      <td>...</td>\n",
              "      <td>False</td>\n",
              "      <td>False</td>\n",
              "      <td>False</td>\n",
              "      <td>False</td>\n",
              "      <td>False</td>\n",
              "      <td>False</td>\n",
              "      <td>False</td>\n",
              "      <td>False</td>\n",
              "      <td>False</td>\n",
              "      <td>False</td>\n",
              "    </tr>\n",
              "    <tr>\n",
              "      <th>30403</th>\n",
              "      <td>False</td>\n",
              "      <td>False</td>\n",
              "      <td>False</td>\n",
              "      <td>False</td>\n",
              "      <td>False</td>\n",
              "      <td>False</td>\n",
              "      <td>False</td>\n",
              "      <td>False</td>\n",
              "      <td>False</td>\n",
              "      <td>False</td>\n",
              "      <td>...</td>\n",
              "      <td>False</td>\n",
              "      <td>False</td>\n",
              "      <td>False</td>\n",
              "      <td>False</td>\n",
              "      <td>False</td>\n",
              "      <td>False</td>\n",
              "      <td>False</td>\n",
              "      <td>False</td>\n",
              "      <td>False</td>\n",
              "      <td>False</td>\n",
              "    </tr>\n",
              "    <tr>\n",
              "      <th>21243</th>\n",
              "      <td>False</td>\n",
              "      <td>False</td>\n",
              "      <td>False</td>\n",
              "      <td>False</td>\n",
              "      <td>False</td>\n",
              "      <td>False</td>\n",
              "      <td>False</td>\n",
              "      <td>False</td>\n",
              "      <td>False</td>\n",
              "      <td>False</td>\n",
              "      <td>...</td>\n",
              "      <td>False</td>\n",
              "      <td>False</td>\n",
              "      <td>False</td>\n",
              "      <td>False</td>\n",
              "      <td>False</td>\n",
              "      <td>False</td>\n",
              "      <td>False</td>\n",
              "      <td>False</td>\n",
              "      <td>False</td>\n",
              "      <td>False</td>\n",
              "    </tr>\n",
              "    <tr>\n",
              "      <th>2732</th>\n",
              "      <td>False</td>\n",
              "      <td>False</td>\n",
              "      <td>False</td>\n",
              "      <td>False</td>\n",
              "      <td>False</td>\n",
              "      <td>False</td>\n",
              "      <td>False</td>\n",
              "      <td>False</td>\n",
              "      <td>False</td>\n",
              "      <td>False</td>\n",
              "      <td>...</td>\n",
              "      <td>False</td>\n",
              "      <td>False</td>\n",
              "      <td>False</td>\n",
              "      <td>False</td>\n",
              "      <td>False</td>\n",
              "      <td>False</td>\n",
              "      <td>False</td>\n",
              "      <td>False</td>\n",
              "      <td>False</td>\n",
              "      <td>False</td>\n",
              "    </tr>\n",
              "  </tbody>\n",
              "</table>\n",
              "<p>19767 rows × 988 columns</p>\n",
              "</div>\n",
              "    <div class=\"colab-df-buttons\">\n",
              "\n",
              "  <div class=\"colab-df-container\">\n",
              "    <button class=\"colab-df-convert\" onclick=\"convertToInteractive('df-924d667a-75e2-48eb-956b-400b4bd9e317')\"\n",
              "            title=\"Convert this dataframe to an interactive table.\"\n",
              "            style=\"display:none;\">\n",
              "\n",
              "  <svg xmlns=\"http://www.w3.org/2000/svg\" height=\"24px\" viewBox=\"0 -960 960 960\">\n",
              "    <path d=\"M120-120v-720h720v720H120Zm60-500h600v-160H180v160Zm220 220h160v-160H400v160Zm0 220h160v-160H400v160ZM180-400h160v-160H180v160Zm440 0h160v-160H620v160ZM180-180h160v-160H180v160Zm440 0h160v-160H620v160Z\"/>\n",
              "  </svg>\n",
              "    </button>\n",
              "\n",
              "  <style>\n",
              "    .colab-df-container {\n",
              "      display:flex;\n",
              "      gap: 12px;\n",
              "    }\n",
              "\n",
              "    .colab-df-convert {\n",
              "      background-color: #E8F0FE;\n",
              "      border: none;\n",
              "      border-radius: 50%;\n",
              "      cursor: pointer;\n",
              "      display: none;\n",
              "      fill: #1967D2;\n",
              "      height: 32px;\n",
              "      padding: 0 0 0 0;\n",
              "      width: 32px;\n",
              "    }\n",
              "\n",
              "    .colab-df-convert:hover {\n",
              "      background-color: #E2EBFA;\n",
              "      box-shadow: 0px 1px 2px rgba(60, 64, 67, 0.3), 0px 1px 3px 1px rgba(60, 64, 67, 0.15);\n",
              "      fill: #174EA6;\n",
              "    }\n",
              "\n",
              "    .colab-df-buttons div {\n",
              "      margin-bottom: 4px;\n",
              "    }\n",
              "\n",
              "    [theme=dark] .colab-df-convert {\n",
              "      background-color: #3B4455;\n",
              "      fill: #D2E3FC;\n",
              "    }\n",
              "\n",
              "    [theme=dark] .colab-df-convert:hover {\n",
              "      background-color: #434B5C;\n",
              "      box-shadow: 0px 1px 3px 1px rgba(0, 0, 0, 0.15);\n",
              "      filter: drop-shadow(0px 1px 2px rgba(0, 0, 0, 0.3));\n",
              "      fill: #FFFFFF;\n",
              "    }\n",
              "  </style>\n",
              "\n",
              "    <script>\n",
              "      const buttonEl =\n",
              "        document.querySelector('#df-924d667a-75e2-48eb-956b-400b4bd9e317 button.colab-df-convert');\n",
              "      buttonEl.style.display =\n",
              "        google.colab.kernel.accessAllowed ? 'block' : 'none';\n",
              "\n",
              "      async function convertToInteractive(key) {\n",
              "        const element = document.querySelector('#df-924d667a-75e2-48eb-956b-400b4bd9e317');\n",
              "        const dataTable =\n",
              "          await google.colab.kernel.invokeFunction('convertToInteractive',\n",
              "                                                    [key], {});\n",
              "        if (!dataTable) return;\n",
              "\n",
              "        const docLinkHtml = 'Like what you see? Visit the ' +\n",
              "          '<a target=\"_blank\" href=https://colab.research.google.com/notebooks/data_table.ipynb>data table notebook</a>'\n",
              "          + ' to learn more about interactive tables.';\n",
              "        element.innerHTML = '';\n",
              "        dataTable['output_type'] = 'display_data';\n",
              "        await google.colab.output.renderOutput(dataTable, element);\n",
              "        const docLink = document.createElement('div');\n",
              "        docLink.innerHTML = docLinkHtml;\n",
              "        element.appendChild(docLink);\n",
              "      }\n",
              "    </script>\n",
              "  </div>\n",
              "\n",
              "\n",
              "    <div id=\"df-102589d7-8b43-4b9a-ba77-ab1cd593c57a\">\n",
              "      <button class=\"colab-df-quickchart\" onclick=\"quickchart('df-102589d7-8b43-4b9a-ba77-ab1cd593c57a')\"\n",
              "                title=\"Suggest charts\"\n",
              "                style=\"display:none;\">\n",
              "\n",
              "<svg xmlns=\"http://www.w3.org/2000/svg\" height=\"24px\"viewBox=\"0 0 24 24\"\n",
              "     width=\"24px\">\n",
              "    <g>\n",
              "        <path d=\"M19 3H5c-1.1 0-2 .9-2 2v14c0 1.1.9 2 2 2h14c1.1 0 2-.9 2-2V5c0-1.1-.9-2-2-2zM9 17H7v-7h2v7zm4 0h-2V7h2v10zm4 0h-2v-4h2v4z\"/>\n",
              "    </g>\n",
              "</svg>\n",
              "      </button>\n",
              "\n",
              "<style>\n",
              "  .colab-df-quickchart {\n",
              "      --bg-color: #E8F0FE;\n",
              "      --fill-color: #1967D2;\n",
              "      --hover-bg-color: #E2EBFA;\n",
              "      --hover-fill-color: #174EA6;\n",
              "      --disabled-fill-color: #AAA;\n",
              "      --disabled-bg-color: #DDD;\n",
              "  }\n",
              "\n",
              "  [theme=dark] .colab-df-quickchart {\n",
              "      --bg-color: #3B4455;\n",
              "      --fill-color: #D2E3FC;\n",
              "      --hover-bg-color: #434B5C;\n",
              "      --hover-fill-color: #FFFFFF;\n",
              "      --disabled-bg-color: #3B4455;\n",
              "      --disabled-fill-color: #666;\n",
              "  }\n",
              "\n",
              "  .colab-df-quickchart {\n",
              "    background-color: var(--bg-color);\n",
              "    border: none;\n",
              "    border-radius: 50%;\n",
              "    cursor: pointer;\n",
              "    display: none;\n",
              "    fill: var(--fill-color);\n",
              "    height: 32px;\n",
              "    padding: 0;\n",
              "    width: 32px;\n",
              "  }\n",
              "\n",
              "  .colab-df-quickchart:hover {\n",
              "    background-color: var(--hover-bg-color);\n",
              "    box-shadow: 0 1px 2px rgba(60, 64, 67, 0.3), 0 1px 3px 1px rgba(60, 64, 67, 0.15);\n",
              "    fill: var(--button-hover-fill-color);\n",
              "  }\n",
              "\n",
              "  .colab-df-quickchart-complete:disabled,\n",
              "  .colab-df-quickchart-complete:disabled:hover {\n",
              "    background-color: var(--disabled-bg-color);\n",
              "    fill: var(--disabled-fill-color);\n",
              "    box-shadow: none;\n",
              "  }\n",
              "\n",
              "  .colab-df-spinner {\n",
              "    border: 2px solid var(--fill-color);\n",
              "    border-color: transparent;\n",
              "    border-bottom-color: var(--fill-color);\n",
              "    animation:\n",
              "      spin 1s steps(1) infinite;\n",
              "  }\n",
              "\n",
              "  @keyframes spin {\n",
              "    0% {\n",
              "      border-color: transparent;\n",
              "      border-bottom-color: var(--fill-color);\n",
              "      border-left-color: var(--fill-color);\n",
              "    }\n",
              "    20% {\n",
              "      border-color: transparent;\n",
              "      border-left-color: var(--fill-color);\n",
              "      border-top-color: var(--fill-color);\n",
              "    }\n",
              "    30% {\n",
              "      border-color: transparent;\n",
              "      border-left-color: var(--fill-color);\n",
              "      border-top-color: var(--fill-color);\n",
              "      border-right-color: var(--fill-color);\n",
              "    }\n",
              "    40% {\n",
              "      border-color: transparent;\n",
              "      border-right-color: var(--fill-color);\n",
              "      border-top-color: var(--fill-color);\n",
              "    }\n",
              "    60% {\n",
              "      border-color: transparent;\n",
              "      border-right-color: var(--fill-color);\n",
              "    }\n",
              "    80% {\n",
              "      border-color: transparent;\n",
              "      border-right-color: var(--fill-color);\n",
              "      border-bottom-color: var(--fill-color);\n",
              "    }\n",
              "    90% {\n",
              "      border-color: transparent;\n",
              "      border-bottom-color: var(--fill-color);\n",
              "    }\n",
              "  }\n",
              "</style>\n",
              "\n",
              "      <script>\n",
              "        async function quickchart(key) {\n",
              "          const quickchartButtonEl =\n",
              "            document.querySelector('#' + key + ' button');\n",
              "          quickchartButtonEl.disabled = true;  // To prevent multiple clicks.\n",
              "          quickchartButtonEl.classList.add('colab-df-spinner');\n",
              "          try {\n",
              "            const charts = await google.colab.kernel.invokeFunction(\n",
              "                'suggestCharts', [key], {});\n",
              "          } catch (error) {\n",
              "            console.error('Error during call to suggestCharts:', error);\n",
              "          }\n",
              "          quickchartButtonEl.classList.remove('colab-df-spinner');\n",
              "          quickchartButtonEl.classList.add('colab-df-quickchart-complete');\n",
              "        }\n",
              "        (() => {\n",
              "          let quickchartButtonEl =\n",
              "            document.querySelector('#df-102589d7-8b43-4b9a-ba77-ab1cd593c57a button');\n",
              "          quickchartButtonEl.style.display =\n",
              "            google.colab.kernel.accessAllowed ? 'block' : 'none';\n",
              "        })();\n",
              "      </script>\n",
              "    </div>\n",
              "    </div>\n",
              "  </div>\n"
            ],
            "application/vnd.google.colaboratory.intrinsic+json": {
              "type": "dataframe",
              "variable_name": "WiderLocation_OHE"
            }
          },
          "metadata": {},
          "execution_count": 91
        }
      ]
    },
    {
      "cell_type": "code",
      "source": [
        "from sklearn.preprocessing import OneHotEncoder\n",
        "\n",
        "wider_location = train['WiderLocation'].value_counts()\n",
        "wider_location_more_1 = wider_location[wider_location > 1].index\n",
        "\n",
        "encoder = OneHotEncoder(categories=[[wider_location_more_1]], sparse_output=False)\n",
        "\n",
        "WiderLocation_OHE = encoder.fit_transform([train['WiderLocation']])"
      ],
      "metadata": {
        "id": "nRN5UuuVo11Q"
      },
      "execution_count": null,
      "outputs": []
    },
    {
      "cell_type": "markdown",
      "source": [
        "Добавьте этот признак к матрице отскалированных текстовых признаков, обучите логистическую регрессию, замерьте качество. Как оно изменилось? Оказался ли признак полезным?\n",
        "\n",
        "\n",
        "*Подсказка:* используйте параметр `categories` в энкодере."
      ],
      "metadata": {
        "id": "ZyMX5kZuimPK"
      }
    },
    {
      "cell_type": "code",
      "source": [
        "# -- YOUR CODE HERE --\n",
        "new_train = pd.concat([train, WiderLocation_OHE], axis=1).fillna(0)\n",
        "\n",
        "lr = LogisticRegression()"
      ],
      "metadata": {
        "id": "EO1jNPeeim7A",
        "outputId": "bdf68b4f-3dae-4273-929e-3203543a3403",
        "colab": {
          "base_uri": "https://localhost:8080/",
          "height": 825
        }
      },
      "execution_count": null,
      "outputs": [
        {
          "output_type": "execute_result",
          "data": {
            "text/plain": [
              "       UserName  ScreenName                        Location    TweetAt  \\\n",
              "25621     35178       80130                         Unknown 2020-04-06   \n",
              "30135     40819       85771                   Boston, MA HQ 2020-04-10   \n",
              "28899     39249       84201                           India 2020-04-09   \n",
              "5989      11068       56020             Mayfair, London, UK 2020-03-19   \n",
              "4367       9109       54061                             WNC 2020-03-18   \n",
              "...         ...         ...                             ...        ...   \n",
              "20757     29120       74072                         Unknown 2020-03-31   \n",
              "32103     43291       88243  Waterville, Ireland Austin, TX 2020-04-13   \n",
              "30403     41159       86111            Mumbai , Delhi India 2020-04-10   \n",
              "21243     29702       74654                         Unknown 2020-04-01   \n",
              "2732       7104       52056                         Unknown 2020-03-18   \n",
              "\n",
              "                                           OriginalTweet  Sentiment  \\\n",
              "25621  Why we still want to buy so much stuff during ...          1   \n",
              "30135  With driving even more usage a strong strategy...          1   \n",
              "28899  @Canon_India I am very happy.. Great job by @C...          1   \n",
              "5989   The U.S national debt will likely exceed $30 T...          0   \n",
              "4367   Finally got to the grocery store. Honestly, wh...          1   \n",
              "...                                                  ...        ...   \n",
              "20757  Football is in ruins right now.When it will re...          0   \n",
              "32103  Hand sanitizer made here on the Skellig Coast!...          1   \n",
              "30403  An initiative  taken by our  @GOLDENINITIATI1 ...          1   \n",
              "21243  Vile premiership players demanding full wages ...          0   \n",
              "2732   Just wondering why we arenÃÂt screening at t...          1   \n",
              "\n",
              "      WiderLocation WiderLocation_ WiderLocation_#Africa  \\\n",
              "25621       Unknown          False                 False   \n",
              "30135         MA HQ              0                     0   \n",
              "28899         India          False                 False   \n",
              "5989             UK          False                 False   \n",
              "4367            WNC              0                     0   \n",
              "...             ...            ...                   ...   \n",
              "20757       Unknown          False                 False   \n",
              "32103            TX          False                 False   \n",
              "30403   Delhi India          False                 False   \n",
              "21243       Unknown          False                 False   \n",
              "2732        Unknown          False                 False   \n",
              "\n",
              "      WiderLocation_#BayArea #SouthBay Bureau  ... WiderLocation_uk  \\\n",
              "25621                                   False  ...            False   \n",
              "30135                                       0  ...                0   \n",
              "28899                                   False  ...            False   \n",
              "5989                                    False  ...            False   \n",
              "4367                                        0  ...                0   \n",
              "...                                       ...  ...              ...   \n",
              "20757                                   False  ...            False   \n",
              "32103                                   False  ...            False   \n",
              "30403                                   False  ...            False   \n",
              "21243                                   False  ...            False   \n",
              "2732                                    False  ...            False   \n",
              "\n",
              "      WiderLocation_up WiderLocation_usa WiderLocation_washington  \\\n",
              "25621            False             False                    False   \n",
              "30135                0                 0                        0   \n",
              "28899            False             False                    False   \n",
              "5989             False             False                    False   \n",
              "4367                 0                 0                        0   \n",
              "...                ...               ...                      ...   \n",
              "20757            False             False                    False   \n",
              "32103            False             False                    False   \n",
              "30403            False             False                    False   \n",
              "21243            False             False                    False   \n",
              "2732             False             False                    False   \n",
              "\n",
              "      WiderLocation_will travel WiderLocation_world WiderLocation_worldwide  \\\n",
              "25621                     False               False                   False   \n",
              "30135                         0                   0                       0   \n",
              "28899                     False               False                   False   \n",
              "5989                      False               False                   False   \n",
              "4367                          0                   0                       0   \n",
              "...                         ...                 ...                     ...   \n",
              "20757                     False               False                   False   \n",
              "32103                     False               False                   False   \n",
              "30403                     False               False                   False   \n",
              "21243                     False               False                   False   \n",
              "2732                      False               False                   False   \n",
              "\n",
              "      WiderLocation_y'all WiderLocation_||somali|kenyan??  \\\n",
              "25621               False                           False   \n",
              "30135                   0                               0   \n",
              "28899               False                           False   \n",
              "5989                False                           False   \n",
              "4367                    0                               0   \n",
              "...                   ...                             ...   \n",
              "20757               False                           False   \n",
              "32103               False                           False   \n",
              "30403               False                           False   \n",
              "21243               False                           False   \n",
              "2732                False                           False   \n",
              "\n",
              "      WiderLocation_ÃÂ¯\\_(?)_/ÃÂ¯  \n",
              "25621                         False  \n",
              "30135                             0  \n",
              "28899                         False  \n",
              "5989                          False  \n",
              "4367                              0  \n",
              "...                             ...  \n",
              "20757                         False  \n",
              "32103                         False  \n",
              "30403                         False  \n",
              "21243                         False  \n",
              "2732                          False  \n",
              "\n",
              "[23410 rows x 995 columns]"
            ],
            "text/html": [
              "\n",
              "  <div id=\"df-d883a399-f01f-4795-b635-2619e3537d75\" class=\"colab-df-container\">\n",
              "    <div>\n",
              "<style scoped>\n",
              "    .dataframe tbody tr th:only-of-type {\n",
              "        vertical-align: middle;\n",
              "    }\n",
              "\n",
              "    .dataframe tbody tr th {\n",
              "        vertical-align: top;\n",
              "    }\n",
              "\n",
              "    .dataframe thead th {\n",
              "        text-align: right;\n",
              "    }\n",
              "</style>\n",
              "<table border=\"1\" class=\"dataframe\">\n",
              "  <thead>\n",
              "    <tr style=\"text-align: right;\">\n",
              "      <th></th>\n",
              "      <th>UserName</th>\n",
              "      <th>ScreenName</th>\n",
              "      <th>Location</th>\n",
              "      <th>TweetAt</th>\n",
              "      <th>OriginalTweet</th>\n",
              "      <th>Sentiment</th>\n",
              "      <th>WiderLocation</th>\n",
              "      <th>WiderLocation_</th>\n",
              "      <th>WiderLocation_#Africa</th>\n",
              "      <th>WiderLocation_#BayArea #SouthBay Bureau</th>\n",
              "      <th>...</th>\n",
              "      <th>WiderLocation_uk</th>\n",
              "      <th>WiderLocation_up</th>\n",
              "      <th>WiderLocation_usa</th>\n",
              "      <th>WiderLocation_washington</th>\n",
              "      <th>WiderLocation_will travel</th>\n",
              "      <th>WiderLocation_world</th>\n",
              "      <th>WiderLocation_worldwide</th>\n",
              "      <th>WiderLocation_y'all</th>\n",
              "      <th>WiderLocation_||somali|kenyan??</th>\n",
              "      <th>WiderLocation_ÃÂ¯\\_(?)_/ÃÂ¯</th>\n",
              "    </tr>\n",
              "  </thead>\n",
              "  <tbody>\n",
              "    <tr>\n",
              "      <th>25621</th>\n",
              "      <td>35178</td>\n",
              "      <td>80130</td>\n",
              "      <td>Unknown</td>\n",
              "      <td>2020-04-06</td>\n",
              "      <td>Why we still want to buy so much stuff during ...</td>\n",
              "      <td>1</td>\n",
              "      <td>Unknown</td>\n",
              "      <td>False</td>\n",
              "      <td>False</td>\n",
              "      <td>False</td>\n",
              "      <td>...</td>\n",
              "      <td>False</td>\n",
              "      <td>False</td>\n",
              "      <td>False</td>\n",
              "      <td>False</td>\n",
              "      <td>False</td>\n",
              "      <td>False</td>\n",
              "      <td>False</td>\n",
              "      <td>False</td>\n",
              "      <td>False</td>\n",
              "      <td>False</td>\n",
              "    </tr>\n",
              "    <tr>\n",
              "      <th>30135</th>\n",
              "      <td>40819</td>\n",
              "      <td>85771</td>\n",
              "      <td>Boston, MA HQ</td>\n",
              "      <td>2020-04-10</td>\n",
              "      <td>With driving even more usage a strong strategy...</td>\n",
              "      <td>1</td>\n",
              "      <td>MA HQ</td>\n",
              "      <td>0</td>\n",
              "      <td>0</td>\n",
              "      <td>0</td>\n",
              "      <td>...</td>\n",
              "      <td>0</td>\n",
              "      <td>0</td>\n",
              "      <td>0</td>\n",
              "      <td>0</td>\n",
              "      <td>0</td>\n",
              "      <td>0</td>\n",
              "      <td>0</td>\n",
              "      <td>0</td>\n",
              "      <td>0</td>\n",
              "      <td>0</td>\n",
              "    </tr>\n",
              "    <tr>\n",
              "      <th>28899</th>\n",
              "      <td>39249</td>\n",
              "      <td>84201</td>\n",
              "      <td>India</td>\n",
              "      <td>2020-04-09</td>\n",
              "      <td>@Canon_India I am very happy.. Great job by @C...</td>\n",
              "      <td>1</td>\n",
              "      <td>India</td>\n",
              "      <td>False</td>\n",
              "      <td>False</td>\n",
              "      <td>False</td>\n",
              "      <td>...</td>\n",
              "      <td>False</td>\n",
              "      <td>False</td>\n",
              "      <td>False</td>\n",
              "      <td>False</td>\n",
              "      <td>False</td>\n",
              "      <td>False</td>\n",
              "      <td>False</td>\n",
              "      <td>False</td>\n",
              "      <td>False</td>\n",
              "      <td>False</td>\n",
              "    </tr>\n",
              "    <tr>\n",
              "      <th>5989</th>\n",
              "      <td>11068</td>\n",
              "      <td>56020</td>\n",
              "      <td>Mayfair, London, UK</td>\n",
              "      <td>2020-03-19</td>\n",
              "      <td>The U.S national debt will likely exceed $30 T...</td>\n",
              "      <td>0</td>\n",
              "      <td>UK</td>\n",
              "      <td>False</td>\n",
              "      <td>False</td>\n",
              "      <td>False</td>\n",
              "      <td>...</td>\n",
              "      <td>False</td>\n",
              "      <td>False</td>\n",
              "      <td>False</td>\n",
              "      <td>False</td>\n",
              "      <td>False</td>\n",
              "      <td>False</td>\n",
              "      <td>False</td>\n",
              "      <td>False</td>\n",
              "      <td>False</td>\n",
              "      <td>False</td>\n",
              "    </tr>\n",
              "    <tr>\n",
              "      <th>4367</th>\n",
              "      <td>9109</td>\n",
              "      <td>54061</td>\n",
              "      <td>WNC</td>\n",
              "      <td>2020-03-18</td>\n",
              "      <td>Finally got to the grocery store. Honestly, wh...</td>\n",
              "      <td>1</td>\n",
              "      <td>WNC</td>\n",
              "      <td>0</td>\n",
              "      <td>0</td>\n",
              "      <td>0</td>\n",
              "      <td>...</td>\n",
              "      <td>0</td>\n",
              "      <td>0</td>\n",
              "      <td>0</td>\n",
              "      <td>0</td>\n",
              "      <td>0</td>\n",
              "      <td>0</td>\n",
              "      <td>0</td>\n",
              "      <td>0</td>\n",
              "      <td>0</td>\n",
              "      <td>0</td>\n",
              "    </tr>\n",
              "    <tr>\n",
              "      <th>...</th>\n",
              "      <td>...</td>\n",
              "      <td>...</td>\n",
              "      <td>...</td>\n",
              "      <td>...</td>\n",
              "      <td>...</td>\n",
              "      <td>...</td>\n",
              "      <td>...</td>\n",
              "      <td>...</td>\n",
              "      <td>...</td>\n",
              "      <td>...</td>\n",
              "      <td>...</td>\n",
              "      <td>...</td>\n",
              "      <td>...</td>\n",
              "      <td>...</td>\n",
              "      <td>...</td>\n",
              "      <td>...</td>\n",
              "      <td>...</td>\n",
              "      <td>...</td>\n",
              "      <td>...</td>\n",
              "      <td>...</td>\n",
              "      <td>...</td>\n",
              "    </tr>\n",
              "    <tr>\n",
              "      <th>20757</th>\n",
              "      <td>29120</td>\n",
              "      <td>74072</td>\n",
              "      <td>Unknown</td>\n",
              "      <td>2020-03-31</td>\n",
              "      <td>Football is in ruins right now.When it will re...</td>\n",
              "      <td>0</td>\n",
              "      <td>Unknown</td>\n",
              "      <td>False</td>\n",
              "      <td>False</td>\n",
              "      <td>False</td>\n",
              "      <td>...</td>\n",
              "      <td>False</td>\n",
              "      <td>False</td>\n",
              "      <td>False</td>\n",
              "      <td>False</td>\n",
              "      <td>False</td>\n",
              "      <td>False</td>\n",
              "      <td>False</td>\n",
              "      <td>False</td>\n",
              "      <td>False</td>\n",
              "      <td>False</td>\n",
              "    </tr>\n",
              "    <tr>\n",
              "      <th>32103</th>\n",
              "      <td>43291</td>\n",
              "      <td>88243</td>\n",
              "      <td>Waterville, Ireland Austin, TX</td>\n",
              "      <td>2020-04-13</td>\n",
              "      <td>Hand sanitizer made here on the Skellig Coast!...</td>\n",
              "      <td>1</td>\n",
              "      <td>TX</td>\n",
              "      <td>False</td>\n",
              "      <td>False</td>\n",
              "      <td>False</td>\n",
              "      <td>...</td>\n",
              "      <td>False</td>\n",
              "      <td>False</td>\n",
              "      <td>False</td>\n",
              "      <td>False</td>\n",
              "      <td>False</td>\n",
              "      <td>False</td>\n",
              "      <td>False</td>\n",
              "      <td>False</td>\n",
              "      <td>False</td>\n",
              "      <td>False</td>\n",
              "    </tr>\n",
              "    <tr>\n",
              "      <th>30403</th>\n",
              "      <td>41159</td>\n",
              "      <td>86111</td>\n",
              "      <td>Mumbai , Delhi India</td>\n",
              "      <td>2020-04-10</td>\n",
              "      <td>An initiative  taken by our  @GOLDENINITIATI1 ...</td>\n",
              "      <td>1</td>\n",
              "      <td>Delhi India</td>\n",
              "      <td>False</td>\n",
              "      <td>False</td>\n",
              "      <td>False</td>\n",
              "      <td>...</td>\n",
              "      <td>False</td>\n",
              "      <td>False</td>\n",
              "      <td>False</td>\n",
              "      <td>False</td>\n",
              "      <td>False</td>\n",
              "      <td>False</td>\n",
              "      <td>False</td>\n",
              "      <td>False</td>\n",
              "      <td>False</td>\n",
              "      <td>False</td>\n",
              "    </tr>\n",
              "    <tr>\n",
              "      <th>21243</th>\n",
              "      <td>29702</td>\n",
              "      <td>74654</td>\n",
              "      <td>Unknown</td>\n",
              "      <td>2020-04-01</td>\n",
              "      <td>Vile premiership players demanding full wages ...</td>\n",
              "      <td>0</td>\n",
              "      <td>Unknown</td>\n",
              "      <td>False</td>\n",
              "      <td>False</td>\n",
              "      <td>False</td>\n",
              "      <td>...</td>\n",
              "      <td>False</td>\n",
              "      <td>False</td>\n",
              "      <td>False</td>\n",
              "      <td>False</td>\n",
              "      <td>False</td>\n",
              "      <td>False</td>\n",
              "      <td>False</td>\n",
              "      <td>False</td>\n",
              "      <td>False</td>\n",
              "      <td>False</td>\n",
              "    </tr>\n",
              "    <tr>\n",
              "      <th>2732</th>\n",
              "      <td>7104</td>\n",
              "      <td>52056</td>\n",
              "      <td>Unknown</td>\n",
              "      <td>2020-03-18</td>\n",
              "      <td>Just wondering why we arenÃÂt screening at t...</td>\n",
              "      <td>1</td>\n",
              "      <td>Unknown</td>\n",
              "      <td>False</td>\n",
              "      <td>False</td>\n",
              "      <td>False</td>\n",
              "      <td>...</td>\n",
              "      <td>False</td>\n",
              "      <td>False</td>\n",
              "      <td>False</td>\n",
              "      <td>False</td>\n",
              "      <td>False</td>\n",
              "      <td>False</td>\n",
              "      <td>False</td>\n",
              "      <td>False</td>\n",
              "      <td>False</td>\n",
              "      <td>False</td>\n",
              "    </tr>\n",
              "  </tbody>\n",
              "</table>\n",
              "<p>23410 rows × 995 columns</p>\n",
              "</div>\n",
              "    <div class=\"colab-df-buttons\">\n",
              "\n",
              "  <div class=\"colab-df-container\">\n",
              "    <button class=\"colab-df-convert\" onclick=\"convertToInteractive('df-d883a399-f01f-4795-b635-2619e3537d75')\"\n",
              "            title=\"Convert this dataframe to an interactive table.\"\n",
              "            style=\"display:none;\">\n",
              "\n",
              "  <svg xmlns=\"http://www.w3.org/2000/svg\" height=\"24px\" viewBox=\"0 -960 960 960\">\n",
              "    <path d=\"M120-120v-720h720v720H120Zm60-500h600v-160H180v160Zm220 220h160v-160H400v160Zm0 220h160v-160H400v160ZM180-400h160v-160H180v160Zm440 0h160v-160H620v160ZM180-180h160v-160H180v160Zm440 0h160v-160H620v160Z\"/>\n",
              "  </svg>\n",
              "    </button>\n",
              "\n",
              "  <style>\n",
              "    .colab-df-container {\n",
              "      display:flex;\n",
              "      gap: 12px;\n",
              "    }\n",
              "\n",
              "    .colab-df-convert {\n",
              "      background-color: #E8F0FE;\n",
              "      border: none;\n",
              "      border-radius: 50%;\n",
              "      cursor: pointer;\n",
              "      display: none;\n",
              "      fill: #1967D2;\n",
              "      height: 32px;\n",
              "      padding: 0 0 0 0;\n",
              "      width: 32px;\n",
              "    }\n",
              "\n",
              "    .colab-df-convert:hover {\n",
              "      background-color: #E2EBFA;\n",
              "      box-shadow: 0px 1px 2px rgba(60, 64, 67, 0.3), 0px 1px 3px 1px rgba(60, 64, 67, 0.15);\n",
              "      fill: #174EA6;\n",
              "    }\n",
              "\n",
              "    .colab-df-buttons div {\n",
              "      margin-bottom: 4px;\n",
              "    }\n",
              "\n",
              "    [theme=dark] .colab-df-convert {\n",
              "      background-color: #3B4455;\n",
              "      fill: #D2E3FC;\n",
              "    }\n",
              "\n",
              "    [theme=dark] .colab-df-convert:hover {\n",
              "      background-color: #434B5C;\n",
              "      box-shadow: 0px 1px 3px 1px rgba(0, 0, 0, 0.15);\n",
              "      filter: drop-shadow(0px 1px 2px rgba(0, 0, 0, 0.3));\n",
              "      fill: #FFFFFF;\n",
              "    }\n",
              "  </style>\n",
              "\n",
              "    <script>\n",
              "      const buttonEl =\n",
              "        document.querySelector('#df-d883a399-f01f-4795-b635-2619e3537d75 button.colab-df-convert');\n",
              "      buttonEl.style.display =\n",
              "        google.colab.kernel.accessAllowed ? 'block' : 'none';\n",
              "\n",
              "      async function convertToInteractive(key) {\n",
              "        const element = document.querySelector('#df-d883a399-f01f-4795-b635-2619e3537d75');\n",
              "        const dataTable =\n",
              "          await google.colab.kernel.invokeFunction('convertToInteractive',\n",
              "                                                    [key], {});\n",
              "        if (!dataTable) return;\n",
              "\n",
              "        const docLinkHtml = 'Like what you see? Visit the ' +\n",
              "          '<a target=\"_blank\" href=https://colab.research.google.com/notebooks/data_table.ipynb>data table notebook</a>'\n",
              "          + ' to learn more about interactive tables.';\n",
              "        element.innerHTML = '';\n",
              "        dataTable['output_type'] = 'display_data';\n",
              "        await google.colab.output.renderOutput(dataTable, element);\n",
              "        const docLink = document.createElement('div');\n",
              "        docLink.innerHTML = docLinkHtml;\n",
              "        element.appendChild(docLink);\n",
              "      }\n",
              "    </script>\n",
              "  </div>\n",
              "\n",
              "\n",
              "    <div id=\"df-af7a41d7-9811-40a6-9e56-f742ec567e1a\">\n",
              "      <button class=\"colab-df-quickchart\" onclick=\"quickchart('df-af7a41d7-9811-40a6-9e56-f742ec567e1a')\"\n",
              "                title=\"Suggest charts\"\n",
              "                style=\"display:none;\">\n",
              "\n",
              "<svg xmlns=\"http://www.w3.org/2000/svg\" height=\"24px\"viewBox=\"0 0 24 24\"\n",
              "     width=\"24px\">\n",
              "    <g>\n",
              "        <path d=\"M19 3H5c-1.1 0-2 .9-2 2v14c0 1.1.9 2 2 2h14c1.1 0 2-.9 2-2V5c0-1.1-.9-2-2-2zM9 17H7v-7h2v7zm4 0h-2V7h2v10zm4 0h-2v-4h2v4z\"/>\n",
              "    </g>\n",
              "</svg>\n",
              "      </button>\n",
              "\n",
              "<style>\n",
              "  .colab-df-quickchart {\n",
              "      --bg-color: #E8F0FE;\n",
              "      --fill-color: #1967D2;\n",
              "      --hover-bg-color: #E2EBFA;\n",
              "      --hover-fill-color: #174EA6;\n",
              "      --disabled-fill-color: #AAA;\n",
              "      --disabled-bg-color: #DDD;\n",
              "  }\n",
              "\n",
              "  [theme=dark] .colab-df-quickchart {\n",
              "      --bg-color: #3B4455;\n",
              "      --fill-color: #D2E3FC;\n",
              "      --hover-bg-color: #434B5C;\n",
              "      --hover-fill-color: #FFFFFF;\n",
              "      --disabled-bg-color: #3B4455;\n",
              "      --disabled-fill-color: #666;\n",
              "  }\n",
              "\n",
              "  .colab-df-quickchart {\n",
              "    background-color: var(--bg-color);\n",
              "    border: none;\n",
              "    border-radius: 50%;\n",
              "    cursor: pointer;\n",
              "    display: none;\n",
              "    fill: var(--fill-color);\n",
              "    height: 32px;\n",
              "    padding: 0;\n",
              "    width: 32px;\n",
              "  }\n",
              "\n",
              "  .colab-df-quickchart:hover {\n",
              "    background-color: var(--hover-bg-color);\n",
              "    box-shadow: 0 1px 2px rgba(60, 64, 67, 0.3), 0 1px 3px 1px rgba(60, 64, 67, 0.15);\n",
              "    fill: var(--button-hover-fill-color);\n",
              "  }\n",
              "\n",
              "  .colab-df-quickchart-complete:disabled,\n",
              "  .colab-df-quickchart-complete:disabled:hover {\n",
              "    background-color: var(--disabled-bg-color);\n",
              "    fill: var(--disabled-fill-color);\n",
              "    box-shadow: none;\n",
              "  }\n",
              "\n",
              "  .colab-df-spinner {\n",
              "    border: 2px solid var(--fill-color);\n",
              "    border-color: transparent;\n",
              "    border-bottom-color: var(--fill-color);\n",
              "    animation:\n",
              "      spin 1s steps(1) infinite;\n",
              "  }\n",
              "\n",
              "  @keyframes spin {\n",
              "    0% {\n",
              "      border-color: transparent;\n",
              "      border-bottom-color: var(--fill-color);\n",
              "      border-left-color: var(--fill-color);\n",
              "    }\n",
              "    20% {\n",
              "      border-color: transparent;\n",
              "      border-left-color: var(--fill-color);\n",
              "      border-top-color: var(--fill-color);\n",
              "    }\n",
              "    30% {\n",
              "      border-color: transparent;\n",
              "      border-left-color: var(--fill-color);\n",
              "      border-top-color: var(--fill-color);\n",
              "      border-right-color: var(--fill-color);\n",
              "    }\n",
              "    40% {\n",
              "      border-color: transparent;\n",
              "      border-right-color: var(--fill-color);\n",
              "      border-top-color: var(--fill-color);\n",
              "    }\n",
              "    60% {\n",
              "      border-color: transparent;\n",
              "      border-right-color: var(--fill-color);\n",
              "    }\n",
              "    80% {\n",
              "      border-color: transparent;\n",
              "      border-right-color: var(--fill-color);\n",
              "      border-bottom-color: var(--fill-color);\n",
              "    }\n",
              "    90% {\n",
              "      border-color: transparent;\n",
              "      border-bottom-color: var(--fill-color);\n",
              "    }\n",
              "  }\n",
              "</style>\n",
              "\n",
              "      <script>\n",
              "        async function quickchart(key) {\n",
              "          const quickchartButtonEl =\n",
              "            document.querySelector('#' + key + ' button');\n",
              "          quickchartButtonEl.disabled = true;  // To prevent multiple clicks.\n",
              "          quickchartButtonEl.classList.add('colab-df-spinner');\n",
              "          try {\n",
              "            const charts = await google.colab.kernel.invokeFunction(\n",
              "                'suggestCharts', [key], {});\n",
              "          } catch (error) {\n",
              "            console.error('Error during call to suggestCharts:', error);\n",
              "          }\n",
              "          quickchartButtonEl.classList.remove('colab-df-spinner');\n",
              "          quickchartButtonEl.classList.add('colab-df-quickchart-complete');\n",
              "        }\n",
              "        (() => {\n",
              "          let quickchartButtonEl =\n",
              "            document.querySelector('#df-af7a41d7-9811-40a6-9e56-f742ec567e1a button');\n",
              "          quickchartButtonEl.style.display =\n",
              "            google.colab.kernel.accessAllowed ? 'block' : 'none';\n",
              "        })();\n",
              "      </script>\n",
              "    </div>\n",
              "    </div>\n",
              "  </div>\n"
            ],
            "application/vnd.google.colaboratory.intrinsic+json": {
              "type": "dataframe",
              "variable_name": "new_train"
            }
          },
          "metadata": {},
          "execution_count": 45
        }
      ]
    },
    {
      "cell_type": "markdown",
      "source": [
        "**Ответ:** # -- YOUR ANSWER HERE --"
      ],
      "metadata": {
        "id": "7dHsGlDRYUQt"
      }
    },
    {
      "cell_type": "code",
      "source": [
        "tree = DecisionTreeRegressor()\n",
        "tree.fit(X_train, y_train)\n",
        "y_pred_train = tree.predict(X_train)\n",
        "y_pred_test = tree.predict(X_test)\n",
        "\n",
        "MSE = mean_squared_error(y_test, y_pred_test)"
      ],
      "metadata": {
        "id": "hDzujX4zHorL"
      },
      "execution_count": null,
      "outputs": []
    },
    {
      "cell_type": "code",
      "source": [
        "base_tree = DecisionTreeRegressor(random_state=123)\n",
        "br = BaggingRegression(base_tree, n_estimators=20)\n",
        "br.fit(X_train, y_train)\n",
        "y_train_pred = br.predict(X_train)\n",
        "y_test_pred = br.predict(X_test)\n",
        "\n",
        "mse1 = mean_squared_error(y_train, y_pred_train)\n",
        "mse2 = mean_squared_error(y_test, y_pred_test)"
      ],
      "metadata": {
        "id": "CeEPSKDIKg2-"
      },
      "execution_count": null,
      "outputs": []
    }
  ],
  "metadata": {
    "colab": {
      "provenance": []
    },
    "kernelspec": {
      "display_name": "Python 3",
      "name": "python3"
    },
    "language_info": {
      "name": "python"
    }
  },
  "nbformat": 4,
  "nbformat_minor": 0
}